{
  "nbformat": 4,
  "nbformat_minor": 0,
  "metadata": {
    "colab": {
      "name": "AT.ipynb",
      "version": "0.3.2",
      "provenance": [],
      "include_colab_link": true
    },
    "kernelspec": {
      "name": "python3",
      "display_name": "Python 3"
    },
    "accelerator": "GPU"
  },
  "cells": [
    {
      "cell_type": "markdown",
      "metadata": {
        "id": "view-in-github",
        "colab_type": "text"
      },
      "source": [
        "<a href=\"https://colab.research.google.com/github/sprerak48/Autonomous-tagging-using-Deep-Learning/blob/Prerak/AT.ipynb\" target=\"_parent\"><img src=\"https://colab.research.google.com/assets/colab-badge.svg\" alt=\"Open In Colab\"/></a>"
      ]
    },
    {
      "metadata": {
        "id": "wBcvAi9TZW_t",
        "colab_type": "code",
        "outputId": "6c1d3386-f65e-44ca-a98d-2b0908017ce5",
        "colab": {
          "base_uri": "https://localhost:8080/",
          "height": 34
        }
      },
      "cell_type": "code",
      "source": [
        "print('Our pythn shared notebook we can code here')"
      ],
      "execution_count": 0,
      "outputs": [
        {
          "output_type": "stream",
          "text": [
            "Our pythn shared notebook we can code here\n"
          ],
          "name": "stdout"
        }
      ]
    },
    {
      "metadata": {
        "id": "ZAfcIE8zZ5p_",
        "colab_type": "code",
        "outputId": "da0e2b06-e41b-4b3e-a1e7-828ddd7ed867",
        "colab": {
          "resources": {
            "http://localhost:8080/nbextensions/google.colab/files.js": {
              "data": "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",
              "ok": true,
              "headers": [
                [
                  "content-type",
                  "application/javascript"
                ]
              ],
              "status": 200,
              "status_text": ""
            }
          },
          "base_uri": "https://localhost:8080/",
          "height": 74
        }
      },
      "cell_type": "code",
      "source": [
        "from google.colab import files\n",
        "uploaded = files.upload()"
      ],
      "execution_count": 2,
      "outputs": [
        {
          "output_type": "display_data",
          "data": {
            "text/html": [
              "\n",
              "     <input type=\"file\" id=\"files-0e715117-cdac-4737-ad4f-3f08bd0cc91a\" name=\"files[]\" multiple disabled />\n",
              "     <output id=\"result-0e715117-cdac-4737-ad4f-3f08bd0cc91a\">\n",
              "      Upload widget is only available when the cell has been executed in the\n",
              "      current browser session. Please rerun this cell to enable.\n",
              "      </output>\n",
              "      <script src=\"/nbextensions/google.colab/files.js\"></script> "
            ],
            "text/plain": [
              "<IPython.core.display.HTML object>"
            ]
          },
          "metadata": {
            "tags": []
          }
        },
        {
          "output_type": "stream",
          "text": [
            "Saving kaggle.json to kaggle.json\n"
          ],
          "name": "stdout"
        }
      ]
    },
    {
      "metadata": {
        "id": "iI-B7nIMciHk",
        "colab_type": "code",
        "colab": {}
      },
      "cell_type": "code",
      "source": [
        "!pip install kaggle\n",
        "!mkdir -p ~/.kaggle\n",
        "!cp kaggle.json ~/.kaggle/\n",
        "!chmod 600 ~/.kaggle/kaggle.json\n"
      ],
      "execution_count": 0,
      "outputs": []
    },
    {
      "metadata": {
        "id": "h_ormtS5eE2B",
        "colab_type": "code",
        "outputId": "38afb30a-3c9a-47be-a69b-b77b82c56d57",
        "colab": {
          "base_uri": "https://localhost:8080/",
          "height": 68
        }
      },
      "cell_type": "code",
      "source": [
        "!kaggle datasets download -d stackoverflow/stacksample"
      ],
      "execution_count": 4,
      "outputs": [
        {
          "output_type": "stream",
          "text": [
            "Downloading stacksample.zip to /content\n",
            " 99% 1.14G/1.15G [00:16<00:00, 69.1MB/s]\n",
            "100% 1.15G/1.15G [00:16<00:00, 74.3MB/s]\n"
          ],
          "name": "stdout"
        }
      ]
    },
    {
      "metadata": {
        "id": "5qRIx_AYeVaR",
        "colab_type": "code",
        "outputId": "ca6323df-bd4a-4008-ad9d-c1180db08636",
        "colab": {
          "base_uri": "https://localhost:8080/",
          "height": 85
        }
      },
      "cell_type": "code",
      "source": [
        "!unzip stacksample\n"
      ],
      "execution_count": 5,
      "outputs": [
        {
          "output_type": "stream",
          "text": [
            "Archive:  stacksample.zip\n",
            "  inflating: Answers.csv             \n",
            "  inflating: Questions.csv           \n",
            "  inflating: Tags.csv                \n"
          ],
          "name": "stdout"
        }
      ]
    },
    {
      "metadata": {
        "id": "yod6E02cGnb_",
        "colab_type": "code",
        "colab": {}
      },
      "cell_type": "code",
      "source": [
        "csv_file = input('Enter the name of your input file: ')\n",
        "txt_file = input('Enter the name of your output file: ')\n",
        "\n",
        "text_list = []\n",
        "\n",
        "with open(csv_file, \"r\") as my_input_file:\n",
        "    for line in my_input_file:\n",
        "        line = line.split(\",\", 2)\n",
        "        text_list.append(\" \".join(line))\n",
        "\n",
        "with open(txt_file, \"w\") as my_output_file:\n",
        "    my_output_file.write(\"#1\\n\")\n",
        "    my_output_file.write(\"double({},{})\\n\".format(len(text_list), 2))\n",
        "    for line in text_list:\n",
        "        my_output_file.write(\"  \" + line)\n",
        "    print('File Successfully written.')"
      ],
      "execution_count": 0,
      "outputs": []
    },
    {
      "metadata": {
        "id": "D9JatTxP4oXw",
        "colab_type": "code",
        "colab": {}
      },
      "cell_type": "code",
      "source": [
        "import collections\n",
        "import pandas as pd\n",
        "import numpy as np\n",
        "import matplotlib.pyplot as plt\n",
        "import matplotlib.cm as cm\n",
        "%matplotlib inline\n",
        "import math\n",
        "\n",
        "questions = pd.read_csv(\"Questions.csv\", encoding='latin1')\n",
        "answers = pd.read_csv(\"Answers.csv\", encoding='latin1')\n",
        "tags = pd.read_csv(\"Tags.csv\", encoding='latin1')"
      ],
      "execution_count": 0,
      "outputs": []
    },
    {
      "metadata": {
        "id": "lfmmI-Vk5As2",
        "colab_type": "code",
        "colab": {}
      },
      "cell_type": "code",
      "source": [
        "ans_per_question = collections.Counter(answers['ParentId'])\n",
        "answerid,noAnswers= zip(*ans_per_question.most_common())\n",
        "text = \"Avegrage number of answers per question \",np.mean(noAnswers)"
      ],
      "execution_count": 0,
      "outputs": []
    },
    {
      "metadata": {
        "id": "Iu6rUZAI5QaX",
        "colab_type": "code",
        "outputId": "677eced5-bb72-49a4-a199-9ebd45cb4143",
        "colab": {
          "base_uri": "https://localhost:8080/",
          "height": 294
        }
      },
      "cell_type": "code",
      "source": [
        "N=20\n",
        "plt.bar(range(N), noAnswers[:N], align='center', alpha=0.5)\n",
        "#plt.xticks(y_pos, objects)\n",
        "\n",
        "plt.ylabel('Number of Answers per Question')\n",
        "plt.xlabel('Question Id')\n",
        "plt.title('Distribution of Answers per question ')\n",
        "plt.text(3,400,\"Average answers per question \"+str(math.ceil((np.mean(noAnswers)))))\n",
        "\n",
        "plt.show()"
      ],
      "execution_count": 0,
      "outputs": [
        {
          "output_type": "display_data",
          "data": {
            "image/png": "[encoded data removed]",
            "text/plain": [
              "<Figure size 432x288 with 1 Axes>"
            ]
          },
          "metadata": {
            "tags": []
          }
        }
      ]
    },
    {
      "metadata": {
        "id": "liqu0kcO5b2U",
        "colab_type": "code",
        "outputId": "4d6b7719-ed5d-48ea-ea92-f4c60e8f353e",
        "colab": {
          "base_uri": "https://localhost:8080/",
          "height": 445
        }
      },
      "cell_type": "code",
      "source": [
        "print(\"Top 2 Questions with maximum number of answers \\n\")\n",
        "qid = answerid[:2] \n",
        "\n",
        "for b,id in zip(questions['Body'],questions['Id']):\n",
        "    if id in qid:\n",
        "        #print(id)\n",
        "        print(b)\n",
        "        print(\"................\")"
      ],
      "execution_count": 0,
      "outputs": [
        {
          "output_type": "stream",
          "text": [
            "Top 2 Questions with maximum number of answers \n",
            "\n",
            "<p>This is a <a href=\"http://stackoverflow.com/questions/tagged/polls\">poll</a> asking the Stackoverflow community what <strong>non-programming</strong> books they would recommend to fellow programmers.</p>\n",
            "\n",
            "<h3>Please read the following before posting:</h3>\n",
            "\n",
            "<ul>\n",
            "<li><p>Please post only <em>ONE BOOK PER ANSWER</em>.</p></li>\n",
            "<li><p>Please <em>search for your recommendation on this page before posting</em> (there are over NINE PAGES so it is advisable to check them all). Many books have already been suggested and we want to avoid duplicates. If you find your recommendation is already present, vote it up or add some commentary.</p></li>\n",
            "<li><p><strong>Please elaborate</strong> <em>on <strong>why</strong> you think a given book is worth reading</em> <strong><em>from a programmer's perspective.</em></strong></p></li>\n",
            "</ul>\n",
            "\n",
            "<p>Note: <a href=\"http://stackoverflow.com/questions/31274/best-non-development-book-for-software-developers\">this article</a> is similar and contains other useful suggestions.</p>\n",
            "\n",
            "................\n",
            "<p>This is definitely subjective, but I'd like to try to avoid it becoming argumentative. I think it could be an interesting question if people treat it appropriately.</p>\n",
            "\n",
            "<p>The idea for this question came from the comment thread from <a href=\"http://stackoverflow.com/questions/282329/what-are-five-things-you-hate-about-your-favorite-language#282342\">my answer</a> to the <a href=\"http://stackoverflow.com/questions/282329\">\"What are five things you hate about your favorite language?\" question</a>. I contended that classes in C# should be sealed by default - I won't put my reasoning in the question, but I might write a fuller explanation as an answer to this question. I was surprised at the heat of the discussion in the comments (25 comments currently).</p>\n",
            "\n",
            "<p>So, what contentious opinions do <em>you</em> hold? I'd rather avoid the kind of thing which ends up being pretty religious with relatively little basis (e.g. brace placing) but examples might include things like \"unit testing isn't actually terribly helpful\" or \"public fields are okay really\". The important thing (to me, anyway) is that you've got reasons behind your opinions.</p>\n",
            "\n",
            "<p>Please present your opinion and reasoning - I would encourage people to vote for opinions which are well-argued and interesting, whether or not you happen to agree with them.</p>\n",
            "\n",
            "................\n"
          ],
          "name": "stdout"
        }
      ]
    },
    {
      "metadata": {
        "id": "QZM4qVp35jsY",
        "colab_type": "code",
        "colab": {}
      },
      "cell_type": "code",
      "source": [
        "def plot_tags(tagCount):\n",
        "    \n",
        "    x,y = zip(*tagCount)\n",
        "\n",
        "    colormap = plt.cm.gist_ncar #nipy_spectral, Set1,Paired  \n",
        "    colors = [colormap(i) for i in np.linspace(0, 0.8,50)]   \n",
        "\n",
        "    area = [i/4000 for i in list(y)]   # 0 to 15 point radiuses\n",
        "    plt.figure(figsize=(9,8))\n",
        "    plt.ylabel(\"Number of question associations\")\n",
        "    for i in range(len(y)):\n",
        "        plt.plot(i,y[i], marker='o', linestyle='',ms=area[i],label=x[i])\n",
        "\n",
        "    plt.legend(numpoints=1)\n",
        "    plt.show()"
      ],
      "execution_count": 0,
      "outputs": []
    },
    {
      "metadata": {
        "id": "j0RrXZE95oyU",
        "colab_type": "code",
        "outputId": "58107a23-91b8-4359-af26-a7233dc373e0",
        "colab": {
          "base_uri": "https://localhost:8080/",
          "height": 520
        }
      },
      "cell_type": "code",
      "source": [
        "tagCount =  collections.Counter(list(tags['Tag'])).most_common(10)\n",
        "print(tagCount)\n",
        "plot_tags(tagCount)"
      ],
      "execution_count": 0,
      "outputs": [
        {
          "output_type": "stream",
          "text": [
            "[('javascript', 124155), ('java', 115212), ('c#', 101186), ('php', 98808), ('android', 90659), ('jquery', 78542), ('python', 64601), ('html', 58976), ('c++', 47591), ('ios', 47009)]\n"
          ],
          "name": "stdout"
        },
        {
          "output_type": "display_data",
          "data": {
            "image/png": "[encoded data removed]",
            "text/plain": [
              "<Figure size 648x576 with 1 Axes>"
            ]
          },
          "metadata": {
            "tags": []
          }
        }
      ]
    },
    {
      "metadata": {
        "id": "1o_ckWoE6L_L",
        "colab_type": "code",
        "outputId": "7e61600a-d1f9-42db-b3d9-f08b0915c93b",
        "colab": {
          "base_uri": "https://localhost:8080/",
          "height": 1037
        }
      },
      "cell_type": "code",
      "source": [
        "topQuestions =list(zip(questions[\"Id\"],questions[\"Score\"],questions[\"Title\"]))\n",
        "topQuestions.sort(key=lambda x: x[1],reverse=True)\n",
        "for id,s,t in topQuestions[:20]:\n",
        "    #print(\"Question id:\",id)\n",
        "    print(\"Score :\",s)\n",
        "    print(\"Question Title\\t:\",t,'\\n') "
      ],
      "execution_count": 0,
      "outputs": [
        {
          "output_type": "stream",
          "text": [
            "Score : 5190\n",
            "Question Title\t: How to undo 'git add' before commit? \n",
            "\n",
            "Score : 3613\n",
            "Question Title\t: Is Java \"pass-by-reference\" or \"pass-by-value\"? \n",
            "\n",
            "Score : 2537\n",
            "Question Title\t: Regular expression to match line that doesn't contain a word? \n",
            "\n",
            "Score : 2399\n",
            "Question Title\t: Make an existing Git branch track a remote branch? \n",
            "\n",
            "Score : 2363\n",
            "Question Title\t: Why does Google prepend while(1); to their JSON responses? \n",
            "\n",
            "Score : 1760\n",
            "Question Title\t: How to check if a string contains a specific word in PHP? \n",
            "\n",
            "Score : 1759\n",
            "Question Title\t: How do I empty an array in JavaScript? \n",
            "\n",
            "Score : 1716\n",
            "Question Title\t: How to find all files containing specific text on Linux? \n",
            "\n",
            "Score : 1620\n",
            "Question Title\t: Loop through an array in JavaScript \n",
            "\n",
            "Score : 1614\n",
            "Question Title\t: How do you disable browser Autocomplete on web form field / input tag? \n",
            "\n",
            "Score : 1613\n",
            "Question Title\t: How do I give text or an image a transparent background using CSS? \n",
            "\n",
            "Score : 1567\n",
            "Question Title\t: How can I determine the URL that a local Git repository was originally cloned from? \n",
            "\n",
            "Score : 1520\n",
            "Question Title\t: How do I correctly clone a JavaScript object? \n",
            "\n",
            "Score : 1513\n",
            "Question Title\t: Checking if a key exists in a JavaScript object? \n",
            "\n",
            "Score : 1473\n",
            "Question Title\t: When should static_cast, dynamic_cast, const_cast and reinterpret_cast be used? \n",
            "\n",
            "Score : 1460\n",
            "Question Title\t: Set a default parameter value for a JavaScript function \n",
            "\n",
            "Score : 1412\n",
            "Question Title\t: Using java.net.URLConnection to fire and handle HTTP requests \n",
            "\n",
            "Score : 1327\n",
            "Question Title\t: Vertically align text next to an image? \n",
            "\n",
            "Score : 1147\n",
            "Question Title\t: Squash my last X commits together using Git \n",
            "\n",
            "Score : 1129\n",
            "Question Title\t: What is your most productive shortcut with Vim? \n",
            "\n"
          ],
          "name": "stdout"
        }
      ]
    },
    {
      "metadata": {
        "id": "2eih67Lm7E4H",
        "colab_type": "code",
        "outputId": "4e22abe2-0442-4007-af31-aff744d89695",
        "colab": {
          "base_uri": "https://localhost:8080/",
          "height": 85
        }
      },
      "cell_type": "code",
      "source": [
        "#IDENTIFYING CLUSTERS OF SIMILAR QUESTIONS\n",
        "import numpy as np\n",
        "import pandas as pd\n",
        "import matplotlib.pyplot as plt\n",
        "%matplotlib inline\n",
        "import nltk\n",
        "nltk.download('punkt')\n",
        "nltk.download('wordnet')\n",
        "from multiprocessing import Pool\n",
        "from nltk.tokenize import word_tokenize\n",
        "from nltk.corpus import stopwords\n",
        "from nltk.stem import WordNetLemmatizer\n",
        "from sklearn.feature_extraction.text import TfidfVectorizer, CountVectorizer\n",
        "import re\n",
        "from itertools import chain\n",
        "from collections import Counter\n",
        "import pickle\n",
        "import scipy.io as scio\n",
        "from sklearn.decomposition import TruncatedSVD\n",
        "import scipy.spatial.distance as distance\n",
        "import scipy.cluster.hierarchy as hierarchy\n",
        "from scipy.stats import pearsonr"
      ],
      "execution_count": 0,
      "outputs": [
        {
          "output_type": "stream",
          "text": [
            "[nltk_data] Downloading package punkt to /root/nltk_data...\n",
            "[nltk_data]   Package punkt is already up-to-date!\n",
            "[nltk_data] Downloading package wordnet to /root/nltk_data...\n",
            "[nltk_data]   Package wordnet is already up-to-date!\n"
          ],
          "name": "stdout"
        }
      ]
    },
    {
      "metadata": {
        "id": "-Ez6RDFB7OI3",
        "colab_type": "code",
        "colab": {}
      },
      "cell_type": "code",
      "source": [
        "dat = pd.read_csv(\"Questions.csv\", encoding='latin1')\n",
        "dat['Title'].fillna(\"None\", inplace=True)\n",
        "dat['Score'].fillna(0, inplace=True)"
      ],
      "execution_count": 0,
      "outputs": []
    },
    {
      "metadata": {
        "id": "9sg8FwEA7YXD",
        "colab_type": "code",
        "outputId": "0563e476-1475-45ce-f288-daa46a21556b",
        "colab": {
          "base_uri": "https://localhost:8080/",
          "height": 34
        }
      },
      "cell_type": "code",
      "source": [
        "selected_ids = np.random.choice(range(dat.shape[0]), 20000, replace=False)\n",
        "sample = dat.loc[selected_ids, :]\n",
        "sample.shape"
      ],
      "execution_count": 0,
      "outputs": [
        {
          "output_type": "execute_result",
          "data": {
            "text/plain": [
              "(20000, 7)"
            ]
          },
          "metadata": {
            "tags": []
          },
          "execution_count": 55
        }
      ]
    },
    {
      "metadata": {
        "id": "-aNIOrcn7mz0",
        "colab_type": "code",
        "outputId": "02c9d4e7-dea3-48fc-a43a-b1ab702bbe2d",
        "colab": {
          "base_uri": "https://localhost:8080/",
          "height": 289
        }
      },
      "cell_type": "code",
      "source": [
        "sample.head()\n"
      ],
      "execution_count": 0,
      "outputs": [
        {
          "output_type": "execute_result",
          "data": {
            "text/html": [
              "<div>\n",
              "<style scoped>\n",
              "    .dataframe tbody tr th:only-of-type {\n",
              "        vertical-align: middle;\n",
              "    }\n",
              "\n",
              "    .dataframe tbody tr th {\n",
              "        vertical-align: top;\n",
              "    }\n",
              "\n",
              "    .dataframe thead th {\n",
              "        text-align: right;\n",
              "    }\n",
              "</style>\n",
              "<table border=\"1\" class=\"dataframe\">\n",
              "  <thead>\n",
              "    <tr style=\"text-align: right;\">\n",
              "      <th></th>\n",
              "      <th>Id</th>\n",
              "      <th>OwnerUserId</th>\n",
              "      <th>CreationDate</th>\n",
              "      <th>ClosedDate</th>\n",
              "      <th>Score</th>\n",
              "      <th>Title</th>\n",
              "      <th>Body</th>\n",
              "    </tr>\n",
              "  </thead>\n",
              "  <tbody>\n",
              "    <tr>\n",
              "      <th>1080291</th>\n",
              "      <td>35297250</td>\n",
              "      <td>883354.0</td>\n",
              "      <td>2016-02-09T16:33:02Z</td>\n",
              "      <td>NaN</td>\n",
              "      <td>0</td>\n",
              "      <td>In CakePHP 3.0 what is the best way to impleme...</td>\n",
              "      <td>&lt;p&gt;Android has a naming convention for its App...</td>\n",
              "    </tr>\n",
              "    <tr>\n",
              "      <th>679425</th>\n",
              "      <td>23211320</td>\n",
              "      <td>3559006.0</td>\n",
              "      <td>2014-04-22T05:45:45Z</td>\n",
              "      <td>NaN</td>\n",
              "      <td>1</td>\n",
              "      <td>XSLT importing a partial XML segment into XML ...</td>\n",
              "      <td>&lt;p&gt;I have a xml document that I need to replac...</td>\n",
              "    </tr>\n",
              "    <tr>\n",
              "      <th>146478</th>\n",
              "      <td>5806200</td>\n",
              "      <td>687784.0</td>\n",
              "      <td>2011-04-27T14:59:10Z</td>\n",
              "      <td>NaN</td>\n",
              "      <td>2</td>\n",
              "      <td>jQuery/PHP Validation From Common Source</td>\n",
              "      <td>&lt;p&gt;I have a Model class for a Generic Object t...</td>\n",
              "    </tr>\n",
              "    <tr>\n",
              "      <th>713657</th>\n",
              "      <td>24294350</td>\n",
              "      <td>3084471.0</td>\n",
              "      <td>2014-06-18T20:19:31Z</td>\n",
              "      <td>NaN</td>\n",
              "      <td>0</td>\n",
              "      <td>Start at specific track in given playlist with...</td>\n",
              "      <td>&lt;p&gt;Im trying to start a specific track using s...</td>\n",
              "    </tr>\n",
              "    <tr>\n",
              "      <th>1195090</th>\n",
              "      <td>38370730</td>\n",
              "      <td>741637.0</td>\n",
              "      <td>2016-07-14T09:39:15Z</td>\n",
              "      <td>NaN</td>\n",
              "      <td>0</td>\n",
              "      <td>Using http headers for passing data for logging</td>\n",
              "      <td>&lt;p&gt;I am developing a windows application which...</td>\n",
              "    </tr>\n",
              "  </tbody>\n",
              "</table>\n",
              "</div>"
            ],
            "text/plain": [
              "               Id  OwnerUserId          CreationDate ClosedDate  Score  \\\n",
              "1080291  35297250     883354.0  2016-02-09T16:33:02Z        NaN      0   \n",
              "679425   23211320    3559006.0  2014-04-22T05:45:45Z        NaN      1   \n",
              "146478    5806200     687784.0  2011-04-27T14:59:10Z        NaN      2   \n",
              "713657   24294350    3084471.0  2014-06-18T20:19:31Z        NaN      0   \n",
              "1195090  38370730     741637.0  2016-07-14T09:39:15Z        NaN      0   \n",
              "\n",
              "                                                     Title  \\\n",
              "1080291  In CakePHP 3.0 what is the best way to impleme...   \n",
              "679425   XSLT importing a partial XML segment into XML ...   \n",
              "146478            jQuery/PHP Validation From Common Source   \n",
              "713657   Start at specific track in given playlist with...   \n",
              "1195090    Using http headers for passing data for logging   \n",
              "\n",
              "                                                      Body  \n",
              "1080291  <p>Android has a naming convention for its App...  \n",
              "679425   <p>I have a xml document that I need to replac...  \n",
              "146478   <p>I have a Model class for a Generic Object t...  \n",
              "713657   <p>Im trying to start a specific track using s...  \n",
              "1195090  <p>I am developing a windows application which...  "
            ]
          },
          "metadata": {
            "tags": []
          },
          "execution_count": 56
        }
      ]
    },
    {
      "metadata": {
        "id": "SBdbUDYE7ozk",
        "colab_type": "code",
        "colab": {}
      },
      "cell_type": "code",
      "source": [
        "def purify_string(html):\n",
        "    return re.sub('(\\r\\n)+|\\r+|\\n+', \" \", re.sub('<[^<]+?>', '', html))\n"
      ],
      "execution_count": 0,
      "outputs": []
    },
    {
      "metadata": {
        "id": "DLk8J0n07uXe",
        "colab_type": "code",
        "outputId": "547a79f7-9077-48dd-88fa-bf15cc3b6566",
        "colab": {
          "base_uri": "https://localhost:8080/",
          "height": 153
        }
      },
      "cell_type": "code",
      "source": [
        "corpus = sample.ix[:, 'Body'].apply(purify_string)\n"
      ],
      "execution_count": 0,
      "outputs": [
        {
          "output_type": "stream",
          "text": [
            "/usr/local/lib/python3.6/dist-packages/ipykernel_launcher.py:1: DeprecationWarning: \n",
            ".ix is deprecated. Please use\n",
            ".loc for label based indexing or\n",
            ".iloc for positional indexing\n",
            "\n",
            "See the documentation here:\n",
            "http://pandas.pydata.org/pandas-docs/stable/indexing.html#ix-indexer-is-deprecated\n",
            "  \"\"\"Entry point for launching an IPython kernel.\n"
          ],
          "name": "stderr"
        }
      ]
    },
    {
      "metadata": {
        "id": "C_MHVO_I76qq",
        "colab_type": "code",
        "colab": {}
      },
      "cell_type": "code",
      "source": [
        "def combine_title_body(tnb):\n",
        "    return tnb[0] + \" \" + tnb[1]"
      ],
      "execution_count": 0,
      "outputs": []
    },
    {
      "metadata": {
        "id": "JhVA9ZEq7-kP",
        "colab_type": "code",
        "colab": {}
      },
      "cell_type": "code",
      "source": [
        "p = Pool(8)\n",
        "combined_corpus = p.map(combine_title_body, zip(dat['Title'], corpus))\n",
        "p.close()"
      ],
      "execution_count": 0,
      "outputs": []
    },
    {
      "metadata": {
        "id": "h2cNrlkI8FOQ",
        "colab_type": "code",
        "outputId": "a6309e6f-8727-481e-b3b7-0510ad69903a",
        "colab": {
          "base_uri": "https://localhost:8080/",
          "height": 71
        }
      },
      "cell_type": "code",
      "source": [
        "combined_corpus[:2]\n"
      ],
      "execution_count": 0,
      "outputs": [
        {
          "output_type": "execute_result",
          "data": {
            "text/plain": [
              "['SQLStatement.execute() - multiple queries in one statement Android has a naming convention for its App Links verification that is not allowed in CakePhP.  Android forces your App Links verification to be as follows:   www.exampledomain.com/.well-known/assetlinks.json/ PhP won\\'t allow a class named \".WellKnownController\", nor a function named \"assetlinks.json\".  So how do I make my CakePhP 3.0 website respond to this POST? ',\n",
              " 'Good branching and merging tutorials for TortoiseSVN? I have a xml document that I need to replace specific nodes with partial xml segments that contains both nodes as well as processing-instructions.  I want to preserve the PI\\'s but am running into issues in the replacement. Segment example: general.xml &lt;root&gt;   &lt;!--General Settings --&gt;   &lt;?mapping EnvironmentSetting=\"envname\"?&gt;   &lt;setting name=\"SubscriptionName\" value=\"*\" /&gt; &lt;/root&gt; Source xml: &lt;environment&gt;   &lt;General /&gt; &lt;/environment&gt; Transform -  &lt;xsl:template match=\"* | processing-instruction() | comment()\"&gt;   &lt;xsl:copy&gt;     &lt;xsl:copy-of select=\"@*\"/&gt;     &lt;xsl:apply-templates/&gt;   &lt;/xsl:copy&gt; &lt;/xsl:template&gt; &lt;xsl:template match=\"*/General\"&gt;   &lt;xsl:copy-of select=\"document(\\'general.xml\\')/root\"/&gt; &lt;/xsl:template&gt; The output is: &lt;environment&gt;   &lt;root&gt;     &lt;!--General Settings --&gt;     &lt;?mapping EnvironmentSetting=\"envname\"?&gt;     &lt;setting name=\"SubscriptionName\" value=\"*\" /&gt;   &lt;/root&gt; &lt;/environment&gt; But I want: &lt;environment&gt;   &lt;!--General Settings --&gt;   &lt;?mapping EnvironmentSetting=\"envname\"?&gt;   &lt;setting name=\"SubscriptionName\" value=\"*\" /&gt; &lt;/environment&gt; Changing the document section to root/* drops processing-instructions (and comments) &lt;xsl:copy-of select=\"document(\\'general.xml\\')/root/*\"/&gt; ... &lt;environment&gt;   &lt;setting name=\"SubscriptionName\" value=\"*\" /&gt; &lt;/environment&gt; Changing the document section to root/process-instructions drops the nodes &lt;xsl:copy-of select=\"document(\\'general.xml\\')/root/processing-instruction()\"/&gt; ... &lt;environment&gt;   &lt;?mapping EnvironmentSetting=\"envname\"?&gt; &lt;/environment&gt; Trying to do an | just matches first parameter - &lt;xsl:copy-of select=\"document(\\'general.xml\\')/root/processing-instruction() | * | comment()\"/&gt; ... &lt;environment&gt;   &lt;?mapping EnvironmentSetting=\"envname\"?&gt; &lt;/environment&gt; So how do I get my cake and eat it too?  I seem so close, but am having problems finding any examples of doing what I want to do. ']"
            ]
          },
          "metadata": {
            "tags": []
          },
          "execution_count": 61
        }
      ]
    },
    {
      "metadata": {
        "id": "1RZPu--Y8SSk",
        "colab_type": "code",
        "outputId": "4c34c780-a14d-44dd-e7f4-53cde6a042f9",
        "colab": {
          "base_uri": "https://localhost:8080/",
          "height": 391
        }
      },
      "cell_type": "code",
      "source": [
        "lem = WordNetLemmatizer()\n",
        "def cond_tokenize(t):\n",
        "    if t is None:\n",
        "        return []\n",
        "    else:\n",
        "        return [lem.lemmatize(w.lower()) for w in word_tokenize(t)]\n",
        "\n",
        "p = Pool(8)\n",
        "tokens = list(p.imap(cond_tokenize, combined_corpus))\n",
        "p.close()"
      ],
      "execution_count": 0,
      "outputs": [
        {
          "output_type": "stream",
          "text": [
            "Exception in thread Thread-13:\n",
            "Traceback (most recent call last):\n",
            "  File \"/usr/lib/python3.6/threading.py\", line 916, in _bootstrap_inner\n",
            "    self.run()\n",
            "  File \"/usr/lib/python3.6/threading.py\", line 864, in run\n",
            "    self._target(*self._args, **self._kwargs)\n",
            "  File \"/usr/lib/python3.6/multiprocessing/pool.py\", line 431, in _handle_workers\n",
            "    maxtasksperchild, wrap_exception)\n",
            "  File \"/usr/lib/python3.6/multiprocessing/pool.py\", line 268, in _maintain_pool\n",
            "    wrap_exception)\n",
            "  File \"/usr/lib/python3.6/multiprocessing/pool.py\", line 255, in _repopulate_pool_static\n",
            "    w.start()\n",
            "  File \"/usr/lib/python3.6/multiprocessing/process.py\", line 105, in start\n",
            "    self._popen = self._Popen(self)\n",
            "  File \"/usr/lib/python3.6/multiprocessing/context.py\", line 277, in _Popen\n",
            "    return Popen(process_obj)\n",
            "  File \"/usr/lib/python3.6/multiprocessing/popen_fork.py\", line 19, in __init__\n",
            "    self._launch(process_obj)\n",
            "  File \"/usr/lib/python3.6/multiprocessing/popen_fork.py\", line 66, in _launch\n",
            "    self.pid = os.fork()\n",
            "OSError: [Errno 12] Cannot allocate memory\n",
            "\n"
          ],
          "name": "stderr"
        }
      ]
    },
    {
      "metadata": {
        "id": "6wkE4KtB9OcB",
        "colab_type": "code",
        "outputId": "b3f0e81c-4482-4c7b-c197-1384f155febc",
        "colab": {
          "base_uri": "https://localhost:8080/",
          "height": 70
        }
      },
      "cell_type": "code",
      "source": [
        "pure_tokens = [\" \".join(sent) for sent in tokens]\n",
        "print(tokens[0]) # this are the single lemmatized and stemmed tokens\n",
        "print(pure_tokens[0]) # these are the tokens combined in original form"
      ],
      "execution_count": 0,
      "outputs": [
        {
          "output_type": "stream",
          "text": [
            "['sqlstatement.execute', '(', ')', '-', 'multiple', 'query', 'in', 'one', 'statement', 'i', 'have', 'been', 'all', 'over', 'google', 'looking', 'for', 'this', ',', 'i', 'ca', \"n't\", 'come', 'up', 'with', 'a', 'clear', 'solution', '.', 'i', 'have', 'a', 'chatview', 'that', 'render', 'a', 'collectionview', 'of', 'message', '(', 'messagesview', ')', '.', 'i', 'need', 'to', 'wait', 'until', 'all', 'the', 'message', 'are', 'fetched', 'and', 'rendered', 'before', 'i', 'can', 'run', 'a', 'function', 'to', 'scroll', 'to', 'the', 'bottom', 'of', 'the', 'list', 'of', 'message', '.', 'here', 'is', 'a', 'stripped', 'up', 'version', 'of', 'my', 'code', '.', 'var', 'socket', '=', 'io.connect', '(', ')', ',', 'marionette', '=', 'require', '(', \"'backbone.marionette\", \"'\", ')', ',', 'messagescollection', '=', 'require', '(', \"'../collections/messages\", \"'\", ')', ',', 'messagesview', '=', 'require', '(', \"'./messages\", \"'\", ')', ',', 'messagemodel', '=', 'require', '(', \"'../models/message\", \"'\", ')', ';', 'module.exports', '=', 'chatview', '=', 'marionette.compositeview.extend', '(', '{', 'classname', ':', \"'chat\", 'col-sm-9', \"'\", ',', 'template', ':', 'require', '(', \"'../../templates/chat.hbs\", \"'\", ')', ',', 'event', ':', '{', \"'focusin\", 'input.message', \"'\", ':', \"'usertyping\", \"'\", ',', \"'focusout\", 'input.message', \"'\", ':', \"'usernottyping\", \"'\", ',', \"'submit\", '#', 'chat-form', \"'\", ':', \"'sendmessage\", \"'\", '}', ',', 'initialize', ':', 'function', '(', ')', '{', 'var', 'self', '=', 'this', ';', '/*', 'make', 'an', 'instance', 'of', 'the', 'collection', 'for', 'the', 'specific', 'chat', '*/', 'window.messages', '=', 'new', 'messagescollection', '(', '[', ']', ',', '{', 'chat_id', ':', 'this.options.chatroom', '}', ')', ';', 'messages.fetch', '(', '{', 'success', ':', 'function', '(', 'model', ')', '{', 'app.data.messages', '=', 'message', ';', '_.delay', '(', 'function', '(', ')', '{', 'self.scrollchat', '(', ')', ';', '}', ',', '1000', ')', ';', '}', '}', ')', ';', '//', 'the', 'view', 'for', 'a', 'collection', 'of', 'message', 'window.messagesview', '=', 'new', 'messagesview', '(', '{', 'collection', ':', 'message', '}', ')', ';', '/*', 'create', 'an', 'instance', 'of', 'a', 'specific', 'room', 'for', 'client', 'to', 'admin', 'chat', '*/', 'socket.emit', '(', \"'createroom\", \"'\", ',', 'this.options.chatroom', ')', ';', '/*', 'resize', 'the', 'chat', 'when', 'the', 'window', 'change', '*/', '$', '(', 'window', ')', '.on', '(', '``', 'resize', \"''\", ',', 'this.scrollchat', ')', ';', '}', ',', 'onrender', ':', 'function', '(', ')', '{', '/*', 'render', 'all', 'the', 'message', 'inside', 'the', 'chatbox', '*/', 'var', '$', 'chatbox', '=', 'this.', '$', 'el.find', '(', \"'.message-content\", \"'\", ')', ';', '$', 'chatbox.append', '(', 'messagesview.render', '(', ')', '.', '$', 'el', ')', ';', 'window.app.core.vent.trigger', '(', \"'app\", ':', 'log', \"'\", ',', \"'chat\", 'view', ':', 'chat', 'view', 'wa', 'rendered', '!', \"'\", ')', ';', '}', ',', 'scrollchat', ':', 'function', '(', ')', '{', 'var', '$', 'headernav', '=', '$', '(', \"'.navbar\", \"'\", ')', '.outerheight', '(', ')', ';', 'var', '$', 'typemessage', '=', '$', '(', \"'.type-message\", \"'\", ')', '.outerheight', '(', ')', ';', 'var', '$', 'extraheight', '=', '$', 'headernav', '+', '$', 'typemessage', ';', '$', '(', \"'.chat\", \"'\", ')', '.height', '(', '$', '(', 'window', ')', '.height', '(', ')', '-', '$', 'headernav', ')', ';', '$', '(', \"'.message-content\", \"'\", ')', '.height', '(', '$', '(', 'window', ')', '.height', '(', ')', '-', '$', 'extraheight', ')', ';', 'var', 'pane', '=', '$', '(', \"'.message-content\", \"'\", ')', ';', 'pane.jscrollpane', '(', '{', 'autoreinitialise', ':', 'true', '}', ')', ';', 'window.paneapi', '=', 'pane.data', '(', \"'jsp\", \"'\", ')', ';', 'paneapi.scrollto', '(', '0', ',', '$', '(', \"'.collection\", \"'\", ')', '.height', '(', ')', ')', ';', 'if', '(', '$', '(', 'window', ')', '.width', '(', ')', '&', 'lt', ';', '768', ')', '{', 'paneapi.destroy', '(', ')', ';', '$', '(', \"'.message-content\", \"'\", ')', '.scrolltop', '(', '500', ')', ';', '}', 'else', '{', 'paneapi.reinitialise', '(', ')', ';', '}', '}', '}', ')', ';', 'maybe', 'i', 'should', 'move', 'some', 'part', 'around', ',', 'but', 'i', 'need', 'to', 'fetch', 'a', 'specific', 'list', 'of', 'message', 'that', 'is', 'defined', 'by', 'this.options.chatroom', ',', 'so', 'therefore', 'i', 'need', 'to', 'fetch', 'those', 'message', 'within', 'the', 'above', 'view', '.', 'the', 'issue', 'is', 'i', 'have', 'to', 'set', 'a', '_.delay', 'within', 'the', 'fetch', 'method', 'to', 'simulate', 'the', 'rendering', 'of', 'the', 'message', ',', 'we', 'know', 'in', 'the', 'success', 'callback', 'the', 'message', 'have', 'been', 'retrieved', 'but', 'the', 'view', 'ha', \"n't\", 'been', 'rendered', ',', 'meaning', 'the', 'scrollchat', 'function', 'ca', \"n't\", 'calculate', 'properly', '.', 'i', 'am', 'asking', 'how', 'should', 'i', 'wait', 'until', 'the', 'whole', 'list', 'ha', 'been', 'rendered', 'to', 'the', 'dom', 'and', 'then', 'execute', '.', 'the', 'best', 'i', 'could', 'find', 'wa', 'using', 'a', 'marionette', 'region', 'and', 'then', 'using', 'onshow', 'but', 'i', 'would', 'have', 'to', 're', 'factor', 'some', 'code', 'and', 'rather', 'ask', 'this', 'first', '.', 'hope', 'i', 'wa', 'clear', ',', 'this', 'is', 'more', 'of', 'an', 'annoyance', 'and', 'would', 'like', 'to', 'scroll', 'the', 'chat', 'properly', '.']\n",
            "sqlstatement.execute ( ) - multiple query in one statement i have been all over google looking for this , i ca n't come up with a clear solution . i have a chatview that render a collectionview of message ( messagesview ) . i need to wait until all the message are fetched and rendered before i can run a function to scroll to the bottom of the list of message . here is a stripped up version of my code . var socket = io.connect ( ) , marionette = require ( 'backbone.marionette ' ) , messagescollection = require ( '../collections/messages ' ) , messagesview = require ( './messages ' ) , messagemodel = require ( '../models/message ' ) ; module.exports = chatview = marionette.compositeview.extend ( { classname : 'chat col-sm-9 ' , template : require ( '../../templates/chat.hbs ' ) , event : { 'focusin input.message ' : 'usertyping ' , 'focusout input.message ' : 'usernottyping ' , 'submit # chat-form ' : 'sendmessage ' } , initialize : function ( ) { var self = this ; /* make an instance of the collection for the specific chat */ window.messages = new messagescollection ( [ ] , { chat_id : this.options.chatroom } ) ; messages.fetch ( { success : function ( model ) { app.data.messages = message ; _.delay ( function ( ) { self.scrollchat ( ) ; } , 1000 ) ; } } ) ; // the view for a collection of message window.messagesview = new messagesview ( { collection : message } ) ; /* create an instance of a specific room for client to admin chat */ socket.emit ( 'createroom ' , this.options.chatroom ) ; /* resize the chat when the window change */ $ ( window ) .on ( `` resize '' , this.scrollchat ) ; } , onrender : function ( ) { /* render all the message inside the chatbox */ var $ chatbox = this. $ el.find ( '.message-content ' ) ; $ chatbox.append ( messagesview.render ( ) . $ el ) ; window.app.core.vent.trigger ( 'app : log ' , 'chat view : chat view wa rendered ! ' ) ; } , scrollchat : function ( ) { var $ headernav = $ ( '.navbar ' ) .outerheight ( ) ; var $ typemessage = $ ( '.type-message ' ) .outerheight ( ) ; var $ extraheight = $ headernav + $ typemessage ; $ ( '.chat ' ) .height ( $ ( window ) .height ( ) - $ headernav ) ; $ ( '.message-content ' ) .height ( $ ( window ) .height ( ) - $ extraheight ) ; var pane = $ ( '.message-content ' ) ; pane.jscrollpane ( { autoreinitialise : true } ) ; window.paneapi = pane.data ( 'jsp ' ) ; paneapi.scrollto ( 0 , $ ( '.collection ' ) .height ( ) ) ; if ( $ ( window ) .width ( ) & lt ; 768 ) { paneapi.destroy ( ) ; $ ( '.message-content ' ) .scrolltop ( 500 ) ; } else { paneapi.reinitialise ( ) ; } } } ) ; maybe i should move some part around , but i need to fetch a specific list of message that is defined by this.options.chatroom , so therefore i need to fetch those message within the above view . the issue is i have to set a _.delay within the fetch method to simulate the rendering of the message , we know in the success callback the message have been retrieved but the view ha n't been rendered , meaning the scrollchat function ca n't calculate properly . i am asking how should i wait until the whole list ha been rendered to the dom and then execute . the best i could find wa using a marionette region and then using onshow but i would have to re factor some code and rather ask this first . hope i wa clear , this is more of an annoyance and would like to scroll the chat properly .\n"
          ],
          "name": "stdout"
        }
      ]
    },
    {
      "metadata": {
        "id": "43YC6wNF9052",
        "colab_type": "code",
        "colab": {}
      },
      "cell_type": "code",
      "source": [
        "vectorizer = TfidfVectorizer(min_df=1, max_features=2000, stop_words='english', ngram_range=[1, 1], sublinear_tf=True)\n",
        "tfidf = vectorizer.fit_transform(pure_tokens) # this is the vector matrix of the tfidf"
      ],
      "execution_count": 0,
      "outputs": []
    },
    {
      "metadata": {
        "id": "GxBZ2-6i97ak",
        "colab_type": "code",
        "colab": {}
      },
      "cell_type": "code",
      "source": [
        "idfs = pd.DataFrame([[v, k] for k, v in vectorizer.vocabulary_.items()], columns=['id', 'word']).sort_values('id')\n",
        "idfs['idf'] = vectorizer.idf_"
      ],
      "execution_count": 0,
      "outputs": []
    },
    {
      "metadata": {
        "id": "EWoiLhDp98sx",
        "colab_type": "code",
        "outputId": "d8c79761-992a-4070-c917-7f4ee2f01aad",
        "colab": {
          "base_uri": "https://localhost:8080/",
          "height": 370
        }
      },
      "cell_type": "code",
      "source": [
        "print(idfs.sort_values('idf').head(20))"
      ],
      "execution_count": 0,
      "outputs": [
        {
          "output_type": "stream",
          "text": [
            "       id      word       idf\n",
            "94   1867     using  1.999179\n",
            "20    394      code  2.025458\n",
            "235   840        gt  2.055315\n",
            "77   1091        lt  2.125674\n",
            "99   1043      like  2.193742\n",
            "399  1916      want  2.290671\n",
            "47   1193       new  2.342710\n",
            "302  1858       use  2.361847\n",
            "130   726      file  2.401458\n",
            "221  1947      work  2.451630\n",
            "174   592       doe  2.454623\n",
            "304   378     class  2.461715\n",
            "342  1921       way  2.503103\n",
            "254   662     error  2.526987\n",
            "53    501      data  2.538564\n",
            "16    782  function  2.557607\n",
            "421  1881     value  2.576053\n",
            "12   1188      need  2.612994\n",
            "328  1502    return  2.623587\n",
            "210  1369   problem  2.662098\n"
          ],
          "name": "stdout"
        }
      ]
    },
    {
      "metadata": {
        "id": "xbOKcI09C6ri",
        "colab_type": "code",
        "colab": {}
      },
      "cell_type": "code",
      "source": [
        "tsvd = TruncatedSVD(n_components=500) # TODO this n_components=500 is a hyperparameter, look into it\n",
        "transformed = tsvd.fit_transform(tfidf)"
      ],
      "execution_count": 0,
      "outputs": []
    },
    {
      "metadata": {
        "id": "B-I4R91ODBXX",
        "colab_type": "code",
        "outputId": "5fd366f0-c6aa-4cf0-ac68-c8d31f2e49d0",
        "colab": {
          "base_uri": "https://localhost:8080/",
          "height": 34
        }
      },
      "cell_type": "code",
      "source": [
        "np.sum(tsvd.explained_variance_ratio_)\n"
      ],
      "execution_count": 0,
      "outputs": [
        {
          "output_type": "execute_result",
          "data": {
            "text/plain": [
              "0.583466922257338"
            ]
          },
          "metadata": {
            "tags": []
          },
          "execution_count": 39
        }
      ]
    },
    {
      "metadata": {
        "id": "rMWx2h1PDHg-",
        "colab_type": "code",
        "outputId": "b33de27b-b5d5-4908-9503-bcb97820d1c1",
        "colab": {
          "base_uri": "https://localhost:8080/",
          "height": 34
        }
      },
      "cell_type": "code",
      "source": [
        "transformed.shape"
      ],
      "execution_count": 0,
      "outputs": [
        {
          "output_type": "execute_result",
          "data": {
            "text/plain": [
              "(20000, 500)"
            ]
          },
          "metadata": {
            "tags": []
          },
          "execution_count": 40
        }
      ]
    },
    {
      "metadata": {
        "id": "qnlD02M-DgVb",
        "colab_type": "code",
        "colab": {}
      },
      "cell_type": "code",
      "source": [
        "D = distance.pdist(transformed, 'cosine')"
      ],
      "execution_count": 0,
      "outputs": []
    },
    {
      "metadata": {
        "id": "WagL1YzhD8SH",
        "colab_type": "code",
        "outputId": "7f4f0003-fae6-4863-b231-c2d5f174c73a",
        "colab": {
          "base_uri": "https://localhost:8080/",
          "height": 34
        }
      },
      "cell_type": "code",
      "source": [
        "L = hierarchy.linkage(D)\n",
        "np.mean(D)"
      ],
      "execution_count": 0,
      "outputs": [
        {
          "output_type": "execute_result",
          "data": {
            "text/plain": [
              "0.9342161160190237"
            ]
          },
          "metadata": {
            "tags": []
          },
          "execution_count": 44
        }
      ]
    },
    {
      "metadata": {
        "id": "5GNfCjLsECpN",
        "colab_type": "code",
        "colab": {}
      },
      "cell_type": "code",
      "source": [
        "cls = hierarchy.fcluster(L, 0.71, criterion='inconsistent')\n"
      ],
      "execution_count": 0,
      "outputs": []
    },
    {
      "metadata": {
        "id": "8Fme4usWEU8Y",
        "colab_type": "code",
        "outputId": "1fb47149-a7c0-40d2-fdbe-49cace77946f",
        "colab": {
          "base_uri": "https://localhost:8080/",
          "height": 134
        }
      },
      "cell_type": "code",
      "source": [
        "df_cls = pd.DataFrame({'Pos': selected_ids, 'Cluster': cls})\n",
        "cnts = df_cls.groupby('Cluster').size().sort_values(ascending=False)\n",
        "cnts.sort_values(ascending=False).head()"
      ],
      "execution_count": 0,
      "outputs": [
        {
          "output_type": "execute_result",
          "data": {
            "text/plain": [
              "Cluster\n",
              "3718    38\n",
              "1945    28\n",
              "3624    19\n",
              "1171    18\n",
              "1324    17\n",
              "dtype: int64"
            ]
          },
          "metadata": {
            "tags": []
          },
          "execution_count": 46
        }
      ]
    },
    {
      "metadata": {
        "id": "ImQdm5aYEif0",
        "colab_type": "code",
        "outputId": "5977ecaf-9d9b-41b9-b9e7-fe2dec9b9ba2",
        "colab": {
          "base_uri": "https://localhost:8080/",
          "height": 309
        }
      },
      "cell_type": "code",
      "source": [
        "bc = pd.concat([sample, df_cls.set_index('Pos')], axis=1)\n",
        "bc.head()"
      ],
      "execution_count": 0,
      "outputs": [
        {
          "output_type": "execute_result",
          "data": {
            "text/html": [
              "<div>\n",
              "<style scoped>\n",
              "    .dataframe tbody tr th:only-of-type {\n",
              "        vertical-align: middle;\n",
              "    }\n",
              "\n",
              "    .dataframe tbody tr th {\n",
              "        vertical-align: top;\n",
              "    }\n",
              "\n",
              "    .dataframe thead th {\n",
              "        text-align: right;\n",
              "    }\n",
              "</style>\n",
              "<table border=\"1\" class=\"dataframe\">\n",
              "  <thead>\n",
              "    <tr style=\"text-align: right;\">\n",
              "      <th></th>\n",
              "      <th>Id</th>\n",
              "      <th>OwnerUserId</th>\n",
              "      <th>CreationDate</th>\n",
              "      <th>ClosedDate</th>\n",
              "      <th>Score</th>\n",
              "      <th>Title</th>\n",
              "      <th>Body</th>\n",
              "      <th>Cluster</th>\n",
              "    </tr>\n",
              "    <tr>\n",
              "      <th>Pos</th>\n",
              "      <th></th>\n",
              "      <th></th>\n",
              "      <th></th>\n",
              "      <th></th>\n",
              "      <th></th>\n",
              "      <th></th>\n",
              "      <th></th>\n",
              "      <th></th>\n",
              "    </tr>\n",
              "  </thead>\n",
              "  <tbody>\n",
              "    <tr>\n",
              "      <th>784469</th>\n",
              "      <td>26507960</td>\n",
              "      <td>1971279.0</td>\n",
              "      <td>2014-10-22T12:55:56Z</td>\n",
              "      <td>NaN</td>\n",
              "      <td>0</td>\n",
              "      <td>Callback for backbone child view?</td>\n",
              "      <td>&lt;p&gt;I have been all over google looking for thi...</td>\n",
              "      <td>9440</td>\n",
              "    </tr>\n",
              "    <tr>\n",
              "      <th>191262</th>\n",
              "      <td>7326910</td>\n",
              "      <td>162045.0</td>\n",
              "      <td>2011-09-06T22:29:08Z</td>\n",
              "      <td>2013-11-11T02:56:00Z</td>\n",
              "      <td>5</td>\n",
              "      <td>Tools for protocol simulation</td>\n",
              "      <td>&lt;p&gt;My software development team has recently f...</td>\n",
              "      <td>15105</td>\n",
              "    </tr>\n",
              "    <tr>\n",
              "      <th>1244409</th>\n",
              "      <td>39673690</td>\n",
              "      <td>6501155.0</td>\n",
              "      <td>2016-09-24T07:20:28Z</td>\n",
              "      <td>NaN</td>\n",
              "      <td>1</td>\n",
              "      <td>HTML/CSS Progess Bar shows on browser but does...</td>\n",
              "      <td>&lt;p&gt;Im helping a friend create a resume and wan...</td>\n",
              "      <td>4614</td>\n",
              "    </tr>\n",
              "    <tr>\n",
              "      <th>915553</th>\n",
              "      <td>30558920</td>\n",
              "      <td>4599151.0</td>\n",
              "      <td>2015-05-31T15:04:13Z</td>\n",
              "      <td>NaN</td>\n",
              "      <td>0</td>\n",
              "      <td>How to use Thread.sleep() in this example in a...</td>\n",
              "      <td>&lt;p&gt;I have some example code on main thread:&lt;/p...</td>\n",
              "      <td>7014</td>\n",
              "    </tr>\n",
              "    <tr>\n",
              "      <th>608088</th>\n",
              "      <td>20952790</td>\n",
              "      <td>1542555.0</td>\n",
              "      <td>2014-01-06T15:02:44Z</td>\n",
              "      <td>NaN</td>\n",
              "      <td>-1</td>\n",
              "      <td>Umlauts not working by exporting a CSV-File</td>\n",
              "      <td>&lt;p&gt;i have a problem by exporting data with uml...</td>\n",
              "      <td>2804</td>\n",
              "    </tr>\n",
              "  </tbody>\n",
              "</table>\n",
              "</div>"
            ],
            "text/plain": [
              "               Id  OwnerUserId          CreationDate            ClosedDate  \\\n",
              "Pos                                                                          \n",
              "784469   26507960    1971279.0  2014-10-22T12:55:56Z                   NaN   \n",
              "191262    7326910     162045.0  2011-09-06T22:29:08Z  2013-11-11T02:56:00Z   \n",
              "1244409  39673690    6501155.0  2016-09-24T07:20:28Z                   NaN   \n",
              "915553   30558920    4599151.0  2015-05-31T15:04:13Z                   NaN   \n",
              "608088   20952790    1542555.0  2014-01-06T15:02:44Z                   NaN   \n",
              "\n",
              "         Score                                              Title  \\\n",
              "Pos                                                                 \n",
              "784469       0                  Callback for backbone child view?   \n",
              "191262       5                      Tools for protocol simulation   \n",
              "1244409      1  HTML/CSS Progess Bar shows on browser but does...   \n",
              "915553       0  How to use Thread.sleep() in this example in a...   \n",
              "608088      -1        Umlauts not working by exporting a CSV-File   \n",
              "\n",
              "                                                      Body  Cluster  \n",
              "Pos                                                                  \n",
              "784469   <p>I have been all over google looking for thi...     9440  \n",
              "191262   <p>My software development team has recently f...    15105  \n",
              "1244409  <p>Im helping a friend create a resume and wan...     4614  \n",
              "915553   <p>I have some example code on main thread:</p...     7014  \n",
              "608088   <p>i have a problem by exporting data with uml...     2804  "
            ]
          },
          "metadata": {
            "tags": []
          },
          "execution_count": 47
        }
      ]
    },
    {
      "metadata": {
        "id": "g-sKUng8E6gG",
        "colab_type": "code",
        "colab": {}
      },
      "cell_type": "code",
      "source": [
        "stats = bc.groupby('Cluster')['Score'].describe().unstack()\n"
      ],
      "execution_count": 0,
      "outputs": []
    },
    {
      "metadata": {
        "id": "OpNL9wdaFFHJ",
        "colab_type": "code",
        "outputId": "ea0fc043-6cc1-42dd-e71c-eead9044c199",
        "colab": {
          "base_uri": "https://localhost:8080/",
          "height": 218
        }
      },
      "cell_type": "code",
      "source": [
        "stats.sort_values(ascending=False).head(10)"
      ],
      "execution_count": 0,
      "outputs": [
        {
          "output_type": "execute_result",
          "data": {
            "text/plain": [
              "      Cluster\n",
              "min   13128      544.0\n",
              "75%   13128      544.0\n",
              "mean  13128      544.0\n",
              "25%   13128      544.0\n",
              "50%   13128      544.0\n",
              "max   13128      544.0\n",
              "      509        409.0\n",
              "min   8670       396.0\n",
              "50%   8670       396.0\n",
              "25%   8670       396.0\n",
              "dtype: float64"
            ]
          },
          "metadata": {
            "tags": []
          },
          "execution_count": 49
        }
      ]
    },
    {
      "metadata": {
        "id": "9erJFmPUFnLK",
        "colab_type": "code",
        "outputId": "3b1beffd-9d1e-4510-dfd4-a23b00353e4c",
        "colab": {
          "base_uri": "https://localhost:8080/",
          "height": 512
        }
      },
      "cell_type": "code",
      "source": [
        "plt.figure(figsize=(12, 8))\n",
        "plt.hlines([0], xmin=0, xmax=np.max(stats['count']) + 5, alpha=0.5)\n",
        "plt.vlines([1], ymin=0, ymax=np.max(stats['mean']) + 50, alpha=0.5)\n",
        "plt.scatter(stats['count'], stats['mean'], alpha=0.3)\n",
        "plt.title(\"cluster mean score vs cluster size\")\n",
        "plt.xlabel(\"cluster size\")\n",
        "plt.ylabel(\"mean score\")\n",
        "plt.show()"
      ],
      "execution_count": 0,
      "outputs": [
        {
          "output_type": "display_data",
          "data": {
            "image/png": "[encoded data removed]",
            "text/plain": [
              "<Figure size 864x576 with 1 Axes>"
            ]
          },
          "metadata": {
            "tags": []
          }
        }
      ]
    },
    {
      "metadata": {
        "id": "TRNWyWL1HZ4I",
        "colab_type": "code",
        "outputId": "30fd87cb-8ef7-4706-e4d6-f4980b1c2924",
        "colab": {
          "base_uri": "https://localhost:8080/",
          "height": 1202
        }
      },
      "cell_type": "code",
      "source": [
        "bc.loc[bc['Cluster'] == cnts.index[0]][['Score', 'Title', 'Body']]\n"
      ],
      "execution_count": 0,
      "outputs": [
        {
          "output_type": "execute_result",
          "data": {
            "text/html": [
              "<div>\n",
              "<style scoped>\n",
              "    .dataframe tbody tr th:only-of-type {\n",
              "        vertical-align: middle;\n",
              "    }\n",
              "\n",
              "    .dataframe tbody tr th {\n",
              "        vertical-align: top;\n",
              "    }\n",
              "\n",
              "    .dataframe thead th {\n",
              "        text-align: right;\n",
              "    }\n",
              "</style>\n",
              "<table border=\"1\" class=\"dataframe\">\n",
              "  <thead>\n",
              "    <tr style=\"text-align: right;\">\n",
              "      <th></th>\n",
              "      <th>Score</th>\n",
              "      <th>Title</th>\n",
              "      <th>Body</th>\n",
              "    </tr>\n",
              "    <tr>\n",
              "      <th>Pos</th>\n",
              "      <th></th>\n",
              "      <th></th>\n",
              "      <th></th>\n",
              "    </tr>\n",
              "  </thead>\n",
              "  <tbody>\n",
              "    <tr>\n",
              "      <th>892629</th>\n",
              "      <td>0</td>\n",
              "      <td>How to arrange table td using rowspan</td>\n",
              "      <td>&lt;p&gt;I have to arrange table cells as shown in t...</td>\n",
              "    </tr>\n",
              "    <tr>\n",
              "      <th>63830</th>\n",
              "      <td>3</td>\n",
              "      <td>Creating the same event for 2 different elemen...</td>\n",
              "      <td>&lt;p&gt;Hey guys,\\nI'd like to create a toggle even...</td>\n",
              "    </tr>\n",
              "    <tr>\n",
              "      <th>962971</th>\n",
              "      <td>1</td>\n",
              "      <td>Webdriver how replace dynamic locator to use P...</td>\n",
              "      <td>&lt;p&gt;Here is html code:&lt;/p&gt;\\n\\n&lt;pre&gt;&lt;code&gt;&amp;lt;ta...</td>\n",
              "    </tr>\n",
              "    <tr>\n",
              "      <th>162911</th>\n",
              "      <td>0</td>\n",
              "      <td>include button into .cs file</td>\n",
              "      <td>&lt;p&gt;I'm trying to read a text file containing t...</td>\n",
              "    </tr>\n",
              "    <tr>\n",
              "      <th>200835</th>\n",
              "      <td>1</td>\n",
              "      <td>jquery + css - hover with parameter</td>\n",
              "      <td>&lt;pre&gt;&lt;code&gt;&amp;lt;table id=\"tab\"&amp;gt;\\n    &amp;lt;tr ...</td>\n",
              "    </tr>\n",
              "    <tr>\n",
              "      <th>265742</th>\n",
              "      <td>0</td>\n",
              "      <td>Can I exclude a div tag/tr tag get update insi...</td>\n",
              "      <td>&lt;p&gt;Below is not a valid code( I just show some...</td>\n",
              "    </tr>\n",
              "    <tr>\n",
              "      <th>850020</th>\n",
              "      <td>1</td>\n",
              "      <td>table Alignment issue - html to pdf conversion...</td>\n",
              "      <td>&lt;p&gt;I am facing issues in table alignment when ...</td>\n",
              "    </tr>\n",
              "    <tr>\n",
              "      <th>409782</th>\n",
              "      <td>0</td>\n",
              "      <td>access variables inside two ajax functions</td>\n",
              "      <td>&lt;p&gt;can i achieve this even more simpler way ??...</td>\n",
              "    </tr>\n",
              "    <tr>\n",
              "      <th>869549</th>\n",
              "      <td>0</td>\n",
              "      <td>Getting text and sending it to a php function ...</td>\n",
              "      <td>&lt;p&gt;I have a php function which displays all th...</td>\n",
              "    </tr>\n",
              "    <tr>\n",
              "      <th>667426</th>\n",
              "      <td>10</td>\n",
              "      <td>Make table cells square</td>\n",
              "      <td>&lt;p&gt;How to ensure that each cell of table shoul...</td>\n",
              "    </tr>\n",
              "    <tr>\n",
              "      <th>823638</th>\n",
              "      <td>0</td>\n",
              "      <td>MySQL Database Search Strings - Partial words</td>\n",
              "      <td>&lt;p&gt;Is it possible to search for results as par...</td>\n",
              "    </tr>\n",
              "    <tr>\n",
              "      <th>548164</th>\n",
              "      <td>0</td>\n",
              "      <td>insert delete button of specific row from a da...</td>\n",
              "      <td>&lt;p&gt;Hello I have the following code displaying ...</td>\n",
              "    </tr>\n",
              "    <tr>\n",
              "      <th>1152730</th>\n",
              "      <td>0</td>\n",
              "      <td>How to get the scroll bar inside the table whe...</td>\n",
              "      <td>&lt;p&gt;I am using jquery.freezeheader.js to freeze...</td>\n",
              "    </tr>\n",
              "    <tr>\n",
              "      <th>1151044</th>\n",
              "      <td>0</td>\n",
              "      <td>How to give print option in a view page in rub...</td>\n",
              "      <td>&lt;pre&gt;&lt;code&gt;&amp;lt;table class=\"table table-border...</td>\n",
              "    </tr>\n",
              "    <tr>\n",
              "      <th>558297</th>\n",
              "      <td>2</td>\n",
              "      <td>Toggle checkbox when clicking table row withou...</td>\n",
              "      <td>&lt;p&gt;I have a HTML table in my HTML5/PHP web app...</td>\n",
              "    </tr>\n",
              "    <tr>\n",
              "      <th>761194</th>\n",
              "      <td>0</td>\n",
              "      <td>CSS Table responsiveness format</td>\n",
              "      <td>&lt;p&gt;I have not found the exact example for this...</td>\n",
              "    </tr>\n",
              "    <tr>\n",
              "      <th>694689</th>\n",
              "      <td>-2</td>\n",
              "      <td>jQuery get link id</td>\n",
              "      <td>&lt;p&gt;I'm trying to get the id-attribute of a dyn...</td>\n",
              "    </tr>\n",
              "    <tr>\n",
              "      <th>997408</th>\n",
              "      <td>2</td>\n",
              "      <td>Jsoup select elements after first element</td>\n",
              "      <td>&lt;p&gt;i want to parse a html table with jsoup.&lt;/p...</td>\n",
              "    </tr>\n",
              "    <tr>\n",
              "      <th>1204266</th>\n",
              "      <td>0</td>\n",
              "      <td>Bootstrap tooltip and datatable not working sa...</td>\n",
              "      <td>&lt;p&gt;I have datatable plugin on page which is do...</td>\n",
              "    </tr>\n",
              "    <tr>\n",
              "      <th>1250114</th>\n",
              "      <td>-1</td>\n",
              "      <td>how to show MySQL table using .html file?</td>\n",
              "      <td>&lt;p&gt;I created a similar post yesterday but I'm ...</td>\n",
              "    </tr>\n",
              "    <tr>\n",
              "      <th>753566</th>\n",
              "      <td>0</td>\n",
              "      <td>Hyperlink on ID in table rows read from DB</td>\n",
              "      <td>&lt;p&gt;I am trying to make the event ID clickable,...</td>\n",
              "    </tr>\n",
              "    <tr>\n",
              "      <th>1212153</th>\n",
              "      <td>0</td>\n",
              "      <td>PHP while loop dynamic rowspan</td>\n",
              "      <td>&lt;p&gt;Consider a table for example&lt;/p&gt;\\n\\n&lt;p&gt;&lt;a h...</td>\n",
              "    </tr>\n",
              "    <tr>\n",
              "      <th>31930</th>\n",
              "      <td>0</td>\n",
              "      <td>PHP Regexp: Subpattern that might occur more t...</td>\n",
              "      <td>&lt;p&gt;Hey there, I'm trying to write a regular ex...</td>\n",
              "    </tr>\n",
              "    <tr>\n",
              "      <th>1067983</th>\n",
              "      <td>2</td>\n",
              "      <td>bootstrap datatable with select column with ra...</td>\n",
              "      <td>&lt;p&gt;I have bootstrap datatable and i am dynamic...</td>\n",
              "    </tr>\n",
              "    <tr>\n",
              "      <th>1177927</th>\n",
              "      <td>0</td>\n",
              "      <td>I am new to angularjs and i need to known how ...</td>\n",
              "      <td>&lt;pre&gt;&lt;code&gt;&amp;lt;table class=\"table table-hover\"...</td>\n",
              "    </tr>\n",
              "    <tr>\n",
              "      <th>958661</th>\n",
              "      <td>0</td>\n",
              "      <td>C# Web Forms table in Repeater. Identify and h...</td>\n",
              "      <td>&lt;p&gt;This is my code:&lt;/p&gt;\\n\\n&lt;pre&gt;&lt;code&gt;&amp;lt;asp:...</td>\n",
              "    </tr>\n",
              "    <tr>\n",
              "      <th>650161</th>\n",
              "      <td>5</td>\n",
              "      <td>Force each row in bootstrap table to be a one-...</td>\n",
              "      <td>&lt;p&gt;I am building up a dynamic table which cons...</td>\n",
              "    </tr>\n",
              "    <tr>\n",
              "      <th>471901</th>\n",
              "      <td>0</td>\n",
              "      <td>Doesnt output \"Total\" at the end of the table ...</td>\n",
              "      <td>&lt;p&gt;Here is my query, at the end of my table I ...</td>\n",
              "    </tr>\n",
              "    <tr>\n",
              "      <th>521458</th>\n",
              "      <td>0</td>\n",
              "      <td>Using attributes that don't belong (HTML)</td>\n",
              "      <td>&lt;p&gt;Let's say I have a Table like this:&lt;/p&gt;\\n\\n...</td>\n",
              "    </tr>\n",
              "    <tr>\n",
              "      <th>110638</th>\n",
              "      <td>0</td>\n",
              "      <td>php - mysql fetch array (LIKE%)</td>\n",
              "      <td>&lt;p&gt;I have a php file which fetch and print dat...</td>\n",
              "    </tr>\n",
              "    <tr>\n",
              "      <th>316455</th>\n",
              "      <td>7</td>\n",
              "      <td>How to display items side-by-side without usin...</td>\n",
              "      <td>&lt;p&gt;For example you want to display an image be...</td>\n",
              "    </tr>\n",
              "    <tr>\n",
              "      <th>769960</th>\n",
              "      <td>2</td>\n",
              "      <td>How to make a div in the middle of two others ...</td>\n",
              "      <td>&lt;p&gt;It's been a while I try to keep away from u...</td>\n",
              "    </tr>\n",
              "    <tr>\n",
              "      <th>694477</th>\n",
              "      <td>-1</td>\n",
              "      <td>javascript hide() hides wrong table cell</td>\n",
              "      <td>&lt;p&gt;I have the following code which creates a t...</td>\n",
              "    </tr>\n",
              "    <tr>\n",
              "      <th>622365</th>\n",
              "      <td>0</td>\n",
              "      <td>PHP Target Rows to Change Background Color</td>\n",
              "      <td>&lt;p&gt;this is my code for a multiplication table....</td>\n",
              "    </tr>\n",
              "    <tr>\n",
              "      <th>613450</th>\n",
              "      <td>1</td>\n",
              "      <td>How to display data as HTML for each item in d...</td>\n",
              "      <td>&lt;p&gt;I have a database called products. In this ...</td>\n",
              "    </tr>\n",
              "    <tr>\n",
              "      <th>114704</th>\n",
              "      <td>0</td>\n",
              "      <td>Can't parse a table child with xpath</td>\n",
              "      <td>&lt;p&gt;I'm parsing a site with some messy html, th...</td>\n",
              "    </tr>\n",
              "    <tr>\n",
              "      <th>250293</th>\n",
              "      <td>0</td>\n",
              "      <td>Jquery Not Working (Maybe AJAX reload - or may...</td>\n",
              "      <td>&lt;p&gt;I'm using this Jquery :&lt;/p&gt;\\n\\n&lt;pre&gt;&lt;code&gt;$...</td>\n",
              "    </tr>\n",
              "    <tr>\n",
              "      <th>1002720</th>\n",
              "      <td>0</td>\n",
              "      <td>Generating diff view using ng-repeat</td>\n",
              "      <td>&lt;p&gt;I have a json containing revision/history i...</td>\n",
              "    </tr>\n",
              "  </tbody>\n",
              "</table>\n",
              "</div>"
            ],
            "text/plain": [
              "         Score                                              Title  \\\n",
              "Pos                                                                 \n",
              "892629       0              How to arrange table td using rowspan   \n",
              "63830        3  Creating the same event for 2 different elemen...   \n",
              "962971       1  Webdriver how replace dynamic locator to use P...   \n",
              "162911       0                       include button into .cs file   \n",
              "200835       1                jquery + css - hover with parameter   \n",
              "265742       0  Can I exclude a div tag/tr tag get update insi...   \n",
              "850020       1  table Alignment issue - html to pdf conversion...   \n",
              "409782       0         access variables inside two ajax functions   \n",
              "869549       0  Getting text and sending it to a php function ...   \n",
              "667426      10                            Make table cells square   \n",
              "823638       0      MySQL Database Search Strings - Partial words   \n",
              "548164       0  insert delete button of specific row from a da...   \n",
              "1152730      0  How to get the scroll bar inside the table whe...   \n",
              "1151044      0  How to give print option in a view page in rub...   \n",
              "558297       2  Toggle checkbox when clicking table row withou...   \n",
              "761194       0                    CSS Table responsiveness format   \n",
              "694689      -2                                 jQuery get link id   \n",
              "997408       2          Jsoup select elements after first element   \n",
              "1204266      0  Bootstrap tooltip and datatable not working sa...   \n",
              "1250114     -1          how to show MySQL table using .html file?   \n",
              "753566       0         Hyperlink on ID in table rows read from DB   \n",
              "1212153      0                     PHP while loop dynamic rowspan   \n",
              "31930        0  PHP Regexp: Subpattern that might occur more t...   \n",
              "1067983      2  bootstrap datatable with select column with ra...   \n",
              "1177927      0  I am new to angularjs and i need to known how ...   \n",
              "958661       0  C# Web Forms table in Repeater. Identify and h...   \n",
              "650161       5  Force each row in bootstrap table to be a one-...   \n",
              "471901       0  Doesnt output \"Total\" at the end of the table ...   \n",
              "521458       0          Using attributes that don't belong (HTML)   \n",
              "110638       0                    php - mysql fetch array (LIKE%)   \n",
              "316455       7  How to display items side-by-side without usin...   \n",
              "769960       2  How to make a div in the middle of two others ...   \n",
              "694477      -1           javascript hide() hides wrong table cell   \n",
              "622365       0         PHP Target Rows to Change Background Color   \n",
              "613450       1  How to display data as HTML for each item in d...   \n",
              "114704       0               Can't parse a table child with xpath   \n",
              "250293       0  Jquery Not Working (Maybe AJAX reload - or may...   \n",
              "1002720      0               Generating diff view using ng-repeat   \n",
              "\n",
              "                                                      Body  \n",
              "Pos                                                         \n",
              "892629   <p>I have to arrange table cells as shown in t...  \n",
              "63830    <p>Hey guys,\\nI'd like to create a toggle even...  \n",
              "962971   <p>Here is html code:</p>\\n\\n<pre><code>&lt;ta...  \n",
              "162911   <p>I'm trying to read a text file containing t...  \n",
              "200835   <pre><code>&lt;table id=\"tab\"&gt;\\n    &lt;tr ...  \n",
              "265742   <p>Below is not a valid code( I just show some...  \n",
              "850020   <p>I am facing issues in table alignment when ...  \n",
              "409782   <p>can i achieve this even more simpler way ??...  \n",
              "869549   <p>I have a php function which displays all th...  \n",
              "667426   <p>How to ensure that each cell of table shoul...  \n",
              "823638   <p>Is it possible to search for results as par...  \n",
              "548164   <p>Hello I have the following code displaying ...  \n",
              "1152730  <p>I am using jquery.freezeheader.js to freeze...  \n",
              "1151044  <pre><code>&lt;table class=\"table table-border...  \n",
              "558297   <p>I have a HTML table in my HTML5/PHP web app...  \n",
              "761194   <p>I have not found the exact example for this...  \n",
              "694689   <p>I'm trying to get the id-attribute of a dyn...  \n",
              "997408   <p>i want to parse a html table with jsoup.</p...  \n",
              "1204266  <p>I have datatable plugin on page which is do...  \n",
              "1250114  <p>I created a similar post yesterday but I'm ...  \n",
              "753566   <p>I am trying to make the event ID clickable,...  \n",
              "1212153  <p>Consider a table for example</p>\\n\\n<p><a h...  \n",
              "31930    <p>Hey there, I'm trying to write a regular ex...  \n",
              "1067983  <p>I have bootstrap datatable and i am dynamic...  \n",
              "1177927  <pre><code>&lt;table class=\"table table-hover\"...  \n",
              "958661   <p>This is my code:</p>\\n\\n<pre><code>&lt;asp:...  \n",
              "650161   <p>I am building up a dynamic table which cons...  \n",
              "471901   <p>Here is my query, at the end of my table I ...  \n",
              "521458   <p>Let's say I have a Table like this:</p>\\n\\n...  \n",
              "110638   <p>I have a php file which fetch and print dat...  \n",
              "316455   <p>For example you want to display an image be...  \n",
              "769960   <p>It's been a while I try to keep away from u...  \n",
              "694477   <p>I have the following code which creates a t...  \n",
              "622365   <p>this is my code for a multiplication table....  \n",
              "613450   <p>I have a database called products. In this ...  \n",
              "114704   <p>I'm parsing a site with some messy html, th...  \n",
              "250293   <p>I'm using this Jquery :</p>\\n\\n<pre><code>$...  \n",
              "1002720  <p>I have a json containing revision/history i...  "
            ]
          },
          "metadata": {
            "tags": []
          },
          "execution_count": 51
        }
      ]
    },
    {
      "metadata": {
        "id": "sJsIInooHgAj",
        "colab_type": "code",
        "outputId": "13abbd5f-8894-4100-ca87-b7ae851053d0",
        "colab": {
          "base_uri": "https://localhost:8080/",
          "height": 906
        }
      },
      "cell_type": "code",
      "source": [
        "bc.loc[bc['Cluster'] == cnts.index[1]][['Score', 'Title', 'Body']]\n"
      ],
      "execution_count": 0,
      "outputs": [
        {
          "output_type": "execute_result",
          "data": {
            "text/html": [
              "<div>\n",
              "<style scoped>\n",
              "    .dataframe tbody tr th:only-of-type {\n",
              "        vertical-align: middle;\n",
              "    }\n",
              "\n",
              "    .dataframe tbody tr th {\n",
              "        vertical-align: top;\n",
              "    }\n",
              "\n",
              "    .dataframe thead th {\n",
              "        text-align: right;\n",
              "    }\n",
              "</style>\n",
              "<table border=\"1\" class=\"dataframe\">\n",
              "  <thead>\n",
              "    <tr style=\"text-align: right;\">\n",
              "      <th></th>\n",
              "      <th>Score</th>\n",
              "      <th>Title</th>\n",
              "      <th>Body</th>\n",
              "    </tr>\n",
              "    <tr>\n",
              "      <th>Pos</th>\n",
              "      <th></th>\n",
              "      <th></th>\n",
              "      <th></th>\n",
              "    </tr>\n",
              "  </thead>\n",
              "  <tbody>\n",
              "    <tr>\n",
              "      <th>905481</th>\n",
              "      <td>0</td>\n",
              "      <td>how to extract multiple cells from different r...</td>\n",
              "      <td>&lt;p&gt;Currently I need to extract value from diff...</td>\n",
              "    </tr>\n",
              "    <tr>\n",
              "      <th>1135214</th>\n",
              "      <td>1</td>\n",
              "      <td>Loop through range and append values based on ...</td>\n",
              "      <td>&lt;p&gt;Search the web and SO, but couldn't find an...</td>\n",
              "    </tr>\n",
              "    <tr>\n",
              "      <th>860926</th>\n",
              "      <td>0</td>\n",
              "      <td>Excel active sheet row count reflect previousl...</td>\n",
              "      <td>&lt;p&gt;I have imported a csv file to sheet(4). I w...</td>\n",
              "    </tr>\n",
              "    <tr>\n",
              "      <th>1205404</th>\n",
              "      <td>0</td>\n",
              "      <td>Creating a txt file from Excel spreadsheet</td>\n",
              "      <td>&lt;p&gt;I am using the below code to create a .txt ...</td>\n",
              "    </tr>\n",
              "    <tr>\n",
              "      <th>1016298</th>\n",
              "      <td>1</td>\n",
              "      <td>Populating TreeView with column header and sub...</td>\n",
              "      <td>&lt;p&gt;I am new to tree view control and would lik...</td>\n",
              "    </tr>\n",
              "    <tr>\n",
              "      <th>1220602</th>\n",
              "      <td>0</td>\n",
              "      <td>How to use vlookup to find values in a workshe...</td>\n",
              "      <td>&lt;p&gt;Im trying to pull the unit and price from a...</td>\n",
              "    </tr>\n",
              "    <tr>\n",
              "      <th>1078420</th>\n",
              "      <td>1</td>\n",
              "      <td>Dynamic For Loops in VBA</td>\n",
              "      <td>&lt;p&gt;Being quite new at VBA, I would appreciate ...</td>\n",
              "    </tr>\n",
              "    <tr>\n",
              "      <th>998583</th>\n",
              "      <td>0</td>\n",
              "      <td>Compile error 'named argument not found'</td>\n",
              "      <td>&lt;p&gt;Excel 2007&lt;/p&gt;\\n\\n&lt;pre&gt;&lt;code&gt;Sub Filtered_d...</td>\n",
              "    </tr>\n",
              "    <tr>\n",
              "      <th>715637</th>\n",
              "      <td>0</td>\n",
              "      <td>Use a loop to delete data in a table range fro...</td>\n",
              "      <td>&lt;p&gt;I'd like to setup a macro to remove data fr...</td>\n",
              "    </tr>\n",
              "    <tr>\n",
              "      <th>1223720</th>\n",
              "      <td>0</td>\n",
              "      <td>Conditional Statement within Loop</td>\n",
              "      <td>&lt;p&gt;What am i doing wrong? I want to create pdf...</td>\n",
              "    </tr>\n",
              "    <tr>\n",
              "      <th>697280</th>\n",
              "      <td>-1</td>\n",
              "      <td>How to ignore cell when the file path is blank</td>\n",
              "      <td>&lt;p&gt;I have a code on my excel worksheet.\\nThe p...</td>\n",
              "    </tr>\n",
              "    <tr>\n",
              "      <th>1193440</th>\n",
              "      <td>0</td>\n",
              "      <td>Excel VBA: Repeatedly Add Outside Borders</td>\n",
              "      <td>&lt;p&gt;I need to add outside borders to some range...</td>\n",
              "    </tr>\n",
              "    <tr>\n",
              "      <th>777429</th>\n",
              "      <td>-1</td>\n",
              "      <td>Need a script to transfer data from one excel ...</td>\n",
              "      <td>&lt;p&gt;I have a user who works with Excel sheets d...</td>\n",
              "    </tr>\n",
              "    <tr>\n",
              "      <th>930925</th>\n",
              "      <td>0</td>\n",
              "      <td>Count coloured cells in each column and return...</td>\n",
              "      <td>&lt;p&gt;I've been trying to find an easier way to r...</td>\n",
              "    </tr>\n",
              "    <tr>\n",
              "      <th>499199</th>\n",
              "      <td>1</td>\n",
              "      <td>run time error 1004 in for-loop</td>\n",
              "      <td>&lt;p&gt;The following code is meant to execute the ...</td>\n",
              "    </tr>\n",
              "    <tr>\n",
              "      <th>1159394</th>\n",
              "      <td>0</td>\n",
              "      <td>Removing .activate from code</td>\n",
              "      <td>&lt;p&gt;I am trying to name a range and set it equa...</td>\n",
              "    </tr>\n",
              "    <tr>\n",
              "      <th>1015194</th>\n",
              "      <td>0</td>\n",
              "      <td>Log in multiple users</td>\n",
              "      <td>&lt;p&gt;I'm trying to create a log in with multiple...</td>\n",
              "    </tr>\n",
              "    <tr>\n",
              "      <th>1242340</th>\n",
              "      <td>0</td>\n",
              "      <td>Copy Range of Data and paste in recording shee...</td>\n",
              "      <td>&lt;p&gt;I'm very new to VBA but i manage to gather ...</td>\n",
              "    </tr>\n",
              "    <tr>\n",
              "      <th>36599</th>\n",
              "      <td>1</td>\n",
              "      <td>Write to two cells at same time excel vba</td>\n",
              "      <td>&lt;p&gt;I need to write the same data into two diff...</td>\n",
              "    </tr>\n",
              "    <tr>\n",
              "      <th>1081293</th>\n",
              "      <td>0</td>\n",
              "      <td>Pull data from another workbook, searching in ...</td>\n",
              "      <td>&lt;p&gt;please I need help with a code for:\\n1) Cop...</td>\n",
              "    </tr>\n",
              "    <tr>\n",
              "      <th>152197</th>\n",
              "      <td>1</td>\n",
              "      <td>How to Extract data from 2 sheets of excel and...</td>\n",
              "      <td>&lt;p&gt;I have data in 2 sheets excel say sheet2 an...</td>\n",
              "    </tr>\n",
              "    <tr>\n",
              "      <th>1044131</th>\n",
              "      <td>2</td>\n",
              "      <td>Program copies and pastes twice</td>\n",
              "      <td>&lt;p&gt;I have created a macro to allow me to searc...</td>\n",
              "    </tr>\n",
              "    <tr>\n",
              "      <th>804032</th>\n",
              "      <td>0</td>\n",
              "      <td>excel VBA copy paste only column A of the row?</td>\n",
              "      <td>&lt;p&gt;I have this formula to generate result at s...</td>\n",
              "    </tr>\n",
              "    <tr>\n",
              "      <th>1168317</th>\n",
              "      <td>1</td>\n",
              "      <td>Overflow Error in VBA code</td>\n",
              "      <td>&lt;p&gt;Below is my code for the project I am doing...</td>\n",
              "    </tr>\n",
              "    <tr>\n",
              "      <th>1236501</th>\n",
              "      <td>0</td>\n",
              "      <td>How to apply vba code which highlights active ...</td>\n",
              "      <td>&lt;p&gt;I am currently trying to apply this code be...</td>\n",
              "    </tr>\n",
              "    <tr>\n",
              "      <th>977221</th>\n",
              "      <td>2</td>\n",
              "      <td>Find cells of certain length and copy to curre...</td>\n",
              "      <td>&lt;p&gt;I have an excel file with 2 worksheets. &lt;/p...</td>\n",
              "    </tr>\n",
              "    <tr>\n",
              "      <th>942968</th>\n",
              "      <td>0</td>\n",
              "      <td>Setting up the range correctly in a loop</td>\n",
              "      <td>&lt;p&gt;I can't figure out what is the mistake I am...</td>\n",
              "    </tr>\n",
              "    <tr>\n",
              "      <th>757674</th>\n",
              "      <td>-3</td>\n",
              "      <td>excel macro find a specific string and copy PA...</td>\n",
              "      <td>&lt;p&gt;can anyone help me with this\\nexcel macro f...</td>\n",
              "    </tr>\n",
              "  </tbody>\n",
              "</table>\n",
              "</div>"
            ],
            "text/plain": [
              "         Score                                              Title  \\\n",
              "Pos                                                                 \n",
              "905481       0  how to extract multiple cells from different r...   \n",
              "1135214      1  Loop through range and append values based on ...   \n",
              "860926       0  Excel active sheet row count reflect previousl...   \n",
              "1205404      0         Creating a txt file from Excel spreadsheet   \n",
              "1016298      1  Populating TreeView with column header and sub...   \n",
              "1220602      0  How to use vlookup to find values in a workshe...   \n",
              "1078420      1                           Dynamic For Loops in VBA   \n",
              "998583       0           Compile error 'named argument not found'   \n",
              "715637       0  Use a loop to delete data in a table range fro...   \n",
              "1223720      0                  Conditional Statement within Loop   \n",
              "697280      -1     How to ignore cell when the file path is blank   \n",
              "1193440      0          Excel VBA: Repeatedly Add Outside Borders   \n",
              "777429      -1  Need a script to transfer data from one excel ...   \n",
              "930925       0  Count coloured cells in each column and return...   \n",
              "499199       1                    run time error 1004 in for-loop   \n",
              "1159394      0                       Removing .activate from code   \n",
              "1015194      0                              Log in multiple users   \n",
              "1242340      0  Copy Range of Data and paste in recording shee...   \n",
              "36599        1          Write to two cells at same time excel vba   \n",
              "1081293      0  Pull data from another workbook, searching in ...   \n",
              "152197       1  How to Extract data from 2 sheets of excel and...   \n",
              "1044131      2                    Program copies and pastes twice   \n",
              "804032       0     excel VBA copy paste only column A of the row?   \n",
              "1168317      1                         Overflow Error in VBA code   \n",
              "1236501      0  How to apply vba code which highlights active ...   \n",
              "977221       2  Find cells of certain length and copy to curre...   \n",
              "942968       0           Setting up the range correctly in a loop   \n",
              "757674      -3  excel macro find a specific string and copy PA...   \n",
              "\n",
              "                                                      Body  \n",
              "Pos                                                         \n",
              "905481   <p>Currently I need to extract value from diff...  \n",
              "1135214  <p>Search the web and SO, but couldn't find an...  \n",
              "860926   <p>I have imported a csv file to sheet(4). I w...  \n",
              "1205404  <p>I am using the below code to create a .txt ...  \n",
              "1016298  <p>I am new to tree view control and would lik...  \n",
              "1220602  <p>Im trying to pull the unit and price from a...  \n",
              "1078420  <p>Being quite new at VBA, I would appreciate ...  \n",
              "998583   <p>Excel 2007</p>\\n\\n<pre><code>Sub Filtered_d...  \n",
              "715637   <p>I'd like to setup a macro to remove data fr...  \n",
              "1223720  <p>What am i doing wrong? I want to create pdf...  \n",
              "697280   <p>I have a code on my excel worksheet.\\nThe p...  \n",
              "1193440  <p>I need to add outside borders to some range...  \n",
              "777429   <p>I have a user who works with Excel sheets d...  \n",
              "930925   <p>I've been trying to find an easier way to r...  \n",
              "499199   <p>The following code is meant to execute the ...  \n",
              "1159394  <p>I am trying to name a range and set it equa...  \n",
              "1015194  <p>I'm trying to create a log in with multiple...  \n",
              "1242340  <p>I'm very new to VBA but i manage to gather ...  \n",
              "36599    <p>I need to write the same data into two diff...  \n",
              "1081293  <p>please I need help with a code for:\\n1) Cop...  \n",
              "152197   <p>I have data in 2 sheets excel say sheet2 an...  \n",
              "1044131  <p>I have created a macro to allow me to searc...  \n",
              "804032   <p>I have this formula to generate result at s...  \n",
              "1168317  <p>Below is my code for the project I am doing...  \n",
              "1236501  <p>I am currently trying to apply this code be...  \n",
              "977221   <p>I have an excel file with 2 worksheets. </p...  \n",
              "942968   <p>I can't figure out what is the mistake I am...  \n",
              "757674   <p>can anyone help me with this\\nexcel macro f...  "
            ]
          },
          "metadata": {
            "tags": []
          },
          "execution_count": 52
        }
      ]
    },
    {
      "metadata": {
        "id": "EJ7_d9jBHwLj",
        "colab_type": "code",
        "outputId": "d5a2853e-99e6-4ec5-e1a0-b19fc403db1e",
        "colab": {
          "base_uri": "https://localhost:8080/",
          "height": 639
        }
      },
      "cell_type": "code",
      "source": [
        "bc.loc[bc['Cluster'] == cnts.index[2]][['Score', 'Title', 'Body']]\n"
      ],
      "execution_count": 0,
      "outputs": [
        {
          "output_type": "execute_result",
          "data": {
            "text/html": [
              "<div>\n",
              "<style scoped>\n",
              "    .dataframe tbody tr th:only-of-type {\n",
              "        vertical-align: middle;\n",
              "    }\n",
              "\n",
              "    .dataframe tbody tr th {\n",
              "        vertical-align: top;\n",
              "    }\n",
              "\n",
              "    .dataframe thead th {\n",
              "        text-align: right;\n",
              "    }\n",
              "</style>\n",
              "<table border=\"1\" class=\"dataframe\">\n",
              "  <thead>\n",
              "    <tr style=\"text-align: right;\">\n",
              "      <th></th>\n",
              "      <th>Score</th>\n",
              "      <th>Title</th>\n",
              "      <th>Body</th>\n",
              "    </tr>\n",
              "    <tr>\n",
              "      <th>Pos</th>\n",
              "      <th></th>\n",
              "      <th></th>\n",
              "      <th></th>\n",
              "    </tr>\n",
              "  </thead>\n",
              "  <tbody>\n",
              "    <tr>\n",
              "      <th>638470</th>\n",
              "      <td>0</td>\n",
              "      <td>Event after selecting item from checkbox multi...</td>\n",
              "      <td>&lt;p&gt;I have to display second select list if par...</td>\n",
              "    </tr>\n",
              "    <tr>\n",
              "      <th>652267</th>\n",
              "      <td>-1</td>\n",
              "      <td>Jquery Ajax not able to overwrite the span class</td>\n",
              "      <td>&lt;p&gt;I am getting the value in the script which ...</td>\n",
              "    </tr>\n",
              "    <tr>\n",
              "      <th>1200435</th>\n",
              "      <td>2</td>\n",
              "      <td>Dynamically append dropdown's value text to an...</td>\n",
              "      <td>&lt;pre&gt;&lt;code&gt;&amp;lt;select id=\"mg_sport_game_id1\"&amp;g...</td>\n",
              "    </tr>\n",
              "    <tr>\n",
              "      <th>416688</th>\n",
              "      <td>0</td>\n",
              "      <td>dynamic dropdown to checkbox</td>\n",
              "      <td>&lt;p&gt;I would like to convert my current code to ...</td>\n",
              "    </tr>\n",
              "    <tr>\n",
              "      <th>1184502</th>\n",
              "      <td>0</td>\n",
              "      <td>How to display a select only when other select...</td>\n",
              "      <td>&lt;p&gt;I have 4 selects on a page and only the fir...</td>\n",
              "    </tr>\n",
              "    <tr>\n",
              "      <th>721535</th>\n",
              "      <td>0</td>\n",
              "      <td>I am trying to add a text area based on Other ...</td>\n",
              "      <td>&lt;p&gt;I am trying to add a textarea based on the ...</td>\n",
              "    </tr>\n",
              "    <tr>\n",
              "      <th>177165</th>\n",
              "      <td>0</td>\n",
              "      <td>Populate DropDown and Get Selected Value From ...</td>\n",
              "      <td>&lt;p&gt;I have the code to select the values from a...</td>\n",
              "    </tr>\n",
              "    <tr>\n",
              "      <th>546443</th>\n",
              "      <td>0</td>\n",
              "      <td>Need function to run on selecting an option in...</td>\n",
              "      <td>&lt;p&gt;Hi I know this has probably been asked befo...</td>\n",
              "    </tr>\n",
              "    <tr>\n",
              "      <th>1105621</th>\n",
              "      <td>0</td>\n",
              "      <td>option list using array - php</td>\n",
              "      <td>&lt;p&gt;&lt;strong&gt;Data from database are already okay...</td>\n",
              "    </tr>\n",
              "    <tr>\n",
              "      <th>1200129</th>\n",
              "      <td>0</td>\n",
              "      <td>How do I run Javascript on page load</td>\n",
              "      <td>&lt;p&gt;I have the following script that will displ...</td>\n",
              "    </tr>\n",
              "    <tr>\n",
              "      <th>375280</th>\n",
              "      <td>0</td>\n",
              "      <td>jQuery and form value onchange function call?</td>\n",
              "      <td>&lt;p&gt;I need a form selection to trigger a jquery...</td>\n",
              "    </tr>\n",
              "    <tr>\n",
              "      <th>1055650</th>\n",
              "      <td>-1</td>\n",
              "      <td>Simplfly jQuery and HTML to show/hide divs on ...</td>\n",
              "      <td>&lt;p&gt;I came up with some very basic jQuery using...</td>\n",
              "    </tr>\n",
              "    <tr>\n",
              "      <th>641814</th>\n",
              "      <td>0</td>\n",
              "      <td>How to get multiple checkbox value using jQuer...</td>\n",
              "      <td>&lt;p&gt;My multiselect automatically generate the n...</td>\n",
              "    </tr>\n",
              "    <tr>\n",
              "      <th>1161645</th>\n",
              "      <td>1</td>\n",
              "      <td>Backbone click event not firing in Google Chrome</td>\n",
              "      <td>&lt;p&gt;I have the following code and it works in e...</td>\n",
              "    </tr>\n",
              "    <tr>\n",
              "      <th>203764</th>\n",
              "      <td>3</td>\n",
              "      <td>Select list (dropdown) in HAML</td>\n",
              "      <td>&lt;p&gt;I'm having trouble producing a traditional ...</td>\n",
              "    </tr>\n",
              "    <tr>\n",
              "      <th>255445</th>\n",
              "      <td>0</td>\n",
              "      <td>Auto link to href with combo box items value</td>\n",
              "      <td>&lt;p&gt;I have a dynamic combo box which has the UR...</td>\n",
              "    </tr>\n",
              "    <tr>\n",
              "      <th>542030</th>\n",
              "      <td>-1</td>\n",
              "      <td>change jquery slider value with code</td>\n",
              "      <td>&lt;pre&gt;&lt;code&gt;              &amp;lt;form&amp;gt;\\n       ...</td>\n",
              "    </tr>\n",
              "    <tr>\n",
              "      <th>244465</th>\n",
              "      <td>7</td>\n",
              "      <td>How to load JSON data with jQuery, PHP and MySQL</td>\n",
              "      <td>&lt;p&gt;I want to create a dynamic dropdown menu th...</td>\n",
              "    </tr>\n",
              "    <tr>\n",
              "      <th>612762</th>\n",
              "      <td>-2</td>\n",
              "      <td>jquery change function hide and show div</td>\n",
              "      <td>&lt;p&gt;have this code, i want to convert it to be ...</td>\n",
              "    </tr>\n",
              "  </tbody>\n",
              "</table>\n",
              "</div>"
            ],
            "text/plain": [
              "         Score                                              Title  \\\n",
              "Pos                                                                 \n",
              "638470       0  Event after selecting item from checkbox multi...   \n",
              "652267      -1   Jquery Ajax not able to overwrite the span class   \n",
              "1200435      2  Dynamically append dropdown's value text to an...   \n",
              "416688       0                       dynamic dropdown to checkbox   \n",
              "1184502      0  How to display a select only when other select...   \n",
              "721535       0  I am trying to add a text area based on Other ...   \n",
              "177165       0  Populate DropDown and Get Selected Value From ...   \n",
              "546443       0  Need function to run on selecting an option in...   \n",
              "1105621      0                      option list using array - php   \n",
              "1200129      0               How do I run Javascript on page load   \n",
              "375280       0      jQuery and form value onchange function call?   \n",
              "1055650     -1  Simplfly jQuery and HTML to show/hide divs on ...   \n",
              "641814       0  How to get multiple checkbox value using jQuer...   \n",
              "1161645      1   Backbone click event not firing in Google Chrome   \n",
              "203764       3                     Select list (dropdown) in HAML   \n",
              "255445       0       Auto link to href with combo box items value   \n",
              "542030      -1               change jquery slider value with code   \n",
              "244465       7   How to load JSON data with jQuery, PHP and MySQL   \n",
              "612762      -2           jquery change function hide and show div   \n",
              "\n",
              "                                                      Body  \n",
              "Pos                                                         \n",
              "638470   <p>I have to display second select list if par...  \n",
              "652267   <p>I am getting the value in the script which ...  \n",
              "1200435  <pre><code>&lt;select id=\"mg_sport_game_id1\"&g...  \n",
              "416688   <p>I would like to convert my current code to ...  \n",
              "1184502  <p>I have 4 selects on a page and only the fir...  \n",
              "721535   <p>I am trying to add a textarea based on the ...  \n",
              "177165   <p>I have the code to select the values from a...  \n",
              "546443   <p>Hi I know this has probably been asked befo...  \n",
              "1105621  <p><strong>Data from database are already okay...  \n",
              "1200129  <p>I have the following script that will displ...  \n",
              "375280   <p>I need a form selection to trigger a jquery...  \n",
              "1055650  <p>I came up with some very basic jQuery using...  \n",
              "641814   <p>My multiselect automatically generate the n...  \n",
              "1161645  <p>I have the following code and it works in e...  \n",
              "203764   <p>I'm having trouble producing a traditional ...  \n",
              "255445   <p>I have a dynamic combo box which has the UR...  \n",
              "542030   <pre><code>              &lt;form&gt;\\n       ...  \n",
              "244465   <p>I want to create a dynamic dropdown menu th...  \n",
              "612762   <p>have this code, i want to convert it to be ...  "
            ]
          },
          "metadata": {
            "tags": []
          },
          "execution_count": 53
        }
      ]
    },
    {
      "metadata": {
        "id": "DmuUVoP2GM5i",
        "colab_type": "code",
        "colab": {}
      },
      "cell_type": "code",
      "source": [
        "import numpy as np\n",
        "import pandas as pd\n",
        "import gensim\n",
        "from bs4 import BeautifulSoup\n",
        "import nltk\n",
        "import re"
      ],
      "execution_count": 0,
      "outputs": []
    },
    {
      "metadata": {
        "id": "kG7flNqaGdT7",
        "colab_type": "code",
        "outputId": "30195876-ca88-4e24-f1c0-8c1dc1a6b6f9",
        "colab": {
          "base_uri": "https://localhost:8080/",
          "height": 289
        }
      },
      "cell_type": "code",
      "source": [
        "questions_df = pd.read_csv(\"Questions.csv\", encoding='latin1')\n",
        "tags_df = pd.read_csv(\"Tags.csv\", encoding='latin1')\n",
        "questions_df.head()"
      ],
      "execution_count": 0,
      "outputs": [
        {
          "output_type": "execute_result",
          "data": {
            "text/html": [
              "<div>\n",
              "<style scoped>\n",
              "    .dataframe tbody tr th:only-of-type {\n",
              "        vertical-align: middle;\n",
              "    }\n",
              "\n",
              "    .dataframe tbody tr th {\n",
              "        vertical-align: top;\n",
              "    }\n",
              "\n",
              "    .dataframe thead th {\n",
              "        text-align: right;\n",
              "    }\n",
              "</style>\n",
              "<table border=\"1\" class=\"dataframe\">\n",
              "  <thead>\n",
              "    <tr style=\"text-align: right;\">\n",
              "      <th></th>\n",
              "      <th>Id</th>\n",
              "      <th>OwnerUserId</th>\n",
              "      <th>CreationDate</th>\n",
              "      <th>ClosedDate</th>\n",
              "      <th>Score</th>\n",
              "      <th>Title</th>\n",
              "      <th>Body</th>\n",
              "    </tr>\n",
              "  </thead>\n",
              "  <tbody>\n",
              "    <tr>\n",
              "      <th>0</th>\n",
              "      <td>80</td>\n",
              "      <td>26.0</td>\n",
              "      <td>2008-08-01T13:57:07Z</td>\n",
              "      <td>NaN</td>\n",
              "      <td>26</td>\n",
              "      <td>SQLStatement.execute() - multiple queries in o...</td>\n",
              "      <td>&lt;p&gt;I've written a database generation script i...</td>\n",
              "    </tr>\n",
              "    <tr>\n",
              "      <th>1</th>\n",
              "      <td>90</td>\n",
              "      <td>58.0</td>\n",
              "      <td>2008-08-01T14:41:24Z</td>\n",
              "      <td>2012-12-26T03:45:49Z</td>\n",
              "      <td>144</td>\n",
              "      <td>Good branching and merging tutorials for Torto...</td>\n",
              "      <td>&lt;p&gt;Are there any really good tutorials explain...</td>\n",
              "    </tr>\n",
              "    <tr>\n",
              "      <th>2</th>\n",
              "      <td>120</td>\n",
              "      <td>83.0</td>\n",
              "      <td>2008-08-01T15:50:08Z</td>\n",
              "      <td>NaN</td>\n",
              "      <td>21</td>\n",
              "      <td>ASP.NET Site Maps</td>\n",
              "      <td>&lt;p&gt;Has anyone got experience creating &lt;strong&gt;...</td>\n",
              "    </tr>\n",
              "    <tr>\n",
              "      <th>3</th>\n",
              "      <td>180</td>\n",
              "      <td>2089740.0</td>\n",
              "      <td>2008-08-01T18:42:19Z</td>\n",
              "      <td>NaN</td>\n",
              "      <td>53</td>\n",
              "      <td>Function for creating color wheels</td>\n",
              "      <td>&lt;p&gt;This is something I've pseudo-solved many t...</td>\n",
              "    </tr>\n",
              "    <tr>\n",
              "      <th>4</th>\n",
              "      <td>260</td>\n",
              "      <td>91.0</td>\n",
              "      <td>2008-08-01T23:22:08Z</td>\n",
              "      <td>NaN</td>\n",
              "      <td>49</td>\n",
              "      <td>Adding scripting functionality to .NET applica...</td>\n",
              "      <td>&lt;p&gt;I have a little game written in C#. It uses...</td>\n",
              "    </tr>\n",
              "  </tbody>\n",
              "</table>\n",
              "</div>"
            ],
            "text/plain": [
              "    Id  OwnerUserId          CreationDate            ClosedDate  Score  \\\n",
              "0   80         26.0  2008-08-01T13:57:07Z                   NaN     26   \n",
              "1   90         58.0  2008-08-01T14:41:24Z  2012-12-26T03:45:49Z    144   \n",
              "2  120         83.0  2008-08-01T15:50:08Z                   NaN     21   \n",
              "3  180    2089740.0  2008-08-01T18:42:19Z                   NaN     53   \n",
              "4  260         91.0  2008-08-01T23:22:08Z                   NaN     49   \n",
              "\n",
              "                                               Title  \\\n",
              "0  SQLStatement.execute() - multiple queries in o...   \n",
              "1  Good branching and merging tutorials for Torto...   \n",
              "2                                  ASP.NET Site Maps   \n",
              "3                 Function for creating color wheels   \n",
              "4  Adding scripting functionality to .NET applica...   \n",
              "\n",
              "                                                Body  \n",
              "0  <p>I've written a database generation script i...  \n",
              "1  <p>Are there any really good tutorials explain...  \n",
              "2  <p>Has anyone got experience creating <strong>...  \n",
              "3  <p>This is something I've pseudo-solved many t...  \n",
              "4  <p>I have a little game written in C#. It uses...  "
            ]
          },
          "metadata": {
            "tags": []
          },
          "execution_count": 9
        }
      ]
    },
    {
      "metadata": {
        "id": "EbGGD37kHHFr",
        "colab_type": "code",
        "outputId": "c156506f-5fe1-4c8b-c9b0-00cac0b3363d",
        "colab": {
          "base_uri": "https://localhost:8080/",
          "height": 204
        }
      },
      "cell_type": "code",
      "source": [
        "import pandas as pd\n",
        "import re\n",
        "from nltk.corpus import stopwords\n",
        "import nltk\n",
        "nltk.download('stopwords')\n",
        "nltk.download('punkt')\n",
        "from textblob import TextBlob as tb\n",
        "from sklearn.metrics import jaccard_similarity_score\n",
        "from html.parser import HTMLParser\n",
        "import collections\n",
        "import numpy as np\n",
        "import math\n",
        "import matplotlib.pyplot as plt\n",
        "import matplotlib.cm as cm\n",
        "%matplotlib inline\n",
        "dataset_dir = \"../content/\"\n",
        "dataset_dir_questions = \"Questions.csv\"\n",
        "dataset_dir_answers = \"Answers.csv\"\n",
        "dataset_dir_tags = \"Tags.csv\"\n",
        "# for offline run\n",
        "# dataset_dir = \"/home/su/Downloads/stacksample\"\n",
        "# list the files in the dataset directory\n",
        "from subprocess import check_output\n",
        "print(check_output([\"ls\", dataset_dir]).decode(\"utf8\"))\n",
        "cachedStopWords = stopwords.words(\"english\")"
      ],
      "execution_count": 0,
      "outputs": [
        {
          "output_type": "stream",
          "text": [
            "[nltk_data] Downloading package stopwords to /root/nltk_data...\n",
            "[nltk_data]   Package stopwords is already up-to-date!\n",
            "[nltk_data] Downloading package punkt to /root/nltk_data...\n",
            "[nltk_data]   Unzipping tokenizers/punkt.zip.\n",
            "Answers.csv\n",
            "kaggle.json\n",
            "Questions.csv\n",
            "sample_data\n",
            "stacksample.zip\n",
            "Tags.csv\n",
            "\n"
          ],
          "name": "stdout"
        }
      ]
    },
    {
      "metadata": {
        "id": "VuoDUdCgKtnw",
        "colab_type": "code",
        "colab": {}
      },
      "cell_type": "code",
      "source": [
        "class MLStripper(HTMLParser):\n",
        "    def __init__(self):\n",
        "        self.reset()\n",
        "        self.strict = False\n",
        "        self.convert_charrefs= True\n",
        "        self.fed = []\n",
        "    def handle_data(self, d):\n",
        "        self.fed.append(d)\n",
        "    def get_data(self):\n",
        "        return ''.join(self.fed)\n",
        "\n",
        "def strip_tags(html):\n",
        "    s = MLStripper()\n",
        "    s.feed(html)\n",
        "    return s.get_data()"
      ],
      "execution_count": 0,
      "outputs": []
    },
    {
      "metadata": {
        "id": "9_TvkjYsK3sl",
        "colab_type": "code",
        "colab": {}
      },
      "cell_type": "code",
      "source": [
        "def tf(word, blob):\n",
        "    return blob.words.count(word) / len(blob.words)\n",
        "def n_containing(word, bloblist):\n",
        "    return sum(1 for blob in bloblist if word in blob.words)\n",
        "def idf(word, bloblist):\n",
        "    return math.log(len(bloblist) / (1 + n_containing(word, bloblist)))\n",
        "def tfidf(word, blob, bloblist):\n",
        "    return tf(word, blob) * idf(word, bloblist)"
      ],
      "execution_count": 0,
      "outputs": []
    },
    {
      "metadata": {
        "id": "aKnGap2MK3xa",
        "colab_type": "code",
        "colab": {}
      },
      "cell_type": "code",
      "source": [
        "def normalize(str):\n",
        "    return ' '.join([word for word in re.sub(r'[^\\w]', ' ', strip_tags(str)).lower().split() if word not in cachedStopWords and len(word) > 1 and not word.isdigit()])"
      ],
      "execution_count": 0,
      "outputs": []
    },
    {
      "metadata": {
        "id": "-mv9HTSTLvO2",
        "colab_type": "code",
        "colab": {}
      },
      "cell_type": "code",
      "source": [
        "questions_df = pd.read_csv(dataset_dir+dataset_dir_questions, encoding='latin1').iloc[::10000, :]\n",
        "answers_df = pd.read_csv(dataset_dir+dataset_dir_answers, encoding='latin1').iloc[::1000, :]\n",
        "tags_df = pd.read_csv(dataset_dir+dataset_dir_tags, encoding='latin1').iloc[::1000, :]\n"
      ],
      "execution_count": 0,
      "outputs": []
    },
    {
      "metadata": {
        "id": "17BItKRoMfX4",
        "colab_type": "code",
        "outputId": "6d90a886-deb6-4a41-cf63-6bde6c3003d1",
        "colab": {
          "base_uri": "https://localhost:8080/",
          "height": 359
        }
      },
      "cell_type": "code",
      "source": [
        "# Calculate dimensionality\n",
        "questions_df.shape \n",
        "answers_df.shape \n",
        "tags_df.shape \n",
        "\n",
        "# Sample dataframe - uncomment to view\n",
        "questions_df.head(10)\n",
        "answers_df.head(10)\n",
        "tags_df.head(10) "
      ],
      "execution_count": 0,
      "outputs": [
        {
          "output_type": "execute_result",
          "data": {
            "text/html": [
              "<div>\n",
              "<style scoped>\n",
              "    .dataframe tbody tr th:only-of-type {\n",
              "        vertical-align: middle;\n",
              "    }\n",
              "\n",
              "    .dataframe tbody tr th {\n",
              "        vertical-align: top;\n",
              "    }\n",
              "\n",
              "    .dataframe thead th {\n",
              "        text-align: right;\n",
              "    }\n",
              "</style>\n",
              "<table border=\"1\" class=\"dataframe\">\n",
              "  <thead>\n",
              "    <tr style=\"text-align: right;\">\n",
              "      <th></th>\n",
              "      <th>Id</th>\n",
              "      <th>Tag</th>\n",
              "    </tr>\n",
              "  </thead>\n",
              "  <tbody>\n",
              "    <tr>\n",
              "      <th>0</th>\n",
              "      <td>80</td>\n",
              "      <td>flex</td>\n",
              "    </tr>\n",
              "    <tr>\n",
              "      <th>1000</th>\n",
              "      <td>33550</td>\n",
              "      <td>computer-algebra-systems</td>\n",
              "    </tr>\n",
              "    <tr>\n",
              "      <th>2000</th>\n",
              "      <td>60740</td>\n",
              "      <td>png</td>\n",
              "    </tr>\n",
              "    <tr>\n",
              "      <th>3000</th>\n",
              "      <td>90530</td>\n",
              "      <td>desktop-application</td>\n",
              "    </tr>\n",
              "    <tr>\n",
              "      <th>4000</th>\n",
              "      <td>119550</td>\n",
              "      <td>wcf</td>\n",
              "    </tr>\n",
              "    <tr>\n",
              "      <th>5000</th>\n",
              "      <td>145720</td>\n",
              "      <td>code-reuse</td>\n",
              "    </tr>\n",
              "    <tr>\n",
              "      <th>6000</th>\n",
              "      <td>171020</td>\n",
              "      <td>iis</td>\n",
              "    </tr>\n",
              "    <tr>\n",
              "      <th>7000</th>\n",
              "      <td>194150</td>\n",
              "      <td>soundchannel</td>\n",
              "    </tr>\n",
              "    <tr>\n",
              "      <th>8000</th>\n",
              "      <td>215810</td>\n",
              "      <td>ubuntu</td>\n",
              "    </tr>\n",
              "    <tr>\n",
              "      <th>9000</th>\n",
              "      <td>238660</td>\n",
              "      <td>.net</td>\n",
              "    </tr>\n",
              "  </tbody>\n",
              "</table>\n",
              "</div>"
            ],
            "text/plain": [
              "          Id                       Tag\n",
              "0         80                      flex\n",
              "1000   33550  computer-algebra-systems\n",
              "2000   60740                       png\n",
              "3000   90530       desktop-application\n",
              "4000  119550                       wcf\n",
              "5000  145720                code-reuse\n",
              "6000  171020                       iis\n",
              "7000  194150              soundchannel\n",
              "8000  215810                    ubuntu\n",
              "9000  238660                      .net"
            ]
          },
          "metadata": {
            "tags": []
          },
          "execution_count": 20
        }
      ]
    },
    {
      "metadata": {
        "id": "UORXP9K3NUNM",
        "colab_type": "code",
        "outputId": "54249ba1-0941-4df1-c189-9b2f5f86510d",
        "colab": {
          "base_uri": "https://localhost:8080/",
          "height": 359
        }
      },
      "cell_type": "code",
      "source": [
        "# Calculate dimensionality\n",
        "questions_df.shape \n",
        "answers_df.shape \n",
        "tags_df.shape \n",
        "\n",
        "# Sample dataframe - uncomment to view\n",
        "questions_df.head(10).loc[:, 'Title':'Body']\n",
        "answers_df.head(10).loc[:, 'Body':]\n",
        "tags_df.head(10)"
      ],
      "execution_count": 0,
      "outputs": [
        {
          "output_type": "execute_result",
          "data": {
            "text/html": [
              "<div>\n",
              "<style scoped>\n",
              "    .dataframe tbody tr th:only-of-type {\n",
              "        vertical-align: middle;\n",
              "    }\n",
              "\n",
              "    .dataframe tbody tr th {\n",
              "        vertical-align: top;\n",
              "    }\n",
              "\n",
              "    .dataframe thead th {\n",
              "        text-align: right;\n",
              "    }\n",
              "</style>\n",
              "<table border=\"1\" class=\"dataframe\">\n",
              "  <thead>\n",
              "    <tr style=\"text-align: right;\">\n",
              "      <th></th>\n",
              "      <th>Id</th>\n",
              "      <th>Tag</th>\n",
              "    </tr>\n",
              "  </thead>\n",
              "  <tbody>\n",
              "    <tr>\n",
              "      <th>0</th>\n",
              "      <td>80</td>\n",
              "      <td>flex</td>\n",
              "    </tr>\n",
              "    <tr>\n",
              "      <th>1000</th>\n",
              "      <td>33550</td>\n",
              "      <td>computer-algebra-systems</td>\n",
              "    </tr>\n",
              "    <tr>\n",
              "      <th>2000</th>\n",
              "      <td>60740</td>\n",
              "      <td>png</td>\n",
              "    </tr>\n",
              "    <tr>\n",
              "      <th>3000</th>\n",
              "      <td>90530</td>\n",
              "      <td>desktop-application</td>\n",
              "    </tr>\n",
              "    <tr>\n",
              "      <th>4000</th>\n",
              "      <td>119550</td>\n",
              "      <td>wcf</td>\n",
              "    </tr>\n",
              "    <tr>\n",
              "      <th>5000</th>\n",
              "      <td>145720</td>\n",
              "      <td>code-reuse</td>\n",
              "    </tr>\n",
              "    <tr>\n",
              "      <th>6000</th>\n",
              "      <td>171020</td>\n",
              "      <td>iis</td>\n",
              "    </tr>\n",
              "    <tr>\n",
              "      <th>7000</th>\n",
              "      <td>194150</td>\n",
              "      <td>soundchannel</td>\n",
              "    </tr>\n",
              "    <tr>\n",
              "      <th>8000</th>\n",
              "      <td>215810</td>\n",
              "      <td>ubuntu</td>\n",
              "    </tr>\n",
              "    <tr>\n",
              "      <th>9000</th>\n",
              "      <td>238660</td>\n",
              "      <td>.net</td>\n",
              "    </tr>\n",
              "  </tbody>\n",
              "</table>\n",
              "</div>"
            ],
            "text/plain": [
              "          Id                       Tag\n",
              "0         80                      flex\n",
              "1000   33550  computer-algebra-systems\n",
              "2000   60740                       png\n",
              "3000   90530       desktop-application\n",
              "4000  119550                       wcf\n",
              "5000  145720                code-reuse\n",
              "6000  171020                       iis\n",
              "7000  194150              soundchannel\n",
              "8000  215810                    ubuntu\n",
              "9000  238660                      .net"
            ]
          },
          "metadata": {
            "tags": []
          },
          "execution_count": 21
        }
      ]
    },
    {
      "metadata": {
        "id": "TF7V2nNqN0WV",
        "colab_type": "code",
        "colab": {}
      },
      "cell_type": "code",
      "source": [
        "for index, row in questions_df.iterrows():\n",
        "    questions_df.at[index, 'Body']= normalize(row[6])\n",
        "    questions_df.at[index, 'Title']= normalize(row[5])\n",
        "for index, row in answers_df.iterrows():\n",
        "    answers_df.at[index, 'Body']= normalize(row[5])"
      ],
      "execution_count": 0,
      "outputs": []
    },
    {
      "metadata": {
        "id": "k57NXs6YN9RY",
        "colab_type": "code",
        "outputId": "f354a1f6-baf9-4ff5-c0f2-3d87a69c294d",
        "colab": {
          "base_uri": "https://localhost:8080/",
          "height": 359
        }
      },
      "cell_type": "code",
      "source": [
        "# Calculate dimensionality\n",
        "# questions_df.shape \n",
        "# answers_df.shape \n",
        "# tags_df.shape \n",
        "\n",
        "# Sample dataframe - uncomment to view\n",
        "questions_df.head(10).loc[:, 'Title':'Body']\n",
        "# answers_df.head(10).loc[:, 'Body':]\n",
        "# tags_df.head(10) "
      ],
      "execution_count": 0,
      "outputs": [
        {
          "output_type": "execute_result",
          "data": {
            "text/html": [
              "<div>\n",
              "<style scoped>\n",
              "    .dataframe tbody tr th:only-of-type {\n",
              "        vertical-align: middle;\n",
              "    }\n",
              "\n",
              "    .dataframe tbody tr th {\n",
              "        vertical-align: top;\n",
              "    }\n",
              "\n",
              "    .dataframe thead th {\n",
              "        text-align: right;\n",
              "    }\n",
              "</style>\n",
              "<table border=\"1\" class=\"dataframe\">\n",
              "  <thead>\n",
              "    <tr style=\"text-align: right;\">\n",
              "      <th></th>\n",
              "      <th>Title</th>\n",
              "      <th>Body</th>\n",
              "    </tr>\n",
              "  </thead>\n",
              "  <tbody>\n",
              "    <tr>\n",
              "      <th>0</th>\n",
              "      <td>sqlstatement execute multiple queries one stat...</td>\n",
              "      <td>written database generation script sql want ex...</td>\n",
              "    </tr>\n",
              "    <tr>\n",
              "      <th>10000</th>\n",
              "      <td>continuous build net java projects single machine</td>\n",
              "      <td>possible set continuous build projects written...</td>\n",
              "    </tr>\n",
              "    <tr>\n",
              "      <th>20000</th>\n",
              "      <td>wix installing service localservice</td>\n",
              "      <td>trying get application installer via wix exact...</td>\n",
              "    </tr>\n",
              "    <tr>\n",
              "      <th>30000</th>\n",
              "      <td>language cybersyn cyberstride implemented</td>\n",
              "      <td>aware implemented ibm mainframe architecture a...</td>\n",
              "    </tr>\n",
              "    <tr>\n",
              "      <th>40000</th>\n",
              "      <td>javac package found error</td>\n",
              "      <td>trying compile java file imports packages crea...</td>\n",
              "    </tr>\n",
              "    <tr>\n",
              "      <th>50000</th>\n",
              "      <td>pages stall ad related</td>\n",
              "      <td>notice bad quality websites ads piece site loa...</td>\n",
              "    </tr>\n",
              "    <tr>\n",
              "      <th>60000</th>\n",
              "      <td>i18n translation problem</td>\n",
              "      <td>translate time zones russian done things model...</td>\n",
              "    </tr>\n",
              "    <tr>\n",
              "      <th>70000</th>\n",
              "      <td>submit asp net mvc form using javascript still...</td>\n",
              "      <td>asp net mvc form working perfectly client side...</td>\n",
              "    </tr>\n",
              "    <tr>\n",
              "      <th>80000</th>\n",
              "      <td>custom environment variables php</td>\n",
              "      <td>way set custom variable environment_name apach...</td>\n",
              "    </tr>\n",
              "    <tr>\n",
              "      <th>90000</th>\n",
              "      <td>solve data conflict string infile open</td>\n",
              "      <td>include iostream include fstream include cstdl...</td>\n",
              "    </tr>\n",
              "  </tbody>\n",
              "</table>\n",
              "</div>"
            ],
            "text/plain": [
              "                                                   Title  \\\n",
              "0      sqlstatement execute multiple queries one stat...   \n",
              "10000  continuous build net java projects single machine   \n",
              "20000                wix installing service localservice   \n",
              "30000          language cybersyn cyberstride implemented   \n",
              "40000                          javac package found error   \n",
              "50000                             pages stall ad related   \n",
              "60000                           i18n translation problem   \n",
              "70000  submit asp net mvc form using javascript still...   \n",
              "80000                   custom environment variables php   \n",
              "90000             solve data conflict string infile open   \n",
              "\n",
              "                                                    Body  \n",
              "0      written database generation script sql want ex...  \n",
              "10000  possible set continuous build projects written...  \n",
              "20000  trying get application installer via wix exact...  \n",
              "30000  aware implemented ibm mainframe architecture a...  \n",
              "40000  trying compile java file imports packages crea...  \n",
              "50000  notice bad quality websites ads piece site loa...  \n",
              "60000  translate time zones russian done things model...  \n",
              "70000  asp net mvc form working perfectly client side...  \n",
              "80000  way set custom variable environment_name apach...  \n",
              "90000  include iostream include fstream include cstdl...  "
            ]
          },
          "metadata": {
            "tags": []
          },
          "execution_count": 25
        }
      ]
    },
    {
      "metadata": {
        "id": "mqlmLsfsODac",
        "colab_type": "code",
        "outputId": "e08dfad4-b170-4d49-9c87-bb8aaa3b7740",
        "colab": {
          "base_uri": "https://localhost:8080/",
          "height": 527
        }
      },
      "cell_type": "code",
      "source": [
        "tfidf_dict={}\n",
        "qID_dict={}\n",
        "bloblist=[]\n",
        "idlist=[]\n",
        "\n",
        "for index, row in questions_df.iterrows():\n",
        "    # also append title to text body\n",
        "    bloblist.append(tb(row[6]+\" \"+row[5]))\n",
        "    idlist.append(row[0])\n",
        "\n",
        "for i, blob in enumerate(bloblist):\n",
        "    if i < 5:\n",
        "        print(\"Top words in question ID {}\".format(idlist[i]))\n",
        "    scores = {word: tfidf(word, blob, bloblist) for word in blob.words}\n",
        "    sorted_words = sorted(scores.items(), key=lambda x: x[1], reverse=True)\n",
        "    for word, score in sorted_words[:5]:\n",
        "        if i < 5:\n",
        "            print(\"\\tWord: {}, TF-IDF: {}\".format(word, round(score, 5)))\n",
        "            \n",
        "        # word dict    \n",
        "        if word in tfidf_dict:\n",
        "            tfidf_dict[word].append([idlist[i],round(score, 5)])\n",
        "        else:\n",
        "            tfidf_dict[word] = [[idlist[i],round(score, 5)]]\n",
        "        \n",
        "        # qID dict\n",
        "        if idlist[i] in qID_dict:\n",
        "            qID_dict[idlist[i]].append(word)\n",
        "        else:\n",
        "            lst=[]\n",
        "            lst.append(word)\n",
        "            qID_dict[idlist[i]]=lst"
      ],
      "execution_count": 0,
      "outputs": [
        {
          "output_type": "stream",
          "text": [
            "Top words in question ID 80\n",
            "\tWord: sqlstatement, TF-IDF: 0.17504\n",
            "\tWord: integer, TF-IDF: 0.15589\n",
            "\tWord: sqlconnection, TF-IDF: 0.15004\n",
            "\tWord: varchar, TF-IDF: 0.12503\n",
            "\tWord: stream, TF-IDF: 0.10003\n",
            "Top words in question ID 637960\n",
            "\tWord: projects, TF-IDF: 0.36542\n",
            "\tWord: build, TF-IDF: 0.26973\n",
            "\tWord: machine, TF-IDF: 0.23669\n",
            "\tWord: single, TF-IDF: 0.21207\n",
            "\tWord: continuous, TF-IDF: 0.20249\n",
            "Top words in question ID 1114610\n",
            "\tWord: localservice, TF-IDF: 0.14192\n",
            "\tWord: service, TF-IDF: 0.13574\n",
            "\tWord: myprogramserviceinstaller, TF-IDF: 0.10644\n",
            "\tWord: yes, TF-IDF: 0.08294\n",
            "\tWord: installer, TF-IDF: 0.07096\n",
            "Top words in question ID 1549760\n",
            "\tWord: implemented, TF-IDF: 0.21201\n",
            "\tWord: ibm, TF-IDF: 0.15664\n",
            "\tWord: language, TF-IDF: 0.12207\n",
            "\tWord: anyone, TF-IDF: 0.08903\n",
            "\tWord: mainframe, TF-IDF: 0.07832\n",
            "Top words in question ID 1971800\n",
            "\tWord: import, TF-IDF: 0.35821\n",
            "\tWord: java, TF-IDF: 0.31202\n",
            "\tWord: commchange, TF-IDF: 0.27985\n",
            "\tWord: frame, TF-IDF: 0.25251\n",
            "\tWord: db, TF-IDF: 0.17148\n"
          ],
          "name": "stdout"
        }
      ]
    },
    {
      "metadata": {
        "id": "A2eMGSEdOesL",
        "colab_type": "code",
        "outputId": "d6b2048b-688f-4d0e-90ac-c6e2dd3005b0",
        "colab": {
          "base_uri": "https://localhost:8080/",
          "height": 187
        }
      },
      "cell_type": "code",
      "source": [
        "i = 1\n",
        "for k, v in tfidf_dict.items():\n",
        "    print(k, v)\n",
        "    if i == 10:\n",
        "        break\n",
        "    i+=1"
      ],
      "execution_count": 0,
      "outputs": [
        {
          "output_type": "stream",
          "text": [
            "sqlstatement [[80, 0.17504]]\n",
            "integer [[80, 0.15589]]\n",
            "sqlconnection [[80, 0.15004]]\n",
            "varchar [[80, 0.12503]]\n",
            "stream [[80, 0.10003]]\n",
            "projects [[637960, 0.36542]]\n",
            "build [[637960, 0.26973], [39810190, 0.11059]]\n",
            "machine [[637960, 0.23669], [15133550, 0.19862]]\n",
            "single [[637960, 0.21207]]\n",
            "continuous [[637960, 0.20249]]\n"
          ],
          "name": "stdout"
        }
      ]
    },
    {
      "metadata": {
        "id": "-0IHwJtrOqke",
        "colab_type": "code",
        "outputId": "2b623ff9-7db5-4913-a563-b243e85e8108",
        "colab": {
          "base_uri": "https://localhost:8080/",
          "height": 34
        }
      },
      "cell_type": "code",
      "source": [
        "def predict_duplicate(query):\n",
        "    \n",
        "    def top_words(text):\n",
        "        counts = collections.Counter(text.split())\n",
        "        return [elem for elem, _ in counts.most_common(5)]\n",
        "\n",
        "    termList=top_words(query)\n",
        "    \n",
        "    for k, v in qID_dict.items():\n",
        "        if jaccard_similarity_score(termList, qID_dict[k]) >= 0.75:\n",
        "            print(\"Duplicate Question. Question exists with qID: \" + k)\n",
        "            return\n",
        "    \n",
        "print(\"Not a Duplicate Question.\")"
      ],
      "execution_count": 0,
      "outputs": [
        {
          "output_type": "stream",
          "text": [
            "Not a Duplicate Question.\n"
          ],
          "name": "stdout"
        }
      ]
    },
    {
      "metadata": {
        "id": "UFM_Hvo6PP1Z",
        "colab_type": "code",
        "colab": {}
      },
      "cell_type": "code",
      "source": [
        "inputQ_title=\"What is the most efficient way to deep clone an object in JavaScript?\"\n",
        "inputQ_body=\"\"\"What is the most efficient way to clone a JavaScript object? \n",
        "I've seen obj = eval(uneval(o)); being used, \n",
        "but that's non-standard and only supported by Firefox.\n",
        "I've done things like obj = JSON.parse(JSON.stringify(o)); but question the efficiency. \n",
        "I've also seen recursive copying functions with various flaws. \n",
        "I'm surprised no canonical solution exists.\"\"\"\n",
        "inputQ_tags=\"javascript, json, object\"\n",
        "\n",
        "# normalize\n",
        "normalized_query=normalize(inputQ_title + \" \" + inputQ_body+ \" \" + inputQ_tags)\n",
        "\n",
        "# predict whether duplicate question\n",
        "predict_duplicate(normalized_query)"
      ],
      "execution_count": 0,
      "outputs": []
    },
    {
      "metadata": {
        "id": "oND2QVhpPkQu",
        "colab_type": "code",
        "outputId": "2e55b1c6-9066-42a1-c1ce-2a9670113002",
        "colab": {
          "base_uri": "https://localhost:8080/",
          "height": 498
        }
      },
      "cell_type": "code",
      "source": [
        "tags_tally = collections.Counter(tags_df['Tag'])\n",
        "\n",
        "# x = tag name, y = tag frequency\n",
        "x, y = zip(*tags_tally.most_common(10))\n",
        "\n",
        "colormap = plt.cm.gist_ncar #nipy_spectral, Set1,Paired  \n",
        "colors = [colormap(i) for i in np.linspace(0, 0.8,50)]   \n",
        "\n",
        "area = [i/3 for i in list(y)]   # 0 to 15 point radiuses\n",
        "plt.figure(figsize=(8,8))\n",
        "plt.ylabel(\"Frequency\")\n",
        "plt.title(\"Top 10 most common tags\")\n",
        "for i in range(len(y)):\n",
        "        plt.plot(i,y[i], marker='v', linestyle='',ms=area[i],label=x[i])\n",
        "\n",
        "plt.legend(numpoints=1)\n",
        "plt.show()"
      ],
      "execution_count": 0,
      "outputs": [
        {
          "output_type": "display_data",
          "data": {
            "image/png": "[encoded data removed]",
            "text/plain": [
              "<Figure size 576x576 with 1 Axes>"
            ]
          },
          "metadata": {
            "tags": []
          }
        }
      ]
    },
    {
      "metadata": {
        "id": "wgvAex2OQAT1",
        "colab_type": "code",
        "outputId": "75cc9997-35f6-4919-be90-1acbac2a47b2",
        "colab": {
          "base_uri": "https://localhost:8080/",
          "height": 381
        }
      },
      "cell_type": "code",
      "source": [
        "ans_per_question = collections.Counter(answers_df['ParentId'])\n",
        "answerid,noAnswers= zip(*ans_per_question.most_common())\n",
        "\n",
        "N=50\n",
        "plt.bar(range(N), noAnswers[:N], align='center', alpha=0.7)\n",
        "#plt.xticks(y_pos, objects)\n",
        "\n",
        "plt.ylabel('Number of Answers per Question')\n",
        "plt.xlabel('Question Id')\n",
        "plt.title('Distribution of Answers per question ')\n",
        "plt.text(10,1.5,\"Average answers per question: \"+str(math.floor((np.mean(noAnswers)))))\n",
        "\n",
        "plt.show()"
      ],
      "execution_count": 0,
      "outputs": [
        {
          "output_type": "display_data",
          "data": {
            "image/png": "[encoded data removed]",
            "text/plain": [
              "<Figure size 432x288 with 1 Axes>"
            ]
          },
          "metadata": {
            "tags": []
          }
        }
      ]
    },
    {
      "metadata": {
        "id": "2d9WJ8hjXO_E",
        "colab_type": "code",
        "outputId": "61b8bb28-73e6-464b-c4ef-4bea6b7646a1",
        "colab": {
          "base_uri": "https://localhost:8080/",
          "height": 187
        }
      },
      "cell_type": "code",
      "source": [
        "#word2vec embedding\n",
        "import csv\n",
        "outputDatafile = open('Tags.csv', 'r')\n",
        "outputReader = csv.reader(outputDatafile, delimiter=',', quoting=csv.QUOTE_NONE)\n",
        "\n",
        "print (\"OutputReader datatype :\",type(outputReader))\n",
        "inputData= []\n",
        "\n",
        "for row in outputReader:\n",
        "    inputData.append(row)\n",
        "    \n",
        "\n",
        "    print(inputData)"
      ],
      "execution_count": 0,
      "outputs": [
        {
          "output_type": "stream",
          "text": [
            "IOPub data rate exceeded.\n",
            "The notebook server will temporarily stop sending output\n",
            "to the client in order to avoid crashing it.\n",
            "To change this limit, set the config variable\n",
            "`--NotebookApp.iopub_data_rate_limit`.\n",
            "\n",
            "Current values:\n",
            "NotebookApp.iopub_data_rate_limit=1000000.0 (bytes/sec)\n",
            "NotebookApp.rate_limit_window=3.0 (secs)\n",
            "\n"
          ],
          "name": "stderr"
        }
      ]
    },
    {
      "metadata": {
        "id": "4zkiFVifjqrP",
        "colab_type": "code",
        "outputId": "399baa36-9a8d-45a5-b938-9cea5f5551a5",
        "colab": {
          "base_uri": "https://localhost:8080/",
          "height": 34
        }
      },
      "cell_type": "code",
      "source": [
        "!NotebookApp.iopub_data_rate_limit=1000000000000000"
      ],
      "execution_count": 0,
      "outputs": [
        {
          "output_type": "stream",
          "text": [
            "/bin/bash: NotebookApp.iopub_data_rate_limit=1000000000000000: command not found\n"
          ],
          "name": "stdout"
        }
      ]
    },
    {
      "metadata": {
        "id": "7xi1uZ-Bc_we",
        "colab_type": "code",
        "outputId": "d0649177-5398-4ed3-c622-76c426781d4b",
        "colab": {
          "base_uri": "https://localhost:8080/",
          "height": 232
        }
      },
      "cell_type": "code",
      "source": [
        "vocab_size = 10000\n",
        "data,count, dictinory, reverse_dictionary = collect_data(vocabulary_size=vocab_size)\n",
        "\n",
        "window_size = 3\n",
        "vector_dim = 300\n",
        "epochs = 25\n",
        "\n",
        "valid_size = 16\n",
        "valid_window = 100\n",
        "valid_examples = np.random.choice(valid_window,valid_size,replace=False)"
      ],
      "execution_count": 0,
      "outputs": [
        {
          "output_type": "error",
          "ename": "NameError",
          "evalue": "ignored",
          "traceback": [
            "\u001b[0;31m---------------------------------------------------------------------------\u001b[0m",
            "\u001b[0;31mNameError\u001b[0m                                 Traceback (most recent call last)",
            "\u001b[0;32m<ipython-input-68-ba47b4f64e34>\u001b[0m in \u001b[0;36m<module>\u001b[0;34m()\u001b[0m\n\u001b[1;32m      1\u001b[0m \u001b[0mvocab_size\u001b[0m \u001b[0;34m=\u001b[0m \u001b[0;36m10000\u001b[0m\u001b[0;34m\u001b[0m\u001b[0;34m\u001b[0m\u001b[0m\n\u001b[0;32m----> 2\u001b[0;31m \u001b[0mdata\u001b[0m\u001b[0;34m,\u001b[0m\u001b[0mcount\u001b[0m\u001b[0;34m,\u001b[0m \u001b[0mdictinory\u001b[0m\u001b[0;34m,\u001b[0m \u001b[0mreverse_dictionary\u001b[0m \u001b[0;34m=\u001b[0m \u001b[0mcollect_data\u001b[0m\u001b[0;34m(\u001b[0m\u001b[0mvocabulary_size\u001b[0m\u001b[0;34m=\u001b[0m\u001b[0mvocab_size\u001b[0m\u001b[0;34m)\u001b[0m\u001b[0;34m\u001b[0m\u001b[0;34m\u001b[0m\u001b[0m\n\u001b[0m\u001b[1;32m      3\u001b[0m \u001b[0;34m\u001b[0m\u001b[0m\n\u001b[1;32m      4\u001b[0m \u001b[0mwindow_size\u001b[0m \u001b[0;34m=\u001b[0m \u001b[0;36m3\u001b[0m\u001b[0;34m\u001b[0m\u001b[0;34m\u001b[0m\u001b[0m\n\u001b[1;32m      5\u001b[0m \u001b[0mvector_dim\u001b[0m \u001b[0;34m=\u001b[0m \u001b[0;36m300\u001b[0m\u001b[0;34m\u001b[0m\u001b[0;34m\u001b[0m\u001b[0m\n",
            "\u001b[0;31mNameError\u001b[0m: name 'collect_data' is not defined"
          ]
        }
      ]
    },
    {
      "metadata": {
        "id": "q2Bq0whHfmbc",
        "colab_type": "code",
        "colab": {}
      },
      "cell_type": "code",
      "source": [
        "sampling_table = sequence.make_sampling_table(vocab_size)\n",
        "couples, labels = skipgrams(data, vocab_size, window_size, sampling_table=sampling_table)\n",
        "word_target, word_context = zip(*couples)\n",
        "word_target = np.array(word_target,dtype=\"int32\")\n",
        "word_context = np.array(word_context,dtype=\"int32\")\n",
        "\n",
        "print(couples[:10], labels[:10])"
      ],
      "execution_count": 0,
      "outputs": []
    },
    {
      "metadata": {
        "id": "ny-MPhz7Ytck",
        "colab_type": "code",
        "colab": {}
      },
      "cell_type": "code",
      "source": [
        ""
      ],
      "execution_count": 0,
      "outputs": []
    },
    {
      "metadata": {
        "id": "MyAyxnRqYtEn",
        "colab_type": "code",
        "outputId": "e1761b67-3746-40e7-ca65-52d360d8d518",
        "colab": {
          "base_uri": "https://localhost:8080/",
          "height": 34
        }
      },
      "cell_type": "code",
      "source": [
        "\n",
        "import numpy\n",
        "from keras.models import Sequential\n",
        "from keras.layers import Dense\n",
        "from keras.layers import Dropout\n",
        "from keras.layers import LSTM\n",
        "from keras.callbacks import ModelCheckpoint\n",
        "from keras.utils import np_utils"
      ],
      "execution_count": 0,
      "outputs": [
        {
          "output_type": "stream",
          "text": [
            "Using TensorFlow backend.\n"
          ],
          "name": "stderr"
        }
      ]
    },
    {
      "metadata": {
        "id": "tuEt9wkoYyc4",
        "colab_type": "code",
        "colab": {}
      },
      "cell_type": "code",
      "source": [
        "# load ascii text and covert to lowercase\n",
        "filename = \"Tags.txt\"\n",
        "raw_text = open(filename).read()\n",
        "raw_text = raw_text.lower()"
      ],
      "execution_count": 0,
      "outputs": []
    },
    {
      "metadata": {
        "id": "qcHaNP6iY67m",
        "colab_type": "code",
        "colab": {}
      },
      "cell_type": "code",
      "source": [
        "# create mapping of unique chars to integers\n",
        "chars = sorted(list(set(raw_text)))\n",
        "char_to_int = dict((c, i) for i, c in enumerate(chars))"
      ],
      "execution_count": 0,
      "outputs": []
    },
    {
      "metadata": {
        "id": "p2YiClONZIkN",
        "colab_type": "code",
        "outputId": "3e174855-d014-4e05-f45c-3899dee1ae51",
        "colab": {
          "base_uri": "https://localhost:8080/",
          "height": 51
        }
      },
      "cell_type": "code",
      "source": [
        "n_chars = len(raw_text)\n",
        "n_vocab = len(chars)\n",
        "print (\"tags Characters: \", n_chars)\n",
        "print (\"tags Vocab: \", n_vocab)"
      ],
      "execution_count": 0,
      "outputs": [
        {
          "output_type": "stream",
          "text": [
            "Total Characters:  72977847\n",
            "Total Vocab:  45\n"
          ],
          "name": "stdout"
        }
      ]
    },
    {
      "metadata": {
        "id": "9OLYIcasZcqG",
        "colab_type": "code",
        "colab": {}
      },
      "cell_type": "code",
      "source": [
        "# prepare the dataset of input to output pairs encoded as integers\n",
        "seq_length = 100\n",
        "dataX = []\n",
        "dataY = []\n",
        "for i in range(0, n_chars - seq_length, 1):\n",
        "\tseq_in = raw_text[i:i + seq_length]\n",
        "\tseq_out = raw_text[i + seq_length]\n",
        "\tdataX.append([char_to_int[char] for char in seq_in])\n",
        "\tdataY.append(char_to_int[seq_out])\n",
        "n_patterns = len(dataX)\n",
        "print (\"tags Patterns: \", n_patterns)"
      ],
      "execution_count": 0,
      "outputs": []
    },
    {
      "metadata": {
        "id": "sufP0GSnrIgm",
        "colab_type": "code",
        "colab": {}
      },
      "cell_type": "code",
      "source": [
        "import csv\n",
        "import io\n",
        "import pandas as pd\n",
        "\n",
        "questions = pd.read_csv(\"Questions.csv\", encoding='latin1')\n",
        "answers = pd.read_csv(\"Answers.csv\", encoding='latin1')\n",
        "tags = pd.read_csv(\"Tags.csv\", encoding='latin1')"
      ],
      "execution_count": 0,
      "outputs": []
    },
    {
      "metadata": {
        "id": "MYkuv7MGs_t3",
        "colab_type": "code",
        "outputId": "2c7d8329-e666-449c-ca86-a7ba7d030087",
        "colab": {
          "base_uri": "https://localhost:8080/",
          "height": 34
        }
      },
      "cell_type": "code",
      "source": [
        "questions.shape\n",
        "answers.shape\n",
        "tags.shape"
      ],
      "execution_count": 0,
      "outputs": [
        {
          "output_type": "execute_result",
          "data": {
            "text/plain": [
              "(3750994, 2)"
            ]
          },
          "metadata": {
            "tags": []
          },
          "execution_count": 21
        }
      ]
    },
    {
      "metadata": {
        "id": "r9JvQhdPwBkr",
        "colab_type": "code",
        "colab": {}
      },
      "cell_type": "code",
      "source": [
        "from collections import Counter\n",
        "import numpy as np \n",
        "import string\n",
        "import re"
      ],
      "execution_count": 0,
      "outputs": []
    },
    {
      "metadata": {
        "id": "1b1uilv-wC9d",
        "colab_type": "code",
        "colab": {}
      },
      "cell_type": "code",
      "source": [
        "def clean_text(text):\n",
        "    global EMPTY\n",
        "    EMPTY = ''\n",
        "    \n",
        "    if not isinstance(text, str): \n",
        "        return text\n",
        "    text = re.sub('<pre><code>.*?</code></pre>', EMPTY, text)\n",
        "\n",
        "    def replace_link(match):\n",
        "        return EMPTY if re.match('[a-z]+://', match.group(1)) else match.group(1)\n",
        "    \n",
        "    text = re.sub('<a[^>]+>(.*)</a>', replace_link, text)\n",
        "    return re.sub('<[^>]+>', EMPTY, text)"
      ],
      "execution_count": 0,
      "outputs": []
    },
    {
      "metadata": {
        "id": "9S44qLU3wGJe",
        "colab_type": "code",
        "colab": {}
      },
      "cell_type": "code",
      "source": [
        "questions['Text'] = questions['Body'].apply(clean_text).str.lower()\n",
        "questions.Text = questions.Text.apply(lambda x: x.replace('\"','').replace(\"\\n\",\"\").replace(\"\\t\",\"\"))"
      ],
      "execution_count": 0,
      "outputs": []
    },
    {
      "metadata": {
        "id": "KEpMofS_wWEW",
        "colab_type": "code",
        "colab": {}
      },
      "cell_type": "code",
      "source": [
        "answers['Text'] = answers['Body'].apply(clean_text).str.lower()\n",
        "answers.Text = answers.Text.apply(lambda x: x.replace('\"','').replace(\"\\n\",\"\").replace(\"\\t\",\"\"))"
      ],
      "execution_count": 0,
      "outputs": []
    },
    {
      "metadata": {
        "id": "qZzV5TEiwiWr",
        "colab_type": "code",
        "outputId": "20067884-fdb6-4f78-9ba7-ccb9d5cf9522",
        "colab": {
          "base_uri": "https://localhost:8080/",
          "height": 34
        }
      },
      "cell_type": "code",
      "source": [
        "tags['Tag'].nunique()"
      ],
      "execution_count": 0,
      "outputs": [
        {
          "output_type": "execute_result",
          "data": {
            "text/plain": [
              "37034"
            ]
          },
          "metadata": {
            "tags": []
          },
          "execution_count": 26
        }
      ]
    },
    {
      "metadata": {
        "id": "7udxsPPEwuE7",
        "colab_type": "code",
        "colab": {}
      },
      "cell_type": "code",
      "source": [
        "def plot_tags(tagCount):\n",
        "    \n",
        "    x,y = zip(*tagCount)\n",
        "\n",
        "    colormap = plt.cm.gist_ncar #nipy_spectral, Set1,Paired  \n",
        "    colors = [colormap(i) for i in np.linspace(0, 0.8,50)]   \n",
        "\n",
        "    area = [i/4000 for i in list(y)]   # 0 to 15 point radiuses\n",
        "    plt.figure(figsize=(10,6))\n",
        "    plt.ylabel(\"Number of question associations\")\n",
        "    for i in range(len(y)):\n",
        "        plt.plot(i,y[i], marker='o', linestyle='',ms=area[i],label=x[i])\n",
        "\n",
        "    plt.legend(numpoints=1)\n",
        "    plt.show()"
      ],
      "execution_count": 0,
      "outputs": []
    },
    {
      "metadata": {
        "id": "kaCNm3Yjwvve",
        "colab_type": "code",
        "outputId": "a2cde691-bf7c-44a7-804b-44fb7b7e2a0f",
        "colab": {
          "base_uri": "https://localhost:8080/",
          "height": 411
        }
      },
      "cell_type": "code",
      "source": [
        "import collections\n",
        "import matplotlib.pyplot as plt\n",
        "tagCount =  collections.Counter(list(tags['Tag'])).most_common(10)\n",
        "print(tagCount)\n",
        "plot_tags(tagCount)"
      ],
      "execution_count": 0,
      "outputs": [
        {
          "output_type": "stream",
          "text": [
            "[('javascript', 124155), ('java', 115212), ('c#', 101186), ('php', 98808), ('android', 90659), ('jquery', 78542), ('python', 64601), ('html', 58976), ('c++', 47591), ('ios', 47009)]\n"
          ],
          "name": "stdout"
        },
        {
          "output_type": "display_data",
          "data": {
            "image/png": "[encoded data removed]",
            "text/plain": [
              "<Figure size 720x432 with 1 Axes>"
            ]
          },
          "metadata": {
            "tags": []
          }
        }
      ]
    },
    {
      "metadata": {
        "id": "ILSj9sw2w5or",
        "colab_type": "code",
        "colab": {}
      },
      "cell_type": "code",
      "source": [
        "tags = tags[(tags.Tag == 'c#') | (tags.Tag == 'java') | (tags.Tag == 'php') | (tags.Tag =='javascript') | (tags.Tag =='jquery') | (tags.Tag == 'android') | (tags.Tag == 'c++') | (tags.Tag == 'iphone') | (tags.Tag == 'python') | (tags.Tag == 'asp.net')]"
      ],
      "execution_count": 0,
      "outputs": []
    },
    {
      "metadata": {
        "id": "7z3_MmMKxJvy",
        "colab_type": "code",
        "outputId": "08514bfb-38d5-4818-dc40-0e94b148706a",
        "colab": {
          "base_uri": "https://localhost:8080/",
          "height": 204
        }
      },
      "cell_type": "code",
      "source": [
        "tags['Tag'].value_counts()"
      ],
      "execution_count": 0,
      "outputs": [
        {
          "output_type": "execute_result",
          "data": {
            "text/plain": [
              "javascript    124155\n",
              "java          115212\n",
              "c#            101186\n",
              "php            98808\n",
              "android        90659\n",
              "jquery         78542\n",
              "python         64601\n",
              "c++            47591\n",
              "asp.net        29970\n",
              "iphone         21539\n",
              "Name: Tag, dtype: int64"
            ]
          },
          "metadata": {
            "tags": []
          },
          "execution_count": 30
        }
      ]
    },
    {
      "metadata": {
        "id": "Z_qo0y6Hx1TD",
        "colab_type": "text"
      },
      "cell_type": "markdown",
      "source": [
        "https://github.com/susanli2016/Machine-Learning-with-Python/blob/master/stack_over_flow_auto_tagging.ipynb"
      ]
    },
    {
      "metadata": {
        "id": "HcmGBy8Mx3I2",
        "colab_type": "code",
        "colab": {}
      },
      "cell_type": "code",
      "source": [
        "import pandas as pd\n",
        "df = pd.read_csv(\"../content/Questions.csv\", encoding=\"ISO-8859-1\")\n",
        "tags = pd.read_csv(\"../content/Tags.csv\", encoding=\"ISO-8859-1\", dtype={'Tag': str})"
      ],
      "execution_count": 0,
      "outputs": []
    },
    {
      "metadata": {
        "id": "AmrlsFgIvtQy",
        "colab_type": "code",
        "colab": {
          "base_uri": "https://localhost:8080/",
          "height": 136
        },
        "outputId": "c0d1ef4a-820e-4e8e-8604-ad96457e57f0"
      },
      "cell_type": "code",
      "source": [
        "tags['Tag'] = tags['Tag'].astype(str)\n",
        "grouped_tags = tags.groupby(\"Id\")['Tag'].apply(lambda tags: ' '.join(tags))\n",
        "grouped_tags.head(5)"
      ],
      "execution_count": 9,
      "outputs": [
        {
          "output_type": "execute_result",
          "data": {
            "text/plain": [
              "Id\n",
              "80                            flex actionscript-3 air\n",
              "90       svn tortoisesvn branch branching-and-merging\n",
              "120                               sql asp.net sitemap\n",
              "180    algorithm language-agnostic colors color-space\n",
              "260           c# .net scripting compiler-construction\n",
              "Name: Tag, dtype: object"
            ]
          },
          "metadata": {
            "tags": []
          },
          "execution_count": 9
        }
      ]
    },
    {
      "metadata": {
        "id": "emF6pIquv6Dm",
        "colab_type": "code",
        "colab": {
          "base_uri": "https://localhost:8080/",
          "height": 204
        },
        "outputId": "e27173a9-1fb3-4648-bbc3-e596dfa3e656"
      },
      "cell_type": "code",
      "source": [
        "grouped_tags.reset_index()\n",
        "grouped_tags_final = pd.DataFrame({'Id':grouped_tags.index, 'Tags':grouped_tags.values})\n",
        "grouped_tags_final.head(5)\n"
      ],
      "execution_count": 10,
      "outputs": [
        {
          "output_type": "execute_result",
          "data": {
            "text/html": [
              "<div>\n",
              "<style scoped>\n",
              "    .dataframe tbody tr th:only-of-type {\n",
              "        vertical-align: middle;\n",
              "    }\n",
              "\n",
              "    .dataframe tbody tr th {\n",
              "        vertical-align: top;\n",
              "    }\n",
              "\n",
              "    .dataframe thead th {\n",
              "        text-align: right;\n",
              "    }\n",
              "</style>\n",
              "<table border=\"1\" class=\"dataframe\">\n",
              "  <thead>\n",
              "    <tr style=\"text-align: right;\">\n",
              "      <th></th>\n",
              "      <th>Id</th>\n",
              "      <th>Tags</th>\n",
              "    </tr>\n",
              "  </thead>\n",
              "  <tbody>\n",
              "    <tr>\n",
              "      <th>0</th>\n",
              "      <td>80</td>\n",
              "      <td>flex actionscript-3 air</td>\n",
              "    </tr>\n",
              "    <tr>\n",
              "      <th>1</th>\n",
              "      <td>90</td>\n",
              "      <td>svn tortoisesvn branch branching-and-merging</td>\n",
              "    </tr>\n",
              "    <tr>\n",
              "      <th>2</th>\n",
              "      <td>120</td>\n",
              "      <td>sql asp.net sitemap</td>\n",
              "    </tr>\n",
              "    <tr>\n",
              "      <th>3</th>\n",
              "      <td>180</td>\n",
              "      <td>algorithm language-agnostic colors color-space</td>\n",
              "    </tr>\n",
              "    <tr>\n",
              "      <th>4</th>\n",
              "      <td>260</td>\n",
              "      <td>c# .net scripting compiler-construction</td>\n",
              "    </tr>\n",
              "  </tbody>\n",
              "</table>\n",
              "</div>"
            ],
            "text/plain": [
              "    Id                                            Tags\n",
              "0   80                         flex actionscript-3 air\n",
              "1   90    svn tortoisesvn branch branching-and-merging\n",
              "2  120                             sql asp.net sitemap\n",
              "3  180  algorithm language-agnostic colors color-space\n",
              "4  260         c# .net scripting compiler-construction"
            ]
          },
          "metadata": {
            "tags": []
          },
          "execution_count": 10
        }
      ]
    },
    {
      "metadata": {
        "id": "L4MW7KCOwCRK",
        "colab_type": "code",
        "colab": {
          "base_uri": "https://localhost:8080/",
          "height": 289
        },
        "outputId": "8ea3b555-b541-4a40-9c7c-28677bbd062f"
      },
      "cell_type": "code",
      "source": [
        "df.drop(columns=['OwnerUserId', 'CreationDate', 'ClosedDate'], inplace=True)\n",
        "df = df.merge(grouped_tags_final, on='Id')\n",
        "df.head(5)"
      ],
      "execution_count": 11,
      "outputs": [
        {
          "output_type": "execute_result",
          "data": {
            "text/html": [
              "<div>\n",
              "<style scoped>\n",
              "    .dataframe tbody tr th:only-of-type {\n",
              "        vertical-align: middle;\n",
              "    }\n",
              "\n",
              "    .dataframe tbody tr th {\n",
              "        vertical-align: top;\n",
              "    }\n",
              "\n",
              "    .dataframe thead th {\n",
              "        text-align: right;\n",
              "    }\n",
              "</style>\n",
              "<table border=\"1\" class=\"dataframe\">\n",
              "  <thead>\n",
              "    <tr style=\"text-align: right;\">\n",
              "      <th></th>\n",
              "      <th>Id</th>\n",
              "      <th>Score</th>\n",
              "      <th>Title</th>\n",
              "      <th>Body</th>\n",
              "      <th>Tags</th>\n",
              "    </tr>\n",
              "  </thead>\n",
              "  <tbody>\n",
              "    <tr>\n",
              "      <th>0</th>\n",
              "      <td>80</td>\n",
              "      <td>26</td>\n",
              "      <td>SQLStatement.execute() - multiple queries in o...</td>\n",
              "      <td>&lt;p&gt;I've written a database generation script i...</td>\n",
              "      <td>flex actionscript-3 air</td>\n",
              "    </tr>\n",
              "    <tr>\n",
              "      <th>1</th>\n",
              "      <td>90</td>\n",
              "      <td>144</td>\n",
              "      <td>Good branching and merging tutorials for Torto...</td>\n",
              "      <td>&lt;p&gt;Are there any really good tutorials explain...</td>\n",
              "      <td>svn tortoisesvn branch branching-and-merging</td>\n",
              "    </tr>\n",
              "    <tr>\n",
              "      <th>2</th>\n",
              "      <td>120</td>\n",
              "      <td>21</td>\n",
              "      <td>ASP.NET Site Maps</td>\n",
              "      <td>&lt;p&gt;Has anyone got experience creating &lt;strong&gt;...</td>\n",
              "      <td>sql asp.net sitemap</td>\n",
              "    </tr>\n",
              "    <tr>\n",
              "      <th>3</th>\n",
              "      <td>180</td>\n",
              "      <td>53</td>\n",
              "      <td>Function for creating color wheels</td>\n",
              "      <td>&lt;p&gt;This is something I've pseudo-solved many t...</td>\n",
              "      <td>algorithm language-agnostic colors color-space</td>\n",
              "    </tr>\n",
              "    <tr>\n",
              "      <th>4</th>\n",
              "      <td>260</td>\n",
              "      <td>49</td>\n",
              "      <td>Adding scripting functionality to .NET applica...</td>\n",
              "      <td>&lt;p&gt;I have a little game written in C#. It uses...</td>\n",
              "      <td>c# .net scripting compiler-construction</td>\n",
              "    </tr>\n",
              "  </tbody>\n",
              "</table>\n",
              "</div>"
            ],
            "text/plain": [
              "    Id  Score                                              Title  \\\n",
              "0   80     26  SQLStatement.execute() - multiple queries in o...   \n",
              "1   90    144  Good branching and merging tutorials for Torto...   \n",
              "2  120     21                                  ASP.NET Site Maps   \n",
              "3  180     53                 Function for creating color wheels   \n",
              "4  260     49  Adding scripting functionality to .NET applica...   \n",
              "\n",
              "                                                Body  \\\n",
              "0  <p>I've written a database generation script i...   \n",
              "1  <p>Are there any really good tutorials explain...   \n",
              "2  <p>Has anyone got experience creating <strong>...   \n",
              "3  <p>This is something I've pseudo-solved many t...   \n",
              "4  <p>I have a little game written in C#. It uses...   \n",
              "\n",
              "                                             Tags  \n",
              "0                         flex actionscript-3 air  \n",
              "1    svn tortoisesvn branch branching-and-merging  \n",
              "2                             sql asp.net sitemap  \n",
              "3  algorithm language-agnostic colors color-space  \n",
              "4         c# .net scripting compiler-construction  "
            ]
          },
          "metadata": {
            "tags": []
          },
          "execution_count": 11
        }
      ]
    },
    {
      "metadata": {
        "id": "2tuK_1yowLIh",
        "colab_type": "code",
        "colab": {}
      },
      "cell_type": "code",
      "source": [
        "new_df = df[df['Score']>3]"
      ],
      "execution_count": 0,
      "outputs": []
    },
    {
      "metadata": {
        "id": "HTQS04K5wRZ4",
        "colab_type": "code",
        "colab": {
          "base_uri": "https://localhost:8080/",
          "height": 352
        },
        "outputId": "7505bc9f-fa74-4513-cbd0-1f09f0db8407"
      },
      "cell_type": "code",
      "source": [
        "import matplotlib.pyplot as plt \n",
        "\n",
        "plt.figure(figsize=(5, 5))\n",
        "new_df.isnull().mean(axis=0).plot.barh()\n",
        "plt.title(\"Ratio of missing values per columns\")"
      ],
      "execution_count": 13,
      "outputs": [
        {
          "output_type": "execute_result",
          "data": {
            "text/plain": [
              "Text(0.5, 1.0, 'Ratio of missing values per columns')"
            ]
          },
          "metadata": {
            "tags": []
          },
          "execution_count": 13
        },
        {
          "output_type": "display_data",
          "data": {
            "image/png": "[encoded data removed]",
            "text/plain": [
              "<Figure size 360x360 with 1 Axes>"
            ]
          },
          "metadata": {
            "tags": []
          }
        }
      ]
    },
    {
      "metadata": {
        "id": "Db_3E-xfwe76",
        "colab_type": "code",
        "colab": {
          "base_uri": "https://localhost:8080/",
          "height": 139
        },
        "outputId": "cc9eabe5-686a-42ad-968d-07c74e6e15cd"
      },
      "cell_type": "code",
      "source": [
        "print('Dupplicate entries: {}'.format(new_df.duplicated().sum()))\n",
        "new_df.drop_duplicates(inplace = True)"
      ],
      "execution_count": 14,
      "outputs": [
        {
          "output_type": "stream",
          "text": [
            "Dupplicate entries: 0\n"
          ],
          "name": "stdout"
        },
        {
          "output_type": "stream",
          "text": [
            "/usr/local/lib/python3.6/dist-packages/ipykernel_launcher.py:2: SettingWithCopyWarning: \n",
            "A value is trying to be set on a copy of a slice from a DataFrame\n",
            "\n",
            "See the caveats in the documentation: http://pandas.pydata.org/pandas-docs/stable/indexing.html#indexing-view-versus-copy\n",
            "  \n"
          ],
          "name": "stderr"
        }
      ]
    },
    {
      "metadata": {
        "id": "8YKRmzK0wjPe",
        "colab_type": "code",
        "colab": {
          "base_uri": "https://localhost:8080/",
          "height": 289
        },
        "outputId": "3b9c4098-cc1d-41a3-b71c-65e1aeaaf443"
      },
      "cell_type": "code",
      "source": [
        "new_df.head(5)"
      ],
      "execution_count": 17,
      "outputs": [
        {
          "output_type": "execute_result",
          "data": {
            "text/html": [
              "<div>\n",
              "<style scoped>\n",
              "    .dataframe tbody tr th:only-of-type {\n",
              "        vertical-align: middle;\n",
              "    }\n",
              "\n",
              "    .dataframe tbody tr th {\n",
              "        vertical-align: top;\n",
              "    }\n",
              "\n",
              "    .dataframe thead th {\n",
              "        text-align: right;\n",
              "    }\n",
              "</style>\n",
              "<table border=\"1\" class=\"dataframe\">\n",
              "  <thead>\n",
              "    <tr style=\"text-align: right;\">\n",
              "      <th></th>\n",
              "      <th>Title</th>\n",
              "      <th>Body</th>\n",
              "      <th>Tags</th>\n",
              "    </tr>\n",
              "  </thead>\n",
              "  <tbody>\n",
              "    <tr>\n",
              "      <th>0</th>\n",
              "      <td>SQLStatement.execute() - multiple queries in o...</td>\n",
              "      <td>&lt;p&gt;I've written a database generation script i...</td>\n",
              "      <td>flex actionscript-3 air</td>\n",
              "    </tr>\n",
              "    <tr>\n",
              "      <th>1</th>\n",
              "      <td>Good branching and merging tutorials for Torto...</td>\n",
              "      <td>&lt;p&gt;Are there any really good tutorials explain...</td>\n",
              "      <td>svn tortoisesvn branch branching-and-merging</td>\n",
              "    </tr>\n",
              "    <tr>\n",
              "      <th>2</th>\n",
              "      <td>ASP.NET Site Maps</td>\n",
              "      <td>&lt;p&gt;Has anyone got experience creating &lt;strong&gt;...</td>\n",
              "      <td>sql asp.net sitemap</td>\n",
              "    </tr>\n",
              "    <tr>\n",
              "      <th>3</th>\n",
              "      <td>Function for creating color wheels</td>\n",
              "      <td>&lt;p&gt;This is something I've pseudo-solved many t...</td>\n",
              "      <td>algorithm language-agnostic colors color-space</td>\n",
              "    </tr>\n",
              "    <tr>\n",
              "      <th>4</th>\n",
              "      <td>Adding scripting functionality to .NET applica...</td>\n",
              "      <td>&lt;p&gt;I have a little game written in C#. It uses...</td>\n",
              "      <td>c# .net scripting compiler-construction</td>\n",
              "    </tr>\n",
              "  </tbody>\n",
              "</table>\n",
              "</div>"
            ],
            "text/plain": [
              "                                               Title  \\\n",
              "0  SQLStatement.execute() - multiple queries in o...   \n",
              "1  Good branching and merging tutorials for Torto...   \n",
              "2                                  ASP.NET Site Maps   \n",
              "3                 Function for creating color wheels   \n",
              "4  Adding scripting functionality to .NET applica...   \n",
              "\n",
              "                                                Body  \\\n",
              "0  <p>I've written a database generation script i...   \n",
              "1  <p>Are there any really good tutorials explain...   \n",
              "2  <p>Has anyone got experience creating <strong>...   \n",
              "3  <p>This is something I've pseudo-solved many t...   \n",
              "4  <p>I have a little game written in C#. It uses...   \n",
              "\n",
              "                                             Tags  \n",
              "0                         flex actionscript-3 air  \n",
              "1    svn tortoisesvn branch branching-and-merging  \n",
              "2                             sql asp.net sitemap  \n",
              "3  algorithm language-agnostic colors color-space  \n",
              "4         c# .net scripting compiler-construction  "
            ]
          },
          "metadata": {
            "tags": []
          },
          "execution_count": 17
        }
      ]
    },
    {
      "metadata": {
        "id": "BmuNDB6Iw4_z",
        "colab_type": "code",
        "colab": {
          "base_uri": "https://localhost:8080/",
          "height": 156
        },
        "outputId": "2f7f055e-a69b-4aab-9d0b-33e69942fe2e"
      },
      "cell_type": "code",
      "source": [
        "new_df['Tags'] = new_df['Tags'].apply(lambda x: x.split())\n",
        "all_tags = [item for sublist in new_df['Tags'].values for item in sublist]\n",
        "len(all_tags)\n"
      ],
      "execution_count": 18,
      "outputs": [
        {
          "output_type": "stream",
          "text": [
            "/usr/local/lib/python3.6/dist-packages/ipykernel_launcher.py:1: SettingWithCopyWarning: \n",
            "A value is trying to be set on a copy of a slice from a DataFrame.\n",
            "Try using .loc[row_indexer,col_indexer] = value instead\n",
            "\n",
            "See the caveats in the documentation: http://pandas.pydata.org/pandas-docs/stable/indexing.html#indexing-view-versus-copy\n",
            "  \"\"\"Entry point for launching an IPython kernel.\n"
          ],
          "name": "stderr"
        },
        {
          "output_type": "execute_result",
          "data": {
            "text/plain": [
              "389745"
            ]
          },
          "metadata": {
            "tags": []
          },
          "execution_count": 18
        }
      ]
    },
    {
      "metadata": {
        "id": "pW0Y_YsaxiVo",
        "colab_type": "code",
        "colab": {
          "base_uri": "https://localhost:8080/",
          "height": 34
        },
        "outputId": "d0f01db1-1728-4a42-e38b-86cae5b227ef"
      },
      "cell_type": "code",
      "source": [
        "my_set = set(all_tags)\n",
        "unique_tags = list(my_set)\n",
        "len(unique_tags)"
      ],
      "execution_count": 19,
      "outputs": [
        {
          "output_type": "execute_result",
          "data": {
            "text/plain": [
              "19085"
            ]
          },
          "metadata": {
            "tags": []
          },
          "execution_count": 19
        }
      ]
    },
    {
      "metadata": {
        "id": "lUCfgJWOxpAR",
        "colab_type": "code",
        "colab": {}
      },
      "cell_type": "code",
      "source": [
        "import nltk\n",
        "flat_list = [item for sublist in new_df['Tags'].values for item in sublist]\n",
        "\n",
        "keywords = nltk.FreqDist(flat_list)\n",
        "\n",
        "keywords = nltk.FreqDist(keywords)\n",
        "\n",
        "frequencies_words = keywords.most_common(100)\n",
        "tags_features = [word[0] for word in frequencies_words]"
      ],
      "execution_count": 0,
      "outputs": []
    },
    {
      "metadata": {
        "id": "lH2YrZfsxyL3",
        "colab_type": "code",
        "colab": {
          "base_uri": "https://localhost:8080/",
          "height": 1717
        },
        "outputId": "9e05e508-a552-4012-b6b9-dbd25ef2b7ed"
      },
      "cell_type": "code",
      "source": [
        "tags_features"
      ],
      "execution_count": 22,
      "outputs": [
        {
          "output_type": "execute_result",
          "data": {
            "text/plain": [
              "['c#',\n",
              " 'java',\n",
              " 'javascript',\n",
              " 'android',\n",
              " 'python',\n",
              " 'c++',\n",
              " 'php',\n",
              " 'jquery',\n",
              " 'ios',\n",
              " '.net',\n",
              " 'html',\n",
              " 'css',\n",
              " 'c',\n",
              " 'objective-c',\n",
              " 'iphone',\n",
              " 'ruby-on-rails',\n",
              " 'sql',\n",
              " 'asp.net',\n",
              " 'mysql',\n",
              " 'ruby',\n",
              " 'r',\n",
              " 'asp.net-mvc',\n",
              " 'sql-server',\n",
              " 'linux',\n",
              " 'git',\n",
              " 'angularjs',\n",
              " 'django',\n",
              " 'node.js',\n",
              " 'arrays',\n",
              " 'algorithm',\n",
              " 'wpf',\n",
              " 'performance',\n",
              " 'xcode',\n",
              " 'string',\n",
              " 'regex',\n",
              " 'eclipse',\n",
              " 'windows',\n",
              " 'multithreading',\n",
              " 'scala',\n",
              " 'json',\n",
              " 'haskell',\n",
              " 'xml',\n",
              " 'html5',\n",
              " 'osx',\n",
              " 'swift',\n",
              " 'c++11',\n",
              " 'database',\n",
              " 'spring',\n",
              " 'visual-studio',\n",
              " 'unit-testing',\n",
              " 'ajax',\n",
              " 'bash',\n",
              " 'delphi',\n",
              " 'linq',\n",
              " 'winforms',\n",
              " 'ruby-on-rails-3',\n",
              " 'perl',\n",
              " 'visual-studio-2010',\n",
              " 'entity-framework',\n",
              " 'generics',\n",
              " 'mongodb',\n",
              " 'debugging',\n",
              " 'oracle',\n",
              " 'cocoa',\n",
              " 'security',\n",
              " 'hibernate',\n",
              " 'css3',\n",
              " 'list',\n",
              " 'templates',\n",
              " 'cocoa-touch',\n",
              " 'postgresql',\n",
              " 'image',\n",
              " 'facebook',\n",
              " 'google-chrome',\n",
              " 'qt',\n",
              " 'oop',\n",
              " 'twitter-bootstrap',\n",
              " 'asp.net-mvc-3',\n",
              " 'shell',\n",
              " 'numpy',\n",
              " 'vim',\n",
              " 'rest',\n",
              " 'swing',\n",
              " 'maven',\n",
              " 'gcc',\n",
              " 'matlab',\n",
              " 'tsql',\n",
              " 'vb.net',\n",
              " 'wcf',\n",
              " 'function',\n",
              " 'math',\n",
              " 'http',\n",
              " 'exception',\n",
              " 'excel',\n",
              " 'ipad',\n",
              " 'svn',\n",
              " 'sql-server-2008',\n",
              " 'class',\n",
              " 'api',\n",
              " 'datetime']"
            ]
          },
          "metadata": {
            "tags": []
          },
          "execution_count": 22
        }
      ]
    },
    {
      "metadata": {
        "id": "_CjNCyPYx4ci",
        "colab_type": "code",
        "colab": {
          "base_uri": "https://localhost:8080/",
          "height": 677
        },
        "outputId": "7ed2ade6-d89d-4560-e465-2bd1485994ef"
      },
      "cell_type": "code",
      "source": [
        "fig, ax = plt.subplots(figsize=(15, 10))\n",
        "keywords.plot(100, cumulative=False)"
      ],
      "execution_count": 23,
      "outputs": [
        {
          "output_type": "display_data",
          "data": {
            "image/png": "[encoded data removed]",
            "text/plain": [
              "<Figure size 1080x720 with 1 Axes>"
            ]
          },
          "metadata": {
            "tags": []
          }
        }
      ]
    },
    {
      "metadata": {
        "id": "1ECmU4-hx6w8",
        "colab_type": "code",
        "colab": {}
      },
      "cell_type": "code",
      "source": [
        "def most_common(tags):\n",
        "    tags_filtered = []\n",
        "    for i in range(0, len(tags)):\n",
        "        if tags[i] in tags_features:\n",
        "            tags_filtered.append(tags[i])\n",
        "    return tags_filtered"
      ],
      "execution_count": 0,
      "outputs": []
    },
    {
      "metadata": {
        "id": "6NYI-RMEyDYP",
        "colab_type": "code",
        "colab": {
          "base_uri": "https://localhost:8080/",
          "height": 258
        },
        "outputId": "4b8527d5-6922-4c64-d5e8-f37d24a5b86e"
      },
      "cell_type": "code",
      "source": [
        "new_df['Tags'] = new_df['Tags'].apply(lambda x: most_common(x))\n",
        "new_df['Tags'] = new_df['Tags'].apply(lambda x: x if len(x)>0 else None)\n",
        "new_df.shape"
      ],
      "execution_count": 25,
      "outputs": [
        {
          "output_type": "stream",
          "text": [
            "/usr/local/lib/python3.6/dist-packages/ipykernel_launcher.py:1: SettingWithCopyWarning: \n",
            "A value is trying to be set on a copy of a slice from a DataFrame.\n",
            "Try using .loc[row_indexer,col_indexer] = value instead\n",
            "\n",
            "See the caveats in the documentation: http://pandas.pydata.org/pandas-docs/stable/indexing.html#indexing-view-versus-copy\n",
            "  \"\"\"Entry point for launching an IPython kernel.\n",
            "/usr/local/lib/python3.6/dist-packages/ipykernel_launcher.py:2: SettingWithCopyWarning: \n",
            "A value is trying to be set on a copy of a slice from a DataFrame.\n",
            "Try using .loc[row_indexer,col_indexer] = value instead\n",
            "\n",
            "See the caveats in the documentation: http://pandas.pydata.org/pandas-docs/stable/indexing.html#indexing-view-versus-copy\n",
            "  \n"
          ],
          "name": "stderr"
        },
        {
          "output_type": "execute_result",
          "data": {
            "text/plain": [
              "(126833, 3)"
            ]
          },
          "metadata": {
            "tags": []
          },
          "execution_count": 25
        }
      ]
    },
    {
      "metadata": {
        "id": "_gSZ4inXyJOq",
        "colab_type": "code",
        "colab": {
          "base_uri": "https://localhost:8080/",
          "height": 139
        },
        "outputId": "e0b0d10b-f7ba-460c-f25e-1539de88bb22"
      },
      "cell_type": "code",
      "source": [
        "new_df.dropna(subset=['Tags'], inplace=True)\n",
        "new_df.shape"
      ],
      "execution_count": 26,
      "outputs": [
        {
          "output_type": "stream",
          "text": [
            "/usr/local/lib/python3.6/dist-packages/ipykernel_launcher.py:1: SettingWithCopyWarning: \n",
            "A value is trying to be set on a copy of a slice from a DataFrame\n",
            "\n",
            "See the caveats in the documentation: http://pandas.pydata.org/pandas-docs/stable/indexing.html#indexing-view-versus-copy\n",
            "  \"\"\"Entry point for launching an IPython kernel.\n"
          ],
          "name": "stderr"
        },
        {
          "output_type": "execute_result",
          "data": {
            "text/plain": [
              "(108856, 3)"
            ]
          },
          "metadata": {
            "tags": []
          },
          "execution_count": 26
        }
      ]
    },
    {
      "metadata": {
        "id": "PrRRSkPAyNr2",
        "colab_type": "code",
        "colab": {
          "base_uri": "https://localhost:8080/",
          "height": 139
        },
        "outputId": "2b48bf13-a886-4b2e-b9ab-9a13b79377c4"
      },
      "cell_type": "code",
      "source": [
        "from bs4 import BeautifulSoup\n",
        "import re\n",
        "\n",
        "new_df['Body'] = new_df['Body'].apply(lambda x: BeautifulSoup(x).get_text()) \n",
        "def clean_text(text):\n",
        "    text = text.lower()\n",
        "    text = re.sub(r\"what's\", \"what is \", text)\n",
        "    text = re.sub(r\"\\'s\", \" \", text)\n",
        "    text = re.sub(r\"\\'ve\", \" have \", text)\n",
        "    text = re.sub(r\"can't\", \"can not \", text)\n",
        "    text = re.sub(r\"n't\", \" not \", text)\n",
        "    text = re.sub(r\"i'm\", \"i am \", text)\n",
        "    text = re.sub(r\"\\'re\", \" are \", text)\n",
        "    text = re.sub(r\"\\'d\", \" would \", text)\n",
        "    text = re.sub(r\"\\'ll\", \" will \", text)\n",
        "    text = re.sub(r\"\\'scuse\", \" excuse \", text)\n",
        "    text = re.sub(r\"\\'\\n\", \" \", text)\n",
        "    text = re.sub(r\"\\'\\xa0\", \" \", text)\n",
        "    text = re.sub('\\s+', ' ', text)\n",
        "    text = text.strip(' ')\n",
        "    return text"
      ],
      "execution_count": 29,
      "outputs": [
        {
          "output_type": "stream",
          "text": [
            "/usr/local/lib/python3.6/dist-packages/ipykernel_launcher.py:4: SettingWithCopyWarning: \n",
            "A value is trying to be set on a copy of a slice from a DataFrame.\n",
            "Try using .loc[row_indexer,col_indexer] = value instead\n",
            "\n",
            "See the caveats in the documentation: http://pandas.pydata.org/pandas-docs/stable/indexing.html#indexing-view-versus-copy\n",
            "  after removing the cwd from sys.path.\n"
          ],
          "name": "stderr"
        }
      ]
    },
    {
      "metadata": {
        "id": "JJxdNPQ4zDxs",
        "colab_type": "code",
        "colab": {
          "base_uri": "https://localhost:8080/",
          "height": 139
        },
        "outputId": "a194d356-4369-4560-e82b-a5e8ae76bd42"
      },
      "cell_type": "code",
      "source": [
        "from nltk.tokenize.toktok import ToktokTokenizer\n",
        "from nltk.stem import WordNetLemmatizer\n",
        "\n",
        "\n",
        "new_df['Body'] = new_df['Body'].apply(lambda x: clean_text(x)) \n",
        "token=ToktokTokenizer()\n"
      ],
      "execution_count": 31,
      "outputs": [
        {
          "output_type": "stream",
          "text": [
            "/usr/local/lib/python3.6/dist-packages/ipykernel_launcher.py:5: SettingWithCopyWarning: \n",
            "A value is trying to be set on a copy of a slice from a DataFrame.\n",
            "Try using .loc[row_indexer,col_indexer] = value instead\n",
            "\n",
            "See the caveats in the documentation: http://pandas.pydata.org/pandas-docs/stable/indexing.html#indexing-view-versus-copy\n",
            "  \"\"\"\n"
          ],
          "name": "stderr"
        }
      ]
    },
    {
      "metadata": {
        "id": "APUrD61Qzb1n",
        "colab_type": "code",
        "colab": {}
      },
      "cell_type": "code",
      "source": [
        "punct = '!\"#$%&\\'()*+,./:;<=>?@[\\\\]^_`{|}~'"
      ],
      "execution_count": 0,
      "outputs": []
    },
    {
      "metadata": {
        "id": "WA1lxllCze2o",
        "colab_type": "code",
        "colab": {}
      },
      "cell_type": "code",
      "source": [
        "def strip_list_noempty(mylist):\n",
        "    newlist = (item.strip() if hasattr(item, 'strip') else item for item in mylist)\n",
        "    return [item for item in newlist if item != '']"
      ],
      "execution_count": 0,
      "outputs": []
    },
    {
      "metadata": {
        "id": "oDVr65jOzgCU",
        "colab_type": "code",
        "colab": {}
      },
      "cell_type": "code",
      "source": [
        "def clean_punct(text): \n",
        "    words=token.tokenize(text)\n",
        "    punctuation_filtered = []\n",
        "    regex = re.compile('[%s]' % re.escape(punct))\n",
        "    remove_punctuation = str.maketrans(' ', ' ', punct)\n",
        "    for w in words:\n",
        "        if w in tags_features:\n",
        "            punctuation_filtered.append(w)\n",
        "        else:\n",
        "            punctuation_filtered.append(regex.sub('', w))\n",
        "  \n",
        "    filtered_list = strip_list_noempty(punctuation_filtered)\n",
        "        \n",
        "    return ' '.join(map(str, filtered_list))"
      ],
      "execution_count": 0,
      "outputs": []
    },
    {
      "metadata": {
        "id": "DLpyBb_uzk2A",
        "colab_type": "code",
        "colab": {
          "base_uri": "https://localhost:8080/",
          "height": 190
        },
        "outputId": "4845158f-b2b1-4c2e-a5fb-7cb11489755d"
      },
      "cell_type": "code",
      "source": [
        "import re\n",
        "import nltk\n",
        "nltk.download('stopwords')\n",
        "\n",
        "new_df['Body'] = new_df['Body'].apply(lambda x: clean_punct(x)) \n",
        "new_df['Body'][2]\n"
      ],
      "execution_count": 40,
      "outputs": [
        {
          "output_type": "stream",
          "text": [
            "[nltk_data] Downloading package stopwords to /root/nltk_data...\n",
            "[nltk_data]   Package stopwords is already up-to-date!\n"
          ],
          "name": "stdout"
        },
        {
          "output_type": "stream",
          "text": [
            "/usr/local/lib/python3.6/dist-packages/ipykernel_launcher.py:5: SettingWithCopyWarning: \n",
            "A value is trying to be set on a copy of a slice from a DataFrame.\n",
            "Try using .loc[row_indexer,col_indexer] = value instead\n",
            "\n",
            "See the caveats in the documentation: http://pandas.pydata.org/pandas-docs/stable/indexing.html#indexing-view-versus-copy\n",
            "  \"\"\"\n"
          ],
          "name": "stderr"
        },
        {
          "output_type": "execute_result",
          "data": {
            "text/plain": [
              "'has anyone got experience creating sql-based asp.net site-map providers i have got the default xml file websitemap working properly with my menu and sitemappath controls but i will need a way for the users of my site to create and modify pages dynamically i need to tie page viewing permissions into the standard asp.net membership system as well'"
            ]
          },
          "metadata": {
            "tags": []
          },
          "execution_count": 40
        }
      ]
    },
    {
      "metadata": {
        "id": "7maDEj-y0lt3",
        "colab_type": "code",
        "colab": {}
      },
      "cell_type": "code",
      "source": [
        "from nltk.corpus import stopwords\n",
        "\n",
        "\n",
        "lemma=WordNetLemmatizer()\n",
        "stop_words = set(stopwords.words(\"english\"))"
      ],
      "execution_count": 0,
      "outputs": []
    },
    {
      "metadata": {
        "id": "0yPXVSZl1_jA",
        "colab_type": "code",
        "colab": {}
      },
      "cell_type": "code",
      "source": [
        "def lemitizeWords(text):\n",
        "    words=token.tokenize(text)\n",
        "    listLemma=[]\n",
        "    for w in words:\n",
        "        x=lemma.lemmatize(w, pos=\"v\")\n",
        "        listLemma.append(x)\n",
        "    return ' '.join(map(str, listLemma))\n",
        "\n",
        "def stopWordsRemove(text):\n",
        "    \n",
        "    stop_words = set(stopwords.words(\"english\"))\n",
        "    \n",
        "    words=token.tokenize(text)\n",
        "    \n",
        "    filtered = [w for w in words if not w in stop_words]\n",
        "    \n",
        "    return ' '.join(map(str, filtered))"
      ],
      "execution_count": 0,
      "outputs": []
    },
    {
      "metadata": {
        "id": "BP6SdPSb2DaP",
        "colab_type": "code",
        "colab": {
          "base_uri": "https://localhost:8080/",
          "height": 275
        },
        "outputId": "756382ca-2986-4f39-b88f-dd8b3b1fcf05"
      },
      "cell_type": "code",
      "source": [
        "import nltk\n",
        "nltk.download('wordnet')\n",
        "\n",
        "new_df['Body'] = new_df['Body'].apply(lambda x: lemitizeWords(x)) \n",
        "new_df['Body'] = new_df['Body'].apply(lambda x: stopWordsRemove(x)) "
      ],
      "execution_count": 45,
      "outputs": [
        {
          "output_type": "stream",
          "text": [
            "[nltk_data] Downloading package wordnet to /root/nltk_data...\n",
            "[nltk_data]   Unzipping corpora/wordnet.zip.\n"
          ],
          "name": "stdout"
        },
        {
          "output_type": "stream",
          "text": [
            "/usr/local/lib/python3.6/dist-packages/ipykernel_launcher.py:4: SettingWithCopyWarning: \n",
            "A value is trying to be set on a copy of a slice from a DataFrame.\n",
            "Try using .loc[row_indexer,col_indexer] = value instead\n",
            "\n",
            "See the caveats in the documentation: http://pandas.pydata.org/pandas-docs/stable/indexing.html#indexing-view-versus-copy\n",
            "  after removing the cwd from sys.path.\n",
            "/usr/local/lib/python3.6/dist-packages/ipykernel_launcher.py:5: SettingWithCopyWarning: \n",
            "A value is trying to be set on a copy of a slice from a DataFrame.\n",
            "Try using .loc[row_indexer,col_indexer] = value instead\n",
            "\n",
            "See the caveats in the documentation: http://pandas.pydata.org/pandas-docs/stable/indexing.html#indexing-view-versus-copy\n",
            "  \"\"\"\n"
          ],
          "name": "stderr"
        }
      ]
    },
    {
      "metadata": {
        "id": "n7R3D7gr221O",
        "colab_type": "code",
        "colab": {}
      },
      "cell_type": "code",
      "source": [
        "new_df['Title'] = new_df['Title'].apply(lambda x: str(x))\n",
        "new_df['Title'] = new_df['Title'].apply(lambda x: clean_text(x)) \n",
        "new_df['Title'] = new_df['Title'].apply(lambda x: clean_punct(x)) \n",
        "new_df['Title'] = new_df['Title'].apply(lambda x: lemitizeWords(x)) \n",
        "new_df['Title'] = new_df['Title'].apply(lambda x: stopWordsRemove(x)) "
      ],
      "execution_count": 0,
      "outputs": []
    },
    {
      "metadata": {
        "id": "WMbKb21n3ItH",
        "colab_type": "code",
        "colab": {}
      },
      "cell_type": "code",
      "source": [
        "from sklearn.metrics import confusion_matrix\n",
        "from sklearn.feature_extraction.text import CountVectorizer\n",
        "from sklearn.feature_extraction.text import TfidfTransformer\n",
        "from sklearn.feature_extraction.text import TfidfVectorizer\n",
        "\n",
        "no_topics = 40\n",
        "text = new_df['Body']\n",
        "vectorizer_train = TfidfVectorizer(analyzer = 'word',\n",
        "                                       min_df=0.0,\n",
        "                                       max_df = 1.0,\n",
        "                                       strip_accents = None,\n",
        "                                       encoding = 'utf-8', \n",
        "                                       preprocessor=None,\n",
        "                                       token_pattern=r\"(?u)\\S\\S+\", # Need to repeat token pattern\n",
        "                                       max_features=1000)"
      ],
      "execution_count": 0,
      "outputs": []
    },
    {
      "metadata": {
        "id": "wqrAqSfX3Vfl",
        "colab_type": "code",
        "colab": {
          "base_uri": "https://localhost:8080/",
          "height": 71
        },
        "outputId": "c1ba4fbe-782c-4352-d4fc-8cdc5a2a1c7a"
      },
      "cell_type": "code",
      "source": [
        "from sklearn.feature_extraction.text import TfidfVectorizer\n",
        "from sklearn.decomposition import LatentDirichletAllocation\n",
        "from sklearn.datasets import fetch_20newsgroups\n",
        "import numpy as np\n",
        "\n",
        "\n",
        "TF_IDF_matrix = vectorizer_train.fit_transform(text)\n",
        "lda = LatentDirichletAllocation(n_topics=no_topics, max_iter=5, learning_method='online', learning_offset=50,random_state=11).fit(TF_IDF_matrix)"
      ],
      "execution_count": 50,
      "outputs": [
        {
          "output_type": "stream",
          "text": [
            "/usr/local/lib/python3.6/dist-packages/sklearn/decomposition/online_lda.py:314: DeprecationWarning: n_topics has been renamed to n_components in version 0.19 and will be removed in 0.21\n",
            "  DeprecationWarning)\n"
          ],
          "name": "stderr"
        }
      ]
    },
    {
      "metadata": {
        "id": "CeHZmmtO44v6",
        "colab_type": "code",
        "colab": {}
      },
      "cell_type": "code",
      "source": [
        "def display_topics(model, feature_names, no_top_words):\n",
        "    for topic_idx, topic in enumerate(model.components_):\n",
        "        print(\"--------------------------------------------\")\n",
        "        print(\"Topic %d:\" % (topic_idx))\n",
        "        print(\" \".join([feature_names[i]\n",
        "                        for i in topic.argsort()[:-no_top_words - 1:-1]]))\n",
        "        print(\"--------------------------------------------\")"
      ],
      "execution_count": 0,
      "outputs": []
    },
    {
      "metadata": {
        "id": "OjkcgC3249Wm",
        "colab_type": "code",
        "colab": {
          "base_uri": "https://localhost:8080/",
          "height": 2757
        },
        "outputId": "f10bf9a9-0971-4b2b-abb9-f2118250467f"
      },
      "cell_type": "code",
      "source": [
        "no_top_words = 20\n",
        "display_topics(lda, vectorizer_train.get_feature_names(), no_top_words)"
      ],
      "execution_count": 53,
      "outputs": [
        {
          "output_type": "stream",
          "text": [
            "--------------------------------------------\n",
            "Topic 0:\n",
            "node fragment xml child parent cache tree transform children document attribute element fetch schema namespace parse root tag elements structure\n",
            "--------------------------------------------\n",
            "--------------------------------------------\n",
            "Topic 1:\n",
            "use would like question know find one way understand good code make look java something seem example book answer read\n",
            "--------------------------------------------\n",
            "--------------------------------------------\n",
            "Topic 2:\n",
            "error exception throw catch token try get message err code fail run file use unknown crash new log info stack\n",
            "--------------------------------------------\n",
            "--------------------------------------------\n",
            "Topic 3:\n",
            "thread process run task mac program wait time start exit use stop call application execute os linux windows block console\n",
            "--------------------------------------------\n",
            "--------------------------------------------\n",
            "Topic 4:\n",
            "difference printf res double sequence tag explain someone confuse please short two piece understand mean tell example little exactly use\n",
            "--------------------------------------------\n",
            "--------------------------------------------\n",
            "Topic 5:\n",
            "android device devices gem textview queue picture bundle rail screen ruby install development app message correctly correspond stop custom anybody\n",
            "--------------------------------------------\n",
            "--------------------------------------------\n",
            "Topic 6:\n",
            "nsstring nil alloc str uri empty correspond enter choose construct valid press string resource check warn whether eandroidruntime character entry\n",
            "--------------------------------------------\n",
            "--------------------------------------------\n",
            "Topic 7:\n",
            "request url response post email send page user controller get http data use upload server login function file ajax error\n",
            "--------------------------------------------\n",
            "--------------------------------------------\n",
            "Topic 8:\n",
            "int std const vector type struct char include return function template cout main code value compile error compiler c++ float\n",
            "--------------------------------------------\n",
            "--------------------------------------------\n",
            "Topic 9:\n",
            "string character byte file text buffer stream word encode bytes line use length split input convert space replace read like\n",
            "--------------------------------------------\n",
            "--------------------------------------------\n",
            "Topic 10:\n",
            "test video unit term rule embed setup fail run actual custom 40 framework ways methods define write cod dependencies behavior\n",
            "--------------------------------------------\n",
            "--------------------------------------------\n",
            "Topic 11:\n",
            "file import line python print script command echo php use run output def try pdf shell work get like error\n",
            "--------------------------------------------\n",
            "--------------------------------------------\n",
            "Topic 12:\n",
            "app use google facebook api find know support apps would profile anyone like thank search work look want help application\n",
            "--------------------------------------------\n",
            "--------------------------------------------\n",
            "Topic 13:\n",
            "connection client connect port server address ip socket network timeout equivalent computer capture local side remote internet detect receive close\n",
            "--------------------------------------------\n",
            "--------------------------------------------\n",
            "Topic 14:\n",
            "folder path rail ruby file src icon font directory copy constant extract root filename structure current full content size change\n",
            "--------------------------------------------\n",
            "--------------------------------------------\n",
            "Topic 15:\n",
            "intent mobile validation validate js draw params device npm eandroidruntime somewhere point unable hope folder others custom collection 60 share\n",
            "--------------------------------------------\n",
            "--------------------------------------------\n",
            "Topic 16:\n",
            "number list range would use sum point value algorithm sort function like calculate time random way data filter example want\n",
            "--------------------------------------------\n",
            "--------------------------------------------\n",
            "Topic 17:\n",
            "studio visual vs 2010 debug window c# definition project tool c++ option .net click manager asp.net easy recently switch stop\n",
            "--------------------------------------------\n",
            "--------------------------------------------\n",
            "Topic 18:\n",
            "image color plot scope graph background tab arraylist change draw set text want visible default load assign example link remove\n",
            "--------------------------------------------\n",
            "--------------------------------------------\n",
            "Topic 19:\n",
            "install package instal download version certificate sdk .net versions windows home latest runtime 35 microsoft machine enable framework virtual dependencies\n",
            "--------------------------------------------\n",
            "--------------------------------------------\n",
            "Topic 20:\n",
            "password username im count max super docs relevant account db npm interface amp article complete idea variables good operator decide\n",
            "--------------------------------------------\n",
            "--------------------------------------------\n",
            "Topic 21:\n",
            "button view click activity use show app android user layout form want press work dialog screen like control text change\n",
            "--------------------------------------------\n",
            "--------------------------------------------\n",
            "Topic 22:\n",
            "spring bean bundle mvc tutorial 60 24 properties configure container context core hours dependency anyway 30 define public logic compare\n",
            "--------------------------------------------\n",
            "--------------------------------------------\n",
            "Topic 23:\n",
            "foo bar expression match category len regex pattern regular syntax string 124 capture group achieve character extract follow example global\n",
            "--------------------------------------------\n",
            "--------------------------------------------\n",
            "Topic 24:\n",
            "hello world disable extension filename account domain log drop entry name extract standard remain accomplish model file string binary javascript\n",
            "--------------------------------------------\n",
            "--------------------------------------------\n",
            "Topic 25:\n",
            "array value consolelog var key object function map return label name index like hash json list string dictionary id use\n",
            "--------------------------------------------\n",
            "--------------------------------------------\n",
            "Topic 26:\n",
            "file project library build error compile module use warn reference try find run get version include modules assembly work load\n",
            "--------------------------------------------\n",
            "--------------------------------------------\n",
            "Topic 27:\n",
            "12 11 10 13 14 17 boost 23 15 22 matrix 19 21 20 -1 25 sign 03 31 32\n",
            "--------------------------------------------\n",
            "--------------------------------------------\n",
            "Topic 28:\n",
            "124 function var event true false jquery alert click return javascript code work use end events get callback trigger value\n",
            "--------------------------------------------\n",
            "--------------------------------------------\n",
            "Topic 29:\n",
            "item list items menu collection foreach language template inherit tostring loop name cod new represent suppose select add apply want\n",
            "--------------------------------------------\n",
            "--------------------------------------------\n",
            "Topic 30:\n",
            "xcode phone iphone touch red na apple sub product component mode engine release app play mobile screen sdk disable color\n",
            "--------------------------------------------\n",
            "--------------------------------------------\n",
            "Topic 31:\n",
            "public class void new string return private int static method object override self use get import null type code call\n",
            "--------------------------------------------\n",
            "--------------------------------------------\n",
            "Topic 32:\n",
            "git file eclipse -- project branch commit jar plugin repository android maven use build run push master merge change try\n",
            "--------------------------------------------\n",
            "--------------------------------------------\n",
            "Topic 33:\n",
            "width css height image html div chrome page use text scroll display position work content top style leave like want\n",
            "--------------------------------------------\n",
            "--------------------------------------------\n",
            "Topic 34:\n",
            "service application web use server user host database app file access asp.net run deploy configuration config security users authentication store\n",
            "--------------------------------------------\n",
            "--------------------------------------------\n",
            "Topic 35:\n",
            "table query row select id column sql database data name value use columns insert record field mysql like null model\n",
            "--------------------------------------------\n",
            "--------------------------------------------\n",
            "Topic 36:\n",
            "date 00 json format frame datetime camera 05 year time 01 18 day msg 16 30 40 09 27 timestamp\n",
            "--------------------------------------------\n",
            "--------------------------------------------\n",
            "Topic 37:\n",
            "ios memory size performance use layer data large app increase scale free speed slow fast amount time image limit take\n",
            "--------------------------------------------\n",
            "--------------------------------------------\n",
            "Topic 38:\n",
            "operator func enum pointer ref parameter flag generic bool parameters pass boolean dynamically achieve function purpose public var value call\n",
            "--------------------------------------------\n",
            "--------------------------------------------\n",
            "Topic 39:\n",
            "val session variables 1000 delete variable lock statement 42 manager assign initialize declare refresh duplicate value consider void timeout block\n",
            "--------------------------------------------\n"
          ],
          "name": "stdout"
        }
      ]
    },
    {
      "metadata": {
        "id": "mepWdzGl5HW_",
        "colab_type": "code",
        "colab": {}
      },
      "cell_type": "code",
      "source": [
        "from sklearn.preprocessing import MultiLabelBinarizer\n",
        "\n",
        "X1 = new_df['Body']\n",
        "X2 = new_df['Title']\n",
        "y = new_df['Tags']\n",
        "\n",
        "multilabel_binarizer = MultiLabelBinarizer()\n",
        "y_bin = multilabel_binarizer.fit_transform(y)"
      ],
      "execution_count": 0,
      "outputs": []
    },
    {
      "metadata": {
        "id": "joMDLwNL5PGE",
        "colab_type": "code",
        "colab": {}
      },
      "cell_type": "code",
      "source": [
        "vectorizer_X1 = TfidfVectorizer(analyzer = 'word',\n",
        "                                       min_df=0.0,\n",
        "                                       max_df = 1.0,\n",
        "                                       strip_accents = None,\n",
        "                                       encoding = 'utf-8', \n",
        "                                       preprocessor=None,\n",
        "                                       token_pattern=r\"(?u)\\S\\S+\",\n",
        "                                       max_features=1000)\n",
        "\n",
        "vectorizer_X2 = TfidfVectorizer(analyzer = 'word',\n",
        "                                       min_df=0.0,\n",
        "                                       max_df = 1.0,\n",
        "                                       strip_accents = None,\n",
        "                                       encoding = 'utf-8', \n",
        "                                       preprocessor=None,\n",
        "                                       token_pattern=r\"(?u)\\S\\S+\",\n",
        "                                       max_features=1000)"
      ],
      "execution_count": 0,
      "outputs": []
    },
    {
      "metadata": {
        "id": "TjIz9QT1_dUr",
        "colab_type": "text"
      },
      "cell_type": "markdown",
      "source": [
        "****Model training and testing****"
      ]
    },
    {
      "metadata": {
        "id": "sIwXBtoq5SyR",
        "colab_type": "code",
        "colab": {
          "base_uri": "https://localhost:8080/",
          "height": 575
        },
        "outputId": "cca97b69-a9e4-4707-e684-51a2c215fe87"
      },
      "cell_type": "code",
      "source": [
        "from sklearn.model_selection import train_test_split\n",
        "\n",
        "X1_tfidf = vectorizer_X1.fit_transform(X1)\n",
        "X2_tfidf = vectorizer_X2.fit_transform(X2)\n",
        "\n",
        "X_tfidf = np.hstack([X1_tfidf,X2_tfidf])\n",
        "\n",
        "X_train, X_test, y_train, y_test = train_test_split(X_tfidf, y_bin, test_size = 0.2, random_state = 0) # Do 80/20 split"
      ],
      "execution_count": 86,
      "outputs": [
        {
          "output_type": "error",
          "ename": "ValueError",
          "evalue": "ignored",
          "traceback": [
            "\u001b[0;31m---------------------------------------------------------------------------\u001b[0m",
            "\u001b[0;31mValueError\u001b[0m                                Traceback (most recent call last)",
            "\u001b[0;32m<ipython-input-86-9a3dc8f3cdd1>\u001b[0m in \u001b[0;36m<module>\u001b[0;34m()\u001b[0m\n\u001b[1;32m      6\u001b[0m \u001b[0mX_tfidf\u001b[0m \u001b[0;34m=\u001b[0m \u001b[0mnp\u001b[0m\u001b[0;34m.\u001b[0m\u001b[0mhstack\u001b[0m\u001b[0;34m(\u001b[0m\u001b[0;34m[\u001b[0m\u001b[0mX1_tfidf\u001b[0m\u001b[0;34m,\u001b[0m\u001b[0mX2_tfidf\u001b[0m\u001b[0;34m]\u001b[0m\u001b[0;34m)\u001b[0m\u001b[0;34m\u001b[0m\u001b[0;34m\u001b[0m\u001b[0m\n\u001b[1;32m      7\u001b[0m \u001b[0;34m\u001b[0m\u001b[0m\n\u001b[0;32m----> 8\u001b[0;31m \u001b[0mX_train\u001b[0m\u001b[0;34m,\u001b[0m \u001b[0mX_test\u001b[0m\u001b[0;34m,\u001b[0m \u001b[0my_train\u001b[0m\u001b[0;34m,\u001b[0m \u001b[0my_test\u001b[0m \u001b[0;34m=\u001b[0m \u001b[0mtrain_test_split\u001b[0m\u001b[0;34m(\u001b[0m\u001b[0mX_tfidf\u001b[0m\u001b[0;34m,\u001b[0m \u001b[0my_bin\u001b[0m\u001b[0;34m,\u001b[0m \u001b[0mtest_size\u001b[0m \u001b[0;34m=\u001b[0m \u001b[0;36m0.2\u001b[0m\u001b[0;34m,\u001b[0m \u001b[0mrandom_state\u001b[0m \u001b[0;34m=\u001b[0m \u001b[0;36m0\u001b[0m\u001b[0;34m)\u001b[0m \u001b[0;31m# Do 80/20 split\u001b[0m\u001b[0;34m\u001b[0m\u001b[0;34m\u001b[0m\u001b[0m\n\u001b[0m",
            "\u001b[0;32m/usr/local/lib/python3.6/dist-packages/sklearn/model_selection/_split.py\u001b[0m in \u001b[0;36mtrain_test_split\u001b[0;34m(*arrays, **options)\u001b[0m\n\u001b[1;32m   2182\u001b[0m         \u001b[0mtest_size\u001b[0m \u001b[0;34m=\u001b[0m \u001b[0;36m0.25\u001b[0m\u001b[0;34m\u001b[0m\u001b[0;34m\u001b[0m\u001b[0m\n\u001b[1;32m   2183\u001b[0m \u001b[0;34m\u001b[0m\u001b[0m\n\u001b[0;32m-> 2184\u001b[0;31m     \u001b[0marrays\u001b[0m \u001b[0;34m=\u001b[0m \u001b[0mindexable\u001b[0m\u001b[0;34m(\u001b[0m\u001b[0;34m*\u001b[0m\u001b[0marrays\u001b[0m\u001b[0;34m)\u001b[0m\u001b[0;34m\u001b[0m\u001b[0;34m\u001b[0m\u001b[0m\n\u001b[0m\u001b[1;32m   2185\u001b[0m \u001b[0;34m\u001b[0m\u001b[0m\n\u001b[1;32m   2186\u001b[0m     \u001b[0;32mif\u001b[0m \u001b[0mshuffle\u001b[0m \u001b[0;32mis\u001b[0m \u001b[0;32mFalse\u001b[0m\u001b[0;34m:\u001b[0m\u001b[0;34m\u001b[0m\u001b[0;34m\u001b[0m\u001b[0m\n",
            "\u001b[0;32m/usr/local/lib/python3.6/dist-packages/sklearn/utils/validation.py\u001b[0m in \u001b[0;36mindexable\u001b[0;34m(*iterables)\u001b[0m\n\u001b[1;32m    258\u001b[0m         \u001b[0;32melse\u001b[0m\u001b[0;34m:\u001b[0m\u001b[0;34m\u001b[0m\u001b[0;34m\u001b[0m\u001b[0m\n\u001b[1;32m    259\u001b[0m             \u001b[0mresult\u001b[0m\u001b[0;34m.\u001b[0m\u001b[0mappend\u001b[0m\u001b[0;34m(\u001b[0m\u001b[0mnp\u001b[0m\u001b[0;34m.\u001b[0m\u001b[0marray\u001b[0m\u001b[0;34m(\u001b[0m\u001b[0mX\u001b[0m\u001b[0;34m)\u001b[0m\u001b[0;34m)\u001b[0m\u001b[0;34m\u001b[0m\u001b[0;34m\u001b[0m\u001b[0m\n\u001b[0;32m--> 260\u001b[0;31m     \u001b[0mcheck_consistent_length\u001b[0m\u001b[0;34m(\u001b[0m\u001b[0;34m*\u001b[0m\u001b[0mresult\u001b[0m\u001b[0;34m)\u001b[0m\u001b[0;34m\u001b[0m\u001b[0;34m\u001b[0m\u001b[0m\n\u001b[0m\u001b[1;32m    261\u001b[0m     \u001b[0;32mreturn\u001b[0m \u001b[0mresult\u001b[0m\u001b[0;34m\u001b[0m\u001b[0;34m\u001b[0m\u001b[0m\n\u001b[1;32m    262\u001b[0m \u001b[0;34m\u001b[0m\u001b[0m\n",
            "\u001b[0;32m/usr/local/lib/python3.6/dist-packages/sklearn/utils/validation.py\u001b[0m in \u001b[0;36mcheck_consistent_length\u001b[0;34m(*arrays)\u001b[0m\n\u001b[1;32m    233\u001b[0m     \u001b[0;32mif\u001b[0m \u001b[0mlen\u001b[0m\u001b[0;34m(\u001b[0m\u001b[0muniques\u001b[0m\u001b[0;34m)\u001b[0m \u001b[0;34m>\u001b[0m \u001b[0;36m1\u001b[0m\u001b[0;34m:\u001b[0m\u001b[0;34m\u001b[0m\u001b[0;34m\u001b[0m\u001b[0m\n\u001b[1;32m    234\u001b[0m         raise ValueError(\"Found input variables with inconsistent numbers of\"\n\u001b[0;32m--> 235\u001b[0;31m                          \" samples: %r\" % [int(l) for l in lengths])\n\u001b[0m\u001b[1;32m    236\u001b[0m \u001b[0;34m\u001b[0m\u001b[0m\n\u001b[1;32m    237\u001b[0m \u001b[0;34m\u001b[0m\u001b[0m\n",
            "\u001b[0;31mValueError\u001b[0m: Found input variables with inconsistent numbers of samples: [2, 108856]"
          ]
        }
      ]
    },
    {
      "metadata": {
        "id": "IAGrX3QE7cS5",
        "colab_type": "code",
        "colab": {}
      },
      "cell_type": "code",
      "source": [
        "def avg_jacard(y_true,y_pred):\n",
        "    '''\n",
        "    see https://en.wikipedia.org/wiki/Multi-label_classification#Statistics_and_evaluation_metrics\n",
        "    '''\n",
        "    jacard = np.minimum(y_true,y_pred).sum(axis=1) / np.maximum(y_true,y_pred).sum(axis=1)\n",
        "    \n",
        "    return jacard.mean()*100\n",
        "\n",
        "def print_score(y_pred, clf):\n",
        "    print(\"Clf: \", clf.__class__.__name__)\n",
        "    print(\"Jacard score: {}\".format(avg_jacard(y_test, y_pred)))\n",
        "    print(\"Hamming loss: {}\".format(hamming_loss(y_pred, y_test)*100))\n",
        "    print(\"---\")    "
      ],
      "execution_count": 0,
      "outputs": []
    },
    {
      "metadata": {
        "id": "U_9jaI7y7jE4",
        "colab_type": "code",
        "colab": {
          "base_uri": "https://localhost:8080/",
          "height": 232
        },
        "outputId": "26e94248-6570-47de-906c-ba6d5c9a0dd0"
      },
      "cell_type": "code",
      "source": [
        "import pickle\n",
        "from sklearn.dummy import DummyClassifier\n",
        "from sklearn.linear_model import SGDClassifier\n",
        "from sklearn.linear_model import LogisticRegression\n",
        "from sklearn.naive_bayes import MultinomialNB\n",
        "from sklearn.svm import LinearSVC, SVC\n",
        "from sklearn.neural_network import MLPClassifier\n",
        "from sklearn.linear_model import Perceptron\n",
        "from sklearn.linear_model import PassiveAggressiveClassifier\n",
        "from sklearn.multiclass import OneVsRestClassifier\n",
        "\n",
        "\n",
        "dummy = DummyClassifier()\n",
        "sgd = SGDClassifier()\n",
        "lr = LogisticRegression()\n",
        "mn = MultinomialNB()\n",
        "svc = LinearSVC()\n",
        "perceptron = Perceptron()\n",
        "pac = PassiveAggressiveClassifier()\n",
        "\n",
        "for classifier in [dummy, sgd, lr, mn, svc, perceptron, pac]:\n",
        "    clf = OneVsRestClassifier(classifier)\n",
        "    clf.fit(X_train, y_train)\n",
        "    y_pred = clf.predict(X_test)\n",
        "    print_score(y_pred, classifier)"
      ],
      "execution_count": 79,
      "outputs": [
        {
          "output_type": "error",
          "ename": "NameError",
          "evalue": "ignored",
          "traceback": [
            "\u001b[0;31m---------------------------------------------------------------------------\u001b[0m",
            "\u001b[0;31mNameError\u001b[0m                                 Traceback (most recent call last)",
            "\u001b[0;32m<ipython-input-79-e9216ee35cc5>\u001b[0m in \u001b[0;36m<module>\u001b[0;34m()\u001b[0m\n\u001b[1;32m     21\u001b[0m \u001b[0;32mfor\u001b[0m \u001b[0mclassifier\u001b[0m \u001b[0;32min\u001b[0m \u001b[0;34m[\u001b[0m\u001b[0mdummy\u001b[0m\u001b[0;34m,\u001b[0m \u001b[0msgd\u001b[0m\u001b[0;34m,\u001b[0m \u001b[0mlr\u001b[0m\u001b[0;34m,\u001b[0m \u001b[0mmn\u001b[0m\u001b[0;34m,\u001b[0m \u001b[0msvc\u001b[0m\u001b[0;34m,\u001b[0m \u001b[0mperceptron\u001b[0m\u001b[0;34m,\u001b[0m \u001b[0mpac\u001b[0m\u001b[0;34m]\u001b[0m\u001b[0;34m:\u001b[0m\u001b[0;34m\u001b[0m\u001b[0;34m\u001b[0m\u001b[0m\n\u001b[1;32m     22\u001b[0m     \u001b[0mclf\u001b[0m \u001b[0;34m=\u001b[0m \u001b[0mOneVsRestClassifier\u001b[0m\u001b[0;34m(\u001b[0m\u001b[0mclassifier\u001b[0m\u001b[0;34m)\u001b[0m\u001b[0;34m\u001b[0m\u001b[0;34m\u001b[0m\u001b[0m\n\u001b[0;32m---> 23\u001b[0;31m     \u001b[0mclf\u001b[0m\u001b[0;34m.\u001b[0m\u001b[0mfit\u001b[0m\u001b[0;34m(\u001b[0m\u001b[0mX_train\u001b[0m\u001b[0;34m,\u001b[0m \u001b[0my_train\u001b[0m\u001b[0;34m)\u001b[0m\u001b[0;34m\u001b[0m\u001b[0;34m\u001b[0m\u001b[0m\n\u001b[0m\u001b[1;32m     24\u001b[0m     \u001b[0my_pred\u001b[0m \u001b[0;34m=\u001b[0m \u001b[0mclf\u001b[0m\u001b[0;34m.\u001b[0m\u001b[0mpredict\u001b[0m\u001b[0;34m(\u001b[0m\u001b[0mX_test\u001b[0m\u001b[0;34m)\u001b[0m\u001b[0;34m\u001b[0m\u001b[0;34m\u001b[0m\u001b[0m\n\u001b[1;32m     25\u001b[0m     \u001b[0mprint_score\u001b[0m\u001b[0;34m(\u001b[0m\u001b[0my_pred\u001b[0m\u001b[0;34m,\u001b[0m \u001b[0mclassifier\u001b[0m\u001b[0;34m)\u001b[0m\u001b[0;34m\u001b[0m\u001b[0;34m\u001b[0m\u001b[0m\n",
            "\u001b[0;31mNameError\u001b[0m: name 'X_train' is not defined"
          ]
        }
      ]
    },
    {
      "metadata": {
        "id": "1V9b3BXV-N_l",
        "colab_type": "code",
        "colab": {
          "base_uri": "https://localhost:8080/",
          "height": 232
        },
        "outputId": "24134ba8-e36a-4ad4-801f-2e6972d955b1"
      },
      "cell_type": "code",
      "source": [
        "mlpc = MLPClassifier()\n",
        "mlpc.fit(X_train, y_train)\n",
        "\n",
        "y_pred = mlpc.predict(X_test)\n",
        "\n",
        "print_score(y_pred, mlpc)"
      ],
      "execution_count": 80,
      "outputs": [
        {
          "output_type": "error",
          "ename": "NameError",
          "evalue": "ignored",
          "traceback": [
            "\u001b[0;31m---------------------------------------------------------------------------\u001b[0m",
            "\u001b[0;31mNameError\u001b[0m                                 Traceback (most recent call last)",
            "\u001b[0;32m<ipython-input-80-07f4de643508>\u001b[0m in \u001b[0;36m<module>\u001b[0;34m()\u001b[0m\n\u001b[1;32m      1\u001b[0m \u001b[0mmlpc\u001b[0m \u001b[0;34m=\u001b[0m \u001b[0mMLPClassifier\u001b[0m\u001b[0;34m(\u001b[0m\u001b[0;34m)\u001b[0m\u001b[0;34m\u001b[0m\u001b[0;34m\u001b[0m\u001b[0m\n\u001b[0;32m----> 2\u001b[0;31m \u001b[0mmlpc\u001b[0m\u001b[0;34m.\u001b[0m\u001b[0mfit\u001b[0m\u001b[0;34m(\u001b[0m\u001b[0mX_train\u001b[0m\u001b[0;34m,\u001b[0m \u001b[0my_train\u001b[0m\u001b[0;34m)\u001b[0m\u001b[0;34m\u001b[0m\u001b[0;34m\u001b[0m\u001b[0m\n\u001b[0m\u001b[1;32m      3\u001b[0m \u001b[0;34m\u001b[0m\u001b[0m\n\u001b[1;32m      4\u001b[0m \u001b[0my_pred\u001b[0m \u001b[0;34m=\u001b[0m \u001b[0mmlpc\u001b[0m\u001b[0;34m.\u001b[0m\u001b[0mpredict\u001b[0m\u001b[0;34m(\u001b[0m\u001b[0mX_test\u001b[0m\u001b[0;34m)\u001b[0m\u001b[0;34m\u001b[0m\u001b[0;34m\u001b[0m\u001b[0m\n\u001b[1;32m      5\u001b[0m \u001b[0;34m\u001b[0m\u001b[0m\n",
            "\u001b[0;31mNameError\u001b[0m: name 'X_train' is not defined"
          ]
        }
      ]
    },
    {
      "metadata": {
        "id": "eGvNd_Wz-TEA",
        "colab_type": "code",
        "colab": {
          "base_uri": "https://localhost:8080/",
          "height": 232
        },
        "outputId": "36d57627-0121-493e-a1fa-68524fe5660e"
      },
      "cell_type": "code",
      "source": [
        "mlpc = MLPClassifier()\n",
        "mlpc.fit(X_train, y_train)\n",
        "\n",
        "y_pred = mlpc.predict(X_test)\n",
        "\n",
        "print_score(y_pred, mlpc)"
      ],
      "execution_count": 81,
      "outputs": [
        {
          "output_type": "error",
          "ename": "NameError",
          "evalue": "ignored",
          "traceback": [
            "\u001b[0;31m---------------------------------------------------------------------------\u001b[0m",
            "\u001b[0;31mNameError\u001b[0m                                 Traceback (most recent call last)",
            "\u001b[0;32m<ipython-input-81-07f4de643508>\u001b[0m in \u001b[0;36m<module>\u001b[0;34m()\u001b[0m\n\u001b[1;32m      1\u001b[0m \u001b[0mmlpc\u001b[0m \u001b[0;34m=\u001b[0m \u001b[0mMLPClassifier\u001b[0m\u001b[0;34m(\u001b[0m\u001b[0;34m)\u001b[0m\u001b[0;34m\u001b[0m\u001b[0;34m\u001b[0m\u001b[0m\n\u001b[0;32m----> 2\u001b[0;31m \u001b[0mmlpc\u001b[0m\u001b[0;34m.\u001b[0m\u001b[0mfit\u001b[0m\u001b[0;34m(\u001b[0m\u001b[0mX_train\u001b[0m\u001b[0;34m,\u001b[0m \u001b[0my_train\u001b[0m\u001b[0;34m)\u001b[0m\u001b[0;34m\u001b[0m\u001b[0;34m\u001b[0m\u001b[0m\n\u001b[0m\u001b[1;32m      3\u001b[0m \u001b[0;34m\u001b[0m\u001b[0m\n\u001b[1;32m      4\u001b[0m \u001b[0my_pred\u001b[0m \u001b[0;34m=\u001b[0m \u001b[0mmlpc\u001b[0m\u001b[0;34m.\u001b[0m\u001b[0mpredict\u001b[0m\u001b[0;34m(\u001b[0m\u001b[0mX_test\u001b[0m\u001b[0;34m)\u001b[0m\u001b[0;34m\u001b[0m\u001b[0;34m\u001b[0m\u001b[0m\n\u001b[1;32m      5\u001b[0m \u001b[0;34m\u001b[0m\u001b[0m\n",
            "\u001b[0;31mNameError\u001b[0m: name 'X_train' is not defined"
          ]
        }
      ]
    },
    {
      "metadata": {
        "id": "VX9OhMdq-aHf",
        "colab_type": "code",
        "colab": {}
      },
      "cell_type": "code",
      "source": [
        "param_grid = {'estimator__C':[1,10,100,1000]\n",
        "              }"
      ],
      "execution_count": 0,
      "outputs": []
    },
    {
      "metadata": {
        "id": "14bm064P-mXg",
        "colab_type": "code",
        "colab": {
          "base_uri": "https://localhost:8080/",
          "height": 88
        },
        "outputId": "71c4e4b6-33c7-4204-fe97-9d8a5aaa6abc"
      },
      "cell_type": "code",
      "source": [
        "!pip install --upgrade scikit-learn"
      ],
      "execution_count": 85,
      "outputs": [
        {
          "output_type": "stream",
          "text": [
            "Requirement already up-to-date: scikit-learn in /usr/local/lib/python3.6/dist-packages (0.20.3)\n",
            "Requirement already satisfied, skipping upgrade: scipy>=0.13.3 in /usr/local/lib/python3.6/dist-packages (from scikit-learn) (1.1.0)\n",
            "Requirement already satisfied, skipping upgrade: numpy>=1.8.2 in /usr/local/lib/python3.6/dist-packages (from scikit-learn) (1.14.6)\n"
          ],
          "name": "stdout"
        }
      ]
    },
    {
      "metadata": {
        "id": "PAt5QXp--bkE",
        "colab_type": "code",
        "colab": {
          "base_uri": "https://localhost:8080/",
          "height": 218
        },
        "outputId": "2c43e389-a52c-4498-9119-e55a8f60e91c"
      },
      "cell_type": "code",
      "source": [
        "svc = OneVsRestClassifier(LinearSVC())\n",
        "CV_svc = model_selection.GridSearchCV(estimator=svc, param_grid=param_grid, cv= 5, verbose=10, scoring=make_scorer(avg_jacard,greater_is_better=True))\n",
        "CV_svc.fit(X_train, y_train)"
      ],
      "execution_count": 83,
      "outputs": [
        {
          "output_type": "error",
          "ename": "NameError",
          "evalue": "ignored",
          "traceback": [
            "\u001b[0;31m---------------------------------------------------------------------------\u001b[0m",
            "\u001b[0;31mNameError\u001b[0m                                 Traceback (most recent call last)",
            "\u001b[0;32m<ipython-input-83-7e561d11db61>\u001b[0m in \u001b[0;36m<module>\u001b[0;34m()\u001b[0m\n\u001b[1;32m      1\u001b[0m \u001b[0msvc\u001b[0m \u001b[0;34m=\u001b[0m \u001b[0mOneVsRestClassifier\u001b[0m\u001b[0;34m(\u001b[0m\u001b[0mLinearSVC\u001b[0m\u001b[0;34m(\u001b[0m\u001b[0;34m)\u001b[0m\u001b[0;34m)\u001b[0m\u001b[0;34m\u001b[0m\u001b[0;34m\u001b[0m\u001b[0m\n\u001b[0;32m----> 2\u001b[0;31m \u001b[0mCV_svc\u001b[0m \u001b[0;34m=\u001b[0m \u001b[0mmodel_selection\u001b[0m\u001b[0;34m.\u001b[0m\u001b[0mGridSearchCV\u001b[0m\u001b[0;34m(\u001b[0m\u001b[0mestimator\u001b[0m\u001b[0;34m=\u001b[0m\u001b[0msvc\u001b[0m\u001b[0;34m,\u001b[0m \u001b[0mparam_grid\u001b[0m\u001b[0;34m=\u001b[0m\u001b[0mparam_grid\u001b[0m\u001b[0;34m,\u001b[0m \u001b[0mcv\u001b[0m\u001b[0;34m=\u001b[0m \u001b[0;36m5\u001b[0m\u001b[0;34m,\u001b[0m \u001b[0mverbose\u001b[0m\u001b[0;34m=\u001b[0m\u001b[0;36m10\u001b[0m\u001b[0;34m,\u001b[0m \u001b[0mscoring\u001b[0m\u001b[0;34m=\u001b[0m\u001b[0mmake_scorer\u001b[0m\u001b[0;34m(\u001b[0m\u001b[0mavg_jacard\u001b[0m\u001b[0;34m,\u001b[0m\u001b[0mgreater_is_better\u001b[0m\u001b[0;34m=\u001b[0m\u001b[0;32mTrue\u001b[0m\u001b[0;34m)\u001b[0m\u001b[0;34m)\u001b[0m\u001b[0;34m\u001b[0m\u001b[0;34m\u001b[0m\u001b[0m\n\u001b[0m\u001b[1;32m      3\u001b[0m \u001b[0mCV_svc\u001b[0m\u001b[0;34m.\u001b[0m\u001b[0mfit\u001b[0m\u001b[0;34m(\u001b[0m\u001b[0mX_train\u001b[0m\u001b[0;34m,\u001b[0m \u001b[0my_train\u001b[0m\u001b[0;34m)\u001b[0m\u001b[0;34m\u001b[0m\u001b[0;34m\u001b[0m\u001b[0m\n",
            "\u001b[0;31mNameError\u001b[0m: name 'model_selection' is not defined"
          ]
        }
      ]
    },
    {
      "metadata": {
        "id": "IMtUYRGx_EDa",
        "colab_type": "code",
        "colab": {
          "base_uri": "https://localhost:8080/",
          "height": 164
        },
        "outputId": "d07bc9ee-0895-4b54-f993-0e12c2db708e"
      },
      "cell_type": "code",
      "source": [
        "CV_svc.best_params_"
      ],
      "execution_count": 87,
      "outputs": [
        {
          "output_type": "error",
          "ename": "NameError",
          "evalue": "ignored",
          "traceback": [
            "\u001b[0;31m---------------------------------------------------------------------------\u001b[0m",
            "\u001b[0;31mNameError\u001b[0m                                 Traceback (most recent call last)",
            "\u001b[0;32m<ipython-input-87-df4c50404edf>\u001b[0m in \u001b[0;36m<module>\u001b[0;34m()\u001b[0m\n\u001b[0;32m----> 1\u001b[0;31m \u001b[0mCV_svc\u001b[0m\u001b[0;34m.\u001b[0m\u001b[0mbest_params_\u001b[0m\u001b[0;34m\u001b[0m\u001b[0;34m\u001b[0m\u001b[0m\n\u001b[0m",
            "\u001b[0;31mNameError\u001b[0m: name 'CV_svc' is not defined"
          ]
        }
      ]
    },
    {
      "metadata": {
        "id": "Jghx-9vU_MoD",
        "colab_type": "code",
        "colab": {
          "base_uri": "https://localhost:8080/",
          "height": 215
        },
        "outputId": "3ca7c343-2ff8-4ae0-e08e-10a9bd6ae7fe"
      },
      "cell_type": "code",
      "source": [
        "best_model = CV_svc.best_estimator_\n",
        "y_pred = best_model.predict(X_test)\n",
        "\n",
        "print_score(y_pred, best_model)"
      ],
      "execution_count": 88,
      "outputs": [
        {
          "output_type": "error",
          "ename": "NameError",
          "evalue": "ignored",
          "traceback": [
            "\u001b[0;31m---------------------------------------------------------------------------\u001b[0m",
            "\u001b[0;31mNameError\u001b[0m                                 Traceback (most recent call last)",
            "\u001b[0;32m<ipython-input-88-8c3a6e915d25>\u001b[0m in \u001b[0;36m<module>\u001b[0;34m()\u001b[0m\n\u001b[0;32m----> 1\u001b[0;31m \u001b[0mbest_model\u001b[0m \u001b[0;34m=\u001b[0m \u001b[0mCV_svc\u001b[0m\u001b[0;34m.\u001b[0m\u001b[0mbest_estimator_\u001b[0m\u001b[0;34m\u001b[0m\u001b[0;34m\u001b[0m\u001b[0m\n\u001b[0m\u001b[1;32m      2\u001b[0m \u001b[0my_pred\u001b[0m \u001b[0;34m=\u001b[0m \u001b[0mbest_model\u001b[0m\u001b[0;34m.\u001b[0m\u001b[0mpredict\u001b[0m\u001b[0;34m(\u001b[0m\u001b[0mX_test\u001b[0m\u001b[0;34m)\u001b[0m\u001b[0;34m\u001b[0m\u001b[0;34m\u001b[0m\u001b[0m\n\u001b[1;32m      3\u001b[0m \u001b[0;34m\u001b[0m\u001b[0m\n\u001b[1;32m      4\u001b[0m \u001b[0mprint_score\u001b[0m\u001b[0;34m(\u001b[0m\u001b[0my_pred\u001b[0m\u001b[0;34m,\u001b[0m \u001b[0mbest_model\u001b[0m\u001b[0;34m)\u001b[0m\u001b[0;34m\u001b[0m\u001b[0;34m\u001b[0m\u001b[0m\n",
            "\u001b[0;31mNameError\u001b[0m: name 'CV_svc' is not defined"
          ]
        }
      ]
    },
    {
      "metadata": {
        "id": "o5UB65zN_lyg",
        "colab_type": "text"
      },
      "cell_type": "markdown",
      "source": [
        "****Model end****"
      ]
    },
    {
      "metadata": {
        "id": "Nc6DuROD_pI2",
        "colab_type": "code",
        "colab": {
          "base_uri": "https://localhost:8080/",
          "height": 215
        },
        "outputId": "7adfdcdc-f2a0-4cb0-dec3-fdb9ed9a66f7"
      },
      "cell_type": "code",
      "source": [
        "for i in range(y_train.shape[1]):\n",
        "    print(multilabel_binarizer.classes_[i])\n",
        "    print(confusion_matrix(y_test[:,i], y_pred[:,i]))\n",
        "    print(\"\")def print_top10(feature_names, clf, class_labels):\n",
        "    \"\"\"Prints features with the highest coefficient values, per class\"\"\"\n",
        "    for i, class_label in enumerate(class_labels):\n",
        "        top10 = np.argsort(clf.coef_[i])[-10:]\n",
        "        print(\"--------------------------------------------\")\n",
        "        print(\"%s: %s\" % (class_label,\n",
        "              \" \".join(feature_names[j] for j in top10)))\n",
        "        print(\"--------------------------------------------\")"
      ],
      "execution_count": 89,
      "outputs": [
        {
          "output_type": "error",
          "ename": "NameError",
          "evalue": "ignored",
          "traceback": [
            "\u001b[0;31m---------------------------------------------------------------------------\u001b[0m",
            "\u001b[0;31mNameError\u001b[0m                                 Traceback (most recent call last)",
            "\u001b[0;32m<ipython-input-89-fcb1e8f752e0>\u001b[0m in \u001b[0;36m<module>\u001b[0;34m()\u001b[0m\n\u001b[0;32m----> 1\u001b[0;31m \u001b[0;32mfor\u001b[0m \u001b[0mi\u001b[0m \u001b[0;32min\u001b[0m \u001b[0mrange\u001b[0m\u001b[0;34m(\u001b[0m\u001b[0my_train\u001b[0m\u001b[0;34m.\u001b[0m\u001b[0mshape\u001b[0m\u001b[0;34m[\u001b[0m\u001b[0;36m1\u001b[0m\u001b[0;34m]\u001b[0m\u001b[0;34m)\u001b[0m\u001b[0;34m:\u001b[0m\u001b[0;34m\u001b[0m\u001b[0;34m\u001b[0m\u001b[0m\n\u001b[0m\u001b[1;32m      2\u001b[0m     \u001b[0mprint\u001b[0m\u001b[0;34m(\u001b[0m\u001b[0mmultilabel_binarizer\u001b[0m\u001b[0;34m.\u001b[0m\u001b[0mclasses_\u001b[0m\u001b[0;34m[\u001b[0m\u001b[0mi\u001b[0m\u001b[0;34m]\u001b[0m\u001b[0;34m)\u001b[0m\u001b[0;34m\u001b[0m\u001b[0;34m\u001b[0m\u001b[0m\n\u001b[1;32m      3\u001b[0m     \u001b[0mprint\u001b[0m\u001b[0;34m(\u001b[0m\u001b[0mconfusion_matrix\u001b[0m\u001b[0;34m(\u001b[0m\u001b[0my_test\u001b[0m\u001b[0;34m[\u001b[0m\u001b[0;34m:\u001b[0m\u001b[0;34m,\u001b[0m\u001b[0mi\u001b[0m\u001b[0;34m]\u001b[0m\u001b[0;34m,\u001b[0m \u001b[0my_pred\u001b[0m\u001b[0;34m[\u001b[0m\u001b[0;34m:\u001b[0m\u001b[0;34m,\u001b[0m\u001b[0mi\u001b[0m\u001b[0;34m]\u001b[0m\u001b[0;34m)\u001b[0m\u001b[0;34m)\u001b[0m\u001b[0;34m\u001b[0m\u001b[0;34m\u001b[0m\u001b[0m\n\u001b[1;32m      4\u001b[0m     \u001b[0mprint\u001b[0m\u001b[0;34m(\u001b[0m\u001b[0;34m\"\"\u001b[0m\u001b[0;34m)\u001b[0m\u001b[0;34m\u001b[0m\u001b[0;34m\u001b[0m\u001b[0m\n",
            "\u001b[0;31mNameError\u001b[0m: name 'y_train' is not defined"
          ]
        }
      ]
    },
    {
      "metadata": {
        "id": "n4vlo5xp_urW",
        "colab_type": "code",
        "colab": {}
      },
      "cell_type": "code",
      "source": [
        "def print_top10(feature_names, clf, class_labels):\n",
        "    \"\"\"Prints features with the highest coefficient values, per class\"\"\"\n",
        "    for i, class_label in enumerate(class_labels):\n",
        "        top10 = np.argsort(clf.coef_[i])[-10:]\n",
        "        print(\"--------------------------------------------\")\n",
        "        print(\"%s: %s\" % (class_label,\n",
        "              \" \".join(feature_names[j] for j in top10)))\n",
        "        print(\"--------------------------------------------\")"
      ],
      "execution_count": 0,
      "outputs": []
    },
    {
      "metadata": {
        "id": "wm8pgZ0m_zTi",
        "colab_type": "code",
        "colab": {
          "base_uri": "https://localhost:8080/",
          "height": 198
        },
        "outputId": "ea0613f5-7011-49a3-8240-31e76de1b56f"
      },
      "cell_type": "code",
      "source": [
        "import keras, hyperopt, tensorflow\n",
        "\n",
        "\n",
        "feature_names = vectorizer_X1.get_feature_names() + vectorizer_X2.get_feature_names()\n",
        "print_top10(feature_names, best_model, multilabel_binarizer.classes_)\n"
      ],
      "execution_count": 93,
      "outputs": [
        {
          "output_type": "error",
          "ename": "NameError",
          "evalue": "ignored",
          "traceback": [
            "\u001b[0;31m---------------------------------------------------------------------------\u001b[0m",
            "\u001b[0;31mNameError\u001b[0m                                 Traceback (most recent call last)",
            "\u001b[0;32m<ipython-input-93-427f3f5d8de9>\u001b[0m in \u001b[0;36m<module>\u001b[0;34m()\u001b[0m\n\u001b[1;32m      3\u001b[0m \u001b[0;34m\u001b[0m\u001b[0m\n\u001b[1;32m      4\u001b[0m \u001b[0mfeature_names\u001b[0m \u001b[0;34m=\u001b[0m \u001b[0mvectorizer_X1\u001b[0m\u001b[0;34m.\u001b[0m\u001b[0mget_feature_names\u001b[0m\u001b[0;34m(\u001b[0m\u001b[0;34m)\u001b[0m \u001b[0;34m+\u001b[0m \u001b[0mvectorizer_X2\u001b[0m\u001b[0;34m.\u001b[0m\u001b[0mget_feature_names\u001b[0m\u001b[0;34m(\u001b[0m\u001b[0;34m)\u001b[0m\u001b[0;34m\u001b[0m\u001b[0;34m\u001b[0m\u001b[0m\n\u001b[0;32m----> 5\u001b[0;31m \u001b[0mprint_top10\u001b[0m\u001b[0;34m(\u001b[0m\u001b[0mfeature_names\u001b[0m\u001b[0;34m,\u001b[0m \u001b[0mbest_model\u001b[0m\u001b[0;34m,\u001b[0m \u001b[0mmultilabel_binarizer\u001b[0m\u001b[0;34m.\u001b[0m\u001b[0mclasses_\u001b[0m\u001b[0;34m)\u001b[0m\u001b[0;34m\u001b[0m\u001b[0;34m\u001b[0m\u001b[0m\n\u001b[0m",
            "\u001b[0;31mNameError\u001b[0m: name 'best_model' is not defined"
          ]
        }
      ]
    }
  ]
}