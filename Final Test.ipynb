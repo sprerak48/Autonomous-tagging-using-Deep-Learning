{
  "nbformat": 4,
  "nbformat_minor": 0,
  "metadata": {
    "colab": {
      "name": "Untitled4.ipynb",
      "version": "0.3.2",
      "provenance": [],
      "collapsed_sections": [],
      "include_colab_link": true
    },
    "kernelspec": {
      "name": "python3",
      "display_name": "Python 3"
    }
  },
  "cells": [
    {
      "cell_type": "markdown",
      "metadata": {
        "id": "view-in-github",
        "colab_type": "text"
      },
      "source": [
        "<a href=\"https://colab.research.google.com/github/sprerak48/Autonomous-tagging-using-Deep-Learning/blob/Sanket/Final%20Test.ipynb\" target=\"_parent\"><img src=\"https://colab.research.google.com/assets/colab-badge.svg\" alt=\"Open In Colab\"/></a>"
      ]
    },
    {
      "metadata": {
        "id": "FJxAes3qAvU3",
        "colab_type": "code",
        "colab": {}
      },
      "cell_type": "code",
      "source": [
        "import pandas as pd\n",
        "import numpy as np"
      ],
      "execution_count": 0,
      "outputs": []
    },
    {
      "metadata": {
        "id": "qZ_EjuvFA1FI",
        "colab_type": "code",
        "colab": {}
      },
      "cell_type": "code",
      "source": [
        "dataset_filename = \"Test100.csv\"\n",
        "data = pd.read_csv(dataset_filename, index_col=0)\n",
        "datax = data.loc[: , :]\n"
      ],
      "execution_count": 0,
      "outputs": []
    },
    {
      "metadata": {
        "id": "wPl4L0hUA4zM",
        "colab_type": "code",
        "outputId": "62d1a407-751d-4011-d1e9-37dfbfbcb3ce",
        "colab": {
          "base_uri": "https://localhost:8080/",
          "height": 88
        }
      },
      "cell_type": "code",
      "source": [
        "import nltk\n",
        "nltk.download('stopwords')\n",
        "from nltk.tokenize import RegexpTokenizer\n",
        "from nltk.corpus import stopwords\n",
        "from nltk.corpus import wordnet\n",
        "from nltk.stem import WordNetLemmatizer\n",
        "nltk.download('wordnet')\n",
        "\n",
        "wordnet_lemmatizer = WordNetLemmatizer()\n",
        "tokenizer = RegexpTokenizer(r'[a-z]+')\n",
        "stop_words = set(stopwords.words('english'))\n",
        "\n",
        "def preprocess(document):\n",
        "    document = document.lower() # Convert to lowercase\n",
        "    words = tokenizer.tokenize(document) # Tokenize\n",
        "    words = [w for w in words if not w in stop_words] # Removing stopwords\n",
        "    # Lemmatizing\n",
        "    for pos in [wordnet.NOUN, wordnet.VERB, wordnet.ADJ, wordnet.ADV]:\n",
        "        words = [wordnet_lemmatizer.lemmatize(x, pos) for x in words]\n",
        "    return \" \".join(words)"
      ],
      "execution_count": 4,
      "outputs": [
        {
          "output_type": "stream",
          "text": [
            "[nltk_data] Downloading package stopwords to /root/nltk_data...\n",
            "[nltk_data]   Unzipping corpora/stopwords.zip.\n",
            "[nltk_data] Downloading package wordnet to /root/nltk_data...\n",
            "[nltk_data]   Unzipping corpora/wordnet.zip.\n"
          ],
          "name": "stdout"
        }
      ]
    },
    {
      "metadata": {
        "id": "_VOnSpD4A9A7",
        "colab_type": "code",
        "colab": {}
      },
      "cell_type": "code",
      "source": [
        "datax.to_csv(\"Test.csv\",index=False)"
      ],
      "execution_count": 0,
      "outputs": []
    },
    {
      "metadata": {
        "id": "ZELC3QyvBPz5",
        "colab_type": "code",
        "outputId": "2e6d2950-93ec-483f-f03d-6fee71c286f3",
        "colab": {
          "base_uri": "https://localhost:8080/",
          "height": 1032
        }
      },
      "cell_type": "code",
      "source": [
        "import pandas as pd\n",
        "import numpy as np\n",
        "from keras.models import Sequential\n",
        "from keras.layers import Dense\n",
        "from keras.layers import LSTM\n",
        "from numpy import array\n",
        "from keras.models import load_model\n",
        "from sklearn.feature_extraction.text import TfidfVectorizer\n",
        "from sklearn.model_selection import train_test_split\n",
        "\n",
        "newtest = \"Test100.csv\"\n",
        "X = pd.read_csv(newtest, index_col=0)\n",
        "X = X['Processed Review'].tolist()\n",
        "from keras import Sequential\n",
        "from keras.layers import LSTM\n",
        "vectorizer = TfidfVectorizer(max_features=77)\n",
        "vectorizer.fit(X)\n",
        "vectorizer.transform(X)\n",
        "#vectorizer.transform(Y)\n",
        "tfidf_vector_X = vectorizer.transform(X).toarray() #shape - (3,6)\n",
        "#tfidf_vector_Y = vectorizer.transform(Y).toarray() #shape - (3,6)\n",
        "tfidf_vector_X = tfidf_vector_X[:, :, None] #shape - (3,6,1) since LSTM cells expects ndims = 3\n",
        "#tfidf_vector_Y = tfidf_vector_Y[:, :, None] #shape - (3,6,1)\n",
        "model = load_model('lstm_model.h5')\n",
        "data = np.array(tfidf_vector_X)\n",
        "#print(data.shape)\n",
        "\n",
        "\n",
        "#data.shape\n",
        "# make predictions\n",
        "\n",
        "yhat = model.predict(data, verbose=0)\n",
        "yhat.shape\n",
        "print(yhat)\n"
      ],
      "execution_count": 6,
      "outputs": [
        {
          "output_type": "stream",
          "text": [
            "Using TensorFlow backend.\n"
          ],
          "name": "stderr"
        },
        {
          "output_type": "stream",
          "text": [
            "WARNING:tensorflow:From /usr/local/lib/python3.6/dist-packages/tensorflow/python/framework/op_def_library.py:263: colocate_with (from tensorflow.python.framework.ops) is deprecated and will be removed in a future version.\n",
            "Instructions for updating:\n",
            "Colocations handled automatically by placer.\n",
            "WARNING:tensorflow:From /usr/local/lib/python3.6/dist-packages/tensorflow/python/ops/math_ops.py:3066: to_int32 (from tensorflow.python.ops.math_ops) is deprecated and will be removed in a future version.\n",
            "Instructions for updating:\n",
            "Use tf.cast instead.\n",
            "[[[-3.45818352e-09]\n",
            "  [-5.71893999e-09]\n",
            "  [-7.18762561e-09]\n",
            "  ...\n",
            "  [ 4.87214536e-04]\n",
            "  [ 4.89889120e-04]\n",
            "  [ 4.82698873e-04]]\n",
            "\n",
            " [[-3.45818352e-09]\n",
            "  [-5.71893999e-09]\n",
            "  [-7.18762561e-09]\n",
            "  ...\n",
            "  [ 2.04028605e-04]\n",
            "  [ 2.97483726e-04]\n",
            "  [ 3.65652319e-04]]\n",
            "\n",
            " [[-3.45818352e-09]\n",
            "  [-5.71893999e-09]\n",
            "  [-7.18762561e-09]\n",
            "  ...\n",
            "  [ 7.14426511e-04]\n",
            "  [ 6.89077191e-04]\n",
            "  [ 6.56357210e-04]]\n",
            "\n",
            " ...\n",
            "\n",
            " [[-3.45818352e-09]\n",
            "  [-5.71893999e-09]\n",
            "  [-7.18762561e-09]\n",
            "  ...\n",
            "  [ 1.13690774e-07]\n",
            "  [ 9.14906266e-08]\n",
            "  [ 7.33453049e-08]]\n",
            "\n",
            " [[-3.45818352e-09]\n",
            "  [-5.71893999e-09]\n",
            "  [-7.18762561e-09]\n",
            "  ...\n",
            "  [ 1.60176565e-08]\n",
            "  [ 1.14892797e-08]\n",
            "  [ 7.76302844e-09]]\n",
            "\n",
            " [[-3.45818352e-09]\n",
            "  [-5.71893999e-09]\n",
            "  [-7.18762561e-09]\n",
            "  ...\n",
            "  [-9.71488134e-09]\n",
            "  [-9.71488134e-09]\n",
            "  [-9.71488134e-09]]]\n"
          ],
          "name": "stdout"
        }
      ]
    },
    {
      "metadata": {
        "id": "c35OjQfNwd6y",
        "colab_type": "code",
        "colab": {}
      },
      "cell_type": "code",
      "source": [
        ""
      ],
      "execution_count": 0,
      "outputs": []
    },
    {
      "metadata": {
        "id": "w1m77GMKiXjh",
        "colab_type": "code",
        "outputId": "b8bbc6e3-20c1-4c0f-ef05-83c11cb1a34b",
        "colab": {
          "base_uri": "https://localhost:8080/",
          "height": 55
        }
      },
      "cell_type": "code",
      "source": [
        "y = vectorizer.get_feature_names()\n",
        "print(y)"
      ],
      "execution_count": 25,
      "outputs": [
        {
          "output_type": "stream",
          "text": [
            "['asp', 'best', 'class', 'comparison', 'control', 'create', 'cs', 'error', 'file', 'form', 'generate', 'get', 'inside', 'java', 'javascript', 'know', 'library', 'linq', 'load', 'log', 'make', 'multiline', 'multiple', 'mvc', 'mysql', 'net', 'newline', 'ntlm', 'number', 'object', 'odd', 'one', 'open', 'oracle', 'outlook', 'oversee', 'package', 'pagination', 'pair', 'panel', 'pas', 'perl', 'permission', 'php', 'plane', 'platform', 'point', 'populate', 'print', 'process', 'program', 'programmatically', 'provider', 'python', 'query', 'quick', 'race', 'raw', 'read', 'record', 'recursive', 'redundant', 'register', 'replication', 'sql', 'status', 'stop', 'studio', 'subversion', 'suggestion', 'suppress', 'svn', 'system', 'test', 'use', 'way', 'wcf']\n"
          ],
          "name": "stdout"
        }
      ]
    },
    {
      "metadata": {
        "id": "cxTexGCgdPCy",
        "colab_type": "code",
        "colab": {
          "base_uri": "https://localhost:8080/",
          "height": 72
        },
        "outputId": "a3981b03-13f9-45dc-cd01-7b110d13d544"
      },
      "cell_type": "code",
      "source": [
        "k = \" asp best class comparison\"\n",
        "p = k.split(\" \")\n",
        "\n",
        "dicted = {}\n",
        "\n",
        "for i in range(len(y)):\n",
        "  k = y[i]\n",
        "  dicted[k] = 0\n",
        "  \n",
        "print(dicted)\n",
        "\n",
        "\n",
        "p.remove(\"\")\n",
        "    \n",
        "\n",
        "for i in p:\n",
        "  if i in dicted.keys():\n",
        "    dicted[i] = dicted[i] + 1\n",
        "  \n",
        "    \n",
        "    \n",
        "  \n",
        "      \n",
        "\n",
        "print(dicted)"
      ],
      "execution_count": 28,
      "outputs": [
        {
          "output_type": "stream",
          "text": [
            "{'asp': 0, 'best': 0, 'class': 0, 'comparison': 0, 'control': 0, 'create': 0, 'cs': 0, 'error': 0, 'file': 0, 'form': 0, 'generate': 0, 'get': 0, 'inside': 0, 'java': 0, 'javascript': 0, 'know': 0, 'library': 0, 'linq': 0, 'load': 0, 'log': 0, 'make': 0, 'multiline': 0, 'multiple': 0, 'mvc': 0, 'mysql': 0, 'net': 0, 'newline': 0, 'ntlm': 0, 'number': 0, 'object': 0, 'odd': 0, 'one': 0, 'open': 0, 'oracle': 0, 'outlook': 0, 'oversee': 0, 'package': 0, 'pagination': 0, 'pair': 0, 'panel': 0, 'pas': 0, 'perl': 0, 'permission': 0, 'php': 0, 'plane': 0, 'platform': 0, 'point': 0, 'populate': 0, 'print': 0, 'process': 0, 'program': 0, 'programmatically': 0, 'provider': 0, 'python': 0, 'query': 0, 'quick': 0, 'race': 0, 'raw': 0, 'read': 0, 'record': 0, 'recursive': 0, 'redundant': 0, 'register': 0, 'replication': 0, 'sql': 0, 'status': 0, 'stop': 0, 'studio': 0, 'subversion': 0, 'suggestion': 0, 'suppress': 0, 'svn': 0, 'system': 0, 'test': 0, 'use': 0, 'way': 0, 'wcf': 0}\n",
            "{'asp': 1, 'best': 1, 'class': 1, 'comparison': 1, 'control': 0, 'create': 0, 'cs': 0, 'error': 0, 'file': 0, 'form': 0, 'generate': 0, 'get': 0, 'inside': 0, 'java': 0, 'javascript': 0, 'know': 0, 'library': 0, 'linq': 0, 'load': 0, 'log': 0, 'make': 0, 'multiline': 0, 'multiple': 0, 'mvc': 0, 'mysql': 0, 'net': 0, 'newline': 0, 'ntlm': 0, 'number': 0, 'object': 0, 'odd': 0, 'one': 0, 'open': 0, 'oracle': 0, 'outlook': 0, 'oversee': 0, 'package': 0, 'pagination': 0, 'pair': 0, 'panel': 0, 'pas': 0, 'perl': 0, 'permission': 0, 'php': 0, 'plane': 0, 'platform': 0, 'point': 0, 'populate': 0, 'print': 0, 'process': 0, 'program': 0, 'programmatically': 0, 'provider': 0, 'python': 0, 'query': 0, 'quick': 0, 'race': 0, 'raw': 0, 'read': 0, 'record': 0, 'recursive': 0, 'redundant': 0, 'register': 0, 'replication': 0, 'sql': 0, 'status': 0, 'stop': 0, 'studio': 0, 'subversion': 0, 'suggestion': 0, 'suppress': 0, 'svn': 0, 'system': 0, 'test': 0, 'use': 0, 'way': 0, 'wcf': 0}\n"
          ],
          "name": "stdout"
        }
      ]
    },
    {
      "metadata": {
        "id": "DHLtpwrDlmMA",
        "colab_type": "code",
        "outputId": "26bd1758-4699-4b92-976c-cdbc1c7f3b1e",
        "colab": {
          "base_uri": "https://localhost:8080/",
          "height": 35
        }
      },
      "cell_type": "code",
      "source": [
        "'''for i in range(61):\n",
        "  for j in range(77):\n",
        "    if yhat[i,j] >= 0:\n",
        "      print (yhat[i,j])'''\n",
        "\n",
        "listed = []\n",
        "for i in range(len(yhat[0])):\n",
        "  listed.append(yhat[0][i][0])\n",
        "  \n",
        "  \n",
        "\n",
        "max_value = max(listed)\n",
        "max_value\n",
        "\n",
        "max_index = listed.index(max_value)\n",
        "max_index\n",
        "print(max_value , y[max_index])\n",
        "\n"
      ],
      "execution_count": 0,
      "outputs": [
        {
          "output_type": "stream",
          "text": [
            "0.0009734803 oracle\n"
          ],
          "name": "stdout"
        }
      ]
    },
    {
      "metadata": {
        "id": "V9jRvTYPo5iE",
        "colab_type": "code",
        "outputId": "ab71ec87-bbbb-4c09-89f9-34c05dd83aad",
        "colab": {
          "base_uri": "https://localhost:8080/",
          "height": 1119
        }
      },
      "cell_type": "code",
      "source": [
        "import re\n",
        "import csv\n",
        "import operator\n",
        "from collections import defaultdict\n",
        "\n",
        "all_tags = ['asp', 'best', 'class', 'comparison', 'control', 'create', 'cs', 'error', 'file', 'form', 'generate', 'get', 'inside', 'java', 'javascript', 'know', 'library', 'linq', 'load', 'log', 'make', 'multiline', 'multiple', 'mvc', 'mysql', 'net', 'newline', 'ntlm', 'number', 'object', 'odd', 'one', 'open', 'oracle', 'outlook', 'oversee', 'package', 'pagination', 'pair', 'panel', 'pas', 'perl', 'permission', 'php', 'plane', 'platform', 'point', 'populate', 'print', 'process', 'program', 'programmatically', 'provider', 'python', 'query', 'quick', 'race', 'raw', 'read', 'record', 'recursive', 'redundant', 'register', 'replication', 'sql', 'status', 'stop', 'studio', 'subversion', 'suggestion', 'suppress', 'svn', 'system', 'test', 'use', 'way', 'wcf'] \n",
        "\n",
        "#'fluid-dynamics', 'gravity', 'energy', 'particle-physics', 'electrostatics', 'cosmology', 'visible-light', 'statistical-mechanics', 'waves', 'black-holes', 'electricity', 'newtonian-gravity', 'electromagnetic-radiation', 'condensed-matter', 'experimental-physics', 'kinematics', 'photons', 'magnetic-fields', 'string-theory', 'lagrangian-formalism', 'spacetime', 'electric-circuits', 'mathematical-physics', 'mass', 'angular-momentum', 'differential-geometry', 'speed-of-light', 'solid-state-physics', 'pressure', 'operators', 'energy-conservation', 'nuclear-physics', 'momentum', 'electrons', 'rotational-dynamics', 'quantum-information', 'astrophysics', 'soft-question', 'astronomy', 'resource-recommendations', 'reference-frames', 'wavefunction', 'acoustics', 'temperature', 'conservation-laws', 'orbital-motion', 'hilbert-space', 'acceleration', 'time', 'friction', 'atomic-physics', 'quantum-spin', 'terminology', 'electric-fields', 'electric-current', 'schroedinger-equation', 'entropy', 'everyday-life', 'symmetry', 'water', 'charge', 'work', 'potential', 'universe', 'electrical-resistance', 'quantum-electrodynamics', 'velocity', 'standard-model', 'harmonic-oscillator', 'vectors', 'metric-tensor', 'gauge-theory', 'potential-energy', 'space-expansion', 'hamiltonian-formalism', 'field-theory', 'supersymmetry', 'relativity', 'material-science', 'radiation', 'entanglement', 'capacitance', 'collision', 'renormalization', 'laser', 'semiconductor-physics', 'reflection', 'group-theory', 'scattering', 'quantum-gravity', 'uncertainty-principle', 'research-level', 'earth', 'education', 'voltage', 'simulation', 'big-bang', 'measurement', 'torque', 'projectile', 'superconductivity', 'computational-physics', 'double-slit-experiment', 'units', 'conformal-field-theory', 'refraction', 'classical-electrodynamics', 'conventions', 'curvature', 'frequency', 'thermal-radiation', 'gravitational-waves', 'gauss-law', 'tensor-calculus', 'atmospheric-science', 'history', 'vacuum', 'coordinate-systems', 'definition', 'fourier-transform', 'inertial-frames', 'atoms', 'quantum-interpretations', 'probability', 'planets', 'ideal-gas', 'measurement-problem', 'path-integral', 'rotation', 'physical-chemistry', 'notation', 'faster-than-light', 'polarization', 'mass-energy', 'spring', 'interference', 'drag', 'feynman-diagram', 'maxwell-equations', 'rotational-kinematics', 'fermions', 'group-representations', 'quantum-chromodynamics', 'dark-matter', 'air', 'geometric-optics', 'geometry', 'spectroscopy', 'variational-principle', 'mathematics', 'power', 'aerodynamics', 'biophysics', 'diffraction', 'sun', 'hamiltonian', 'home-experiment', 'quantum-optics', 'quantum-computer', 'phase-transition', 'antimatter', 'neutrinos', 'integration', 'differentiation', 'specific-reference', 'time-dilation', 'dimensions', 'higgs', 'representation-theory', 'speed', 'solar-system', 'space', 'stars', 'lie-algebra', 'wave-particle-duality', 'symmetry-breaking', 'free-body-diagram', 'dirac-equation', 'boundary-conditions', 'commutator', 'dimensional-analysis', 'oscillators', 'topology', 'observers', 'density', 'spinors', 'action', 'heat', 'rocket-science', 'event-horizon', 'causality', 'singularities', 'perturbation-theory', 'elasticity', 'vector-fields', 'galaxies', 'estimation', 'tensors', 'centripetal-force', 'flow', 'resonance', 'stress-energy-tensor', 'linear-algebra', 'noethers-theorem', 'cosmological-inflation', 'moment-of-inertia', 'lenses', 'surface-tension', 'celestial-mechanics', 'plasma-physics', 'rigid-body-dynamics', 'error-analysis', 'radioactivity', 'quarks', 'crystals', 'physical-constants', 'ads-cft', 'relative-motion', 'statics', 'conductors', 'lorentz-symmetry', 'induction', 'hydrogen', 'software', 'dark-energy', 'coulombs-law', 'equilibrium', 'wavelength', 'superposition', 'geodesics', 'angular-velocity', 'buoyancy', 'eigenvalue', 'continuum-mechanics', 'electronic-band-theory', 'complex-numbers', 'centrifugal-force', 'discrete', 'geophysics', 'many-body', 'string', 'gauge-invariance', 'stress-strain', 'photoelectric-effect', 'statistics', 'fusion', 'electronics', 'dielectric', 'differential-equations', 'large-hadron-collider', 'vibration', 'observables', 'hydrostatics', 'cmb', 'density-operator', 'calculus', 'kinetic-theory', 'interactions', 'molecules', 'topological-field-theory', 'hawking-radiation', 'inductance', 'information', 'thermal-conductivity', 'free-fall', 'moon', 'diffusion', 'popular-science', 'batteries', 'topological-order', 'electrical-engineering', 'doppler-effect', 'approximations', 'metals', 'viscosity', 'covariance', 'greens-functions', 'distributions', 'particles', 'tidal-effect', 'neutrons', 'equivalence-principle', 'yang-mills', 'topological-insulators', 'vision', 'regularization', 'correlation-functions', 'constrained-dynamics', 'inertia', 'klein-gordon-equation', 'si-units', 'virtual-particles', 'bose-einstein-condensate', 'experimental-technique', 'data-analysis', 'second-quantization', 'wavefunction-collapse', 'distance', 'magnetic-moment', 'elementary-particles', 'beyond-the-standard-model', 'determinism', 'weak-interaction', 'protons', 'stability', 'fluid-statics', 'ising-model', 'nuclear-engineering', 'phase-space', 'weight', 'pauli-exclusion-principle', 'quantization', 'telescopes', 'unit-conversion', 'turbulence', 'time-evolution', 'magnetic-monopoles', 'degrees-of-freedom', 'evaporation', 'bernoulli-equation', 'propagator', 'scattering-cross-section', 'reversibility', 'partition-function', 'variational-calculus', 'chaos-theory', 'branes', 'matter', 'parity', 'states-of-matter', 'lattice-model', 'satellites', 'signal-processing', 'time-reversal-symmetry', 'decoherence', 'dipole', 'space-travel', 'quantum-anomalies', 'x-rays', 'aircraft', 'navier-stokes', 'interferometry', 'absorption', 'unitarity', 'adiabatic', 'graphene', 'thought-experiment', 'quantum-hall-effect', 'neutron-stars', 'higgs-boson', 'time-travel', 'phonons', 'non-linear-systems', 'radio', 'volume', 'orbitals', 'bosons', 's-matrix-theory', 'antennas', 'electroweak', 'ice', 'binding-energy', 'perpetual-motion', 'supergravity', 'holographic-principle', 'molecular-dynamics', 'metrology', 'gauge', 'compactification', 'lightning', 'quantum-chemistry', 'quantum-tunneling', 'wormholes', 'models', 'chirality', 'electromagnetic-induction', 'bells-inequality', 'explosions', 'nanoscience', 'particle-detectors', 'renewable-energy', 'weather', 'observational-astronomy', 'majorana-fermions', 'gamma-rays', 'dispersion', 'cosmological-constant', 'locality', 'ligo', 'gyroscopes', 'biology', 'vortex', 'strong-force', 'dirac-matrices', 'microscopy', 'classical-field-theory', 'stellar-physics', 'qft-in-curved-spacetime', 'propulsion', 'eye', 'heat-engine', 'fiber-optics', 'non-equilibrium', 'normalization', 'wick-rotation', 'convection', 'applied-physics', 'coherence', 'magnetostatics', 'perception', 'subatomic', 'theory-of-everything', 'superfluidity', 'light-emitting-diodes', 'duality', 'chern-simons-theory', 'noise', 'poincare-symmetry', 'poisson-brackets', 'supernova', 'gas', 'coriolis-effect', 'accelerator-physics', 'microwaves', 'coupled-oscillators', 'dipole-moment', 'spin-statistics', 'non-linear-optics', 'lift', 'radio-frequency', 'semiclassical', 'multipole-expansion', 'galilean-relativity', 'infrared-radiation', 'dissipation', 'effective-field-theory', 'gravitational-lensing', 'x-ray-crystallography', 'multiverse', 'gravitational-redshift', 'grassmann-numbers', 'photon-emission', 'topological-phase', 'chemical-potential', 'arrow-of-time', 'elements', 'helicity', 'precession', 'solid-mechanics', 'kaluza-klein', 'escape-velocity', 'blackbody', 'complex-systems', 'moment', 'brownian-motion', 'cp-violation', 'cooling', 'displacement', 'stellar-evolution', 'observable-universe', 'light', 'instantons', 'general-physics', 'numerical-method', 'data', 'wick-theorem', 'identical-particles', 'imaging', 'levitation', 'exoplanets', 'electrochemistry', 'born-rule', 'carnot-cycle', 'carrier-particles', 'aether', 'casimir-effect', 'confinement', 'climate-science', 'optical-materials', 'point-particle', 'warp-drives', 'anti-de-sitter-spacetime', 'linear-systems', 'foundations', 'teleportation', 'photovoltaics', 'quantum-statistics', 'meteorology', 'anyons', 'berry-pancharatnam-phase', 'bubble', 'cosmic-rays', 'visualization', 'solitons', 'poynting-vector', 'experimental-technology', 'camera', 'asteroids', 'loop-quantum-gravity', 'non-perturbative', 'grand-unification', 'integrable-systems', 'spin-model', 'spherical-harmonics', 'pair-production', 'non-locality', 'gluons', 'functional-derivatives', 'randomness', 'freezing', 'laws-of-physics', 'critical-phenomena', 'structural-beam', 'tachyon', 'textbook-erratum', 'mesons', 'material', 'ground-state', 'isotope', 'jerk', 'harmonics', 'brst', 'space-mission', 'pions', 'waveguide', 'scaling', 'isospin-symmetry', 'ions', 'gauge-symmetry', 'kerr-metric', 'hologram', 'black-hole-thermodynamics', 'capillary-action', 'shockwave', 'scale-invariance', 'redshift', 'particle-accelerators', 'chemical-compounds', 'medical-physics', 'milky-way', 'cold-atoms', 'stochastic-processes', 'color-charge', 'algorithm', 'order-of-magnitude', 'insulators', 'humidity', 'galaxy-rotation-curve', 'luminosity', 'condensation', 'density-functional-theory', 'epr-experiment', 'effective-action', 'trace', 'tight-binding', 'thermoelectricity', 'unified-theories', 'twin-paradox', 'sensor', 'baryons', 'absolute-units', 'fine-tuning', 'higgs-mechanism', 'invariants', 'ghosts', 'combustion', 'cpt-symmetry', 'quasiparticles', 'virtual-photons', 'density-of-states', 'clifford-algebra', 'normal-modes', 'numerics', 'magnetohydrodynamics', 'geomagnetism', 'ionization-energy', 'technology', 'piezoelectric', 'phase-diagram', 'quantum-states', 'machs-principle', 'matrix-elements', 'leptons', 'anticommutator', 'fermis-golden-rule', 'length-contraction', 'solar-system-exploration', 'white-holes', 'scales', 'physics-careers', 'big-list', 'computer', 'entanglement-entropy', 'phase-velocity', 'solar-wind', 'spin-chains', 'wigner-transform', 'solar-cells', 'diffeomorphism-invariance', 'asymptotics', 'non-linear-dynamics', 'modified-gravity', 'nasa', 'instrument', 'analyticity', 'category-theory', 'conservative-field', 'efficient-energy-use', 'ward-identity', 'schroedingers-cat', 'superalgebra', 'de-sitter-spacetime', 'cellular-automaton', 'optimization', 'open-quantum-systems', 'meteors', 'gps', 'fractals', 'baryogenesis', 'black-hole-firewall', 'raman-spectroscopy', 'plane-wave', 'superconformality', 'charge-conjugation', 'equations-of-motion', 'boundary-terms', 'linearized-theory', 'synchrotron-radiation', 'plasmon', 'radiometry', 'virial-theorem', 'wilson-loop', 'jupiter', 'laser-interaction', 'matrix-model', 'nucleosynthesis', 'moduli', 'image-processing', 'fan', 'calabi-yau', 'fluctuation-dissipation', 'stochastic-models', 'string-theory-landscape', 'inert-gases', 'integrals-of-motion', 'comets', 'clock', 'faq', 'cryogenics', 'laboratory-safety', 'mssm', 'oceanography', 'short-circuits', 'proton-decay', 'gravitational-collapse', 'exotic-matter', 'eclipse', 'graph-theory', 'pulsars', 'sigma-models', 'galaxy-clusters', 'dimensional-reg', 'atomic-excitation', 'anharmonic-oscillators', 'anthropic-principle', 'emergent-properties', 'energy-storage', 'interstellar-matter', 'low-temperature-physics', 'shadow', 'superspace-formalism', 'twistor', 'unruh-effect', 'minkowski-space', 'internal-energy', 'disorder', 'design', 'astrophotography', 'cavity-qed', 'interstellar-travel', 'lienard-wiechert', 'sports', 'rigid-solid', 'radar', 'relativistic-jets', 'photometry', 'structure-formation', 'network', 'higgs-field', 'fermi-liquids', 'cold-fusion', 'algebraic-geometry', 'dirac-monopole', 'equation-of-state', 'exchange-interaction', 'earthquake', 'cherenkov-radiation', 'building-physics', 'fluorescence', 'higher-spin', 'nature', 'string-field-theory', 'three-body-problem', 'percolation', 'meteorites', 'half-life', 'epistemology', 'adhesion', 'food', 'mean-free-path', 'porous-media', 'runge-lenz-vector', 'strong-correlated', 'reissner-nordstrom-metric', 'newtonian-fluid', 'length', 'frame-dragging', 'hadron-dynamics', 'accretion-disk', 'brachistochrone-problem', 'axion', 'functional-determinants', 'fock-space', 'liquid-crystal', 'non-commutative-geometry', 'nuclei', 'soft-matter', 'positronium', 'poincare-recurrence', 'steady-state', 'special-functions', 'thermal-field-theory', 'self-energy', 'quark-gluon-plasma', 'heavy-ion', 'bloch-sphere', 'braggs-law', 'deformation-quantization', 'diamond', 'closed-timelike-curve', 'bohmian-mechanics', 'binary-stars', 'leptogenesis', 'metallicity', 'potential-flow', 'stellar-population', 'maxwell-relations', 'non-linear-schroedinger', 'parallax', 'osmosis', 'amorphous-solids', 'canonical-conjugation', 'cosmic-censorship', 'dynamical-systems', 'displacement-current', 'bosonization', 'anderson-localization', 'astrometrics', 'atomic-clocks', 'non-commutative-theory', 'liquid-state', 'glass', 'topological-entropy', 'quasars', 'spin-glass', 'white-dwarfs', 'josephson-junction', 'ion-traps', 'large-n', 'metric-space', 'nucleation', 'born-oppenheimer-approx', 'amplituhedron', 'dirac-string', 'enthalpy', 'optical-lattices', 'nebulae', 'light-pollution', 'isotropy', 'gravitational-potential', 'unruh-radiation', 'two-level-system', 'seiberg-witten-theory', 'radiation-pressure', 'tsunami', 'solar-sails', 'wimps', 'isentropic', 'kerr-newman-metric', 'mass-spectrometry', 'cpt-violation', 'bloch-oscillation', 'bao', 'central-charge', 'debye-length', 'ferromagnetism', 'meteoroids', 'mnemonic', 'hadronization', 'grav-wave-detectors', 'geometric-topology', 'floquet-theory', 'supersymmetric-particles', 'transit', 'tevatron', 'quasicrystals', 'rheology', 'weak-lensing', 'fracture', 'gauss-bonnet', 'granulated-materials', 'nuclear-structure', 'magnets', 'lamb-shift', 'electromagnetic-field', 'cosmic-string', 'ballistics', 'birrefringence', 'landauers-principle', 'non-gaussianity', 'frw-universe', 'wightman-fields', 'wetting', 'reflectance', 'spin-liquid', 'sine-gordon', 'stellar-wind', 'rabi-model', 'free-electron-lasers', 'hopf-algebra', 'impedance-spectroscopy', 'irreversible', 'bifurcation', 'brown-dwarfs', 'correspondence-principle', 'couette-flow', 'econo-physics', 'duration', 'chirp', 'backscattering', 'affine-lie-algebra', 'antimatter-storage', 'pentaquarks', 'synthetic-gauge-fields', 'spin-ice', 'topological-charges', 'quasi-periodic', 'self-capacitance', 'feedback', 'heterotic-string', 'lamb-waves', 'logic-gates', 'machos']\n",
        "all_tags = set(all_tags)\n",
        "\n",
        "\n",
        "in_file = open(\"Test100.csv\")\n",
        "out_file = open(\"final.csv\", \"w\")\n",
        "reader = csv.DictReader(in_file)\n",
        "writer = csv.writer(out_file)\n",
        "writer.writerow(['id','tags'])\n",
        "\n",
        "def f1_score(tp, fp, fn):\n",
        "    p = (tp*1.) / (tp+fp)\n",
        "    r = (tp*1.) / (tp+fn)\n",
        "    f1 = (2*p*r)/(p+r)\n",
        "    return f1\n",
        "\n",
        "def clean_html(raw_html):\n",
        "    cleanr = re.compile('<.*?>')\n",
        "    cleantext = re.sub(cleanr, '', raw_html)\n",
        "    return cleantext\n",
        "\n",
        "def get_words(text):\n",
        "    word_split = re.compile('[^a-zA-Z0-9_\\\\+\\\\-/]')\n",
        "    return [word.strip().lower() for word in word_split.split(text)]\n",
        "\t\n",
        "top_tags = ['C', 'C++', 'Java', 'JavaScript', 'C#', 'php', 'android', 'jquery', 'python', 'html', 'ios']\n",
        "for ind, row in enumerate(reader):\n",
        "    text = clean_html(row[\"Title\"])\n",
        "    tfrequency_dict = defaultdict(int)\n",
        "    word_count = 0.\n",
        "    for word in get_words(text):\n",
        "        if word.isalpha() and word in all_tags:\n",
        "            tfrequency_dict[word] += 1\n",
        "            word_count += 1.\n",
        "    for word in tfrequency_dict:\n",
        "    \ttf = tfrequency_dict[word] / word_count\n",
        "    \ttfrequency_dict[word] = tf \n",
        "    pred_title_tags = sorted(tfrequency_dict, key=tfrequency_dict.get, reverse=True)[:10]\n",
        "    print(pred_title_tags)\n",
        "    \n",
        "    text = clean_html(row[\"Body\"])\n",
        "    dfrequency_dict = defaultdict(int)\n",
        "    word_count = 0.\n",
        "    for word in get_words(text):\n",
        "        if word.isalpha() and word in all_tags:\n",
        "            dfrequency_dict[word] += 1\n",
        "            word_count += 1.\n",
        "    for word in dfrequency_dict:\n",
        "    \ttf = dfrequency_dict[word] / word_count\n",
        "    \tdfrequency_dict[word] = tf \n",
        "    pred_content_tags = sorted(dfrequency_dict, key=dfrequency_dict.get, reverse=True)[:10]\n",
        "    #print(pred_content_tags)\n",
        "    pred_tags_dict = {}\n",
        "    for word in set(pred_title_tags + pred_content_tags):\n",
        "    \tpred_tags_dict[word] = tfrequency_dict.get(word,0) + dfrequency_dict.get(word,0)\n",
        "    pred_tags = set(sorted(pred_tags_dict, key=pred_tags_dict.get, reverse=True)[:3])\n",
        "    \n",
        "    \n",
        "    length = len(pred_tags)\n",
        "    for tag in top_tags[:3 - length]:\n",
        "        pred_tags.add(tag)\n",
        "    \n",
        "    writer.writerow([row['Title'], \" \".join(pred_tags)])\n",
        "    if ind%50000 == 0:\n",
        "    \tprint(\"Processed : \", ind)"
      ],
      "execution_count": 0,
      "outputs": [
        {
          "output_type": "stream",
          "text": [
            "['linq', 'sql', 'load', 'one']\n",
            "Processed :  0\n",
            "[]\n",
            "['error', 'net']\n",
            "['stop']\n",
            "['pagination']\n",
            "['best', 'way', 'package']\n",
            "['suppress', 'ntlm']\n",
            "['point']\n",
            "[]\n",
            "['control', 'subversion']\n",
            "['java']\n",
            "[]\n",
            "['get']\n",
            "['test']\n",
            "['know', 'plane']\n",
            "['java']\n",
            "[]\n",
            "['newline', 'asp', 'net']\n",
            "['asp', 'net', 'mvc']\n",
            "['studio']\n",
            "['javascript', 'error']\n",
            "['mysql', 'log', 'replication']\n",
            "['test', 'object']\n",
            "['inside', 'panel']\n",
            "['way', 'use', 'linq', 'oracle']\n",
            "[]\n",
            "['error']\n",
            "['control', 'open']\n",
            "['form']\n",
            "['outlook', 'multiple']\n",
            "[]\n",
            "['create', 'subversion']\n",
            "['python']\n",
            "['php']\n",
            "['library']\n",
            "['net', 'raw']\n",
            "['make', 'know', 'class']\n",
            "['create']\n",
            "['race']\n",
            "['best', 'python']\n",
            "['pair', 'program']\n",
            "[]\n",
            "['file', 'perl']\n",
            "['comparison', 'javascript']\n",
            "['programmatically', 'file']\n",
            "[]\n",
            "[]\n",
            "['status']\n",
            "['get', 'record']\n",
            "['print']\n",
            "['mysql', 'oversee']\n",
            "['python']\n",
            "['class']\n",
            "[]\n",
            "[]\n",
            "['wcf']\n",
            "['svn']\n",
            "[]\n",
            "[]\n",
            "['comparison']\n",
            "[]\n"
          ],
          "name": "stdout"
        }
      ]
    },
    {
      "metadata": {
        "id": "S1co8BucwtiY",
        "colab_type": "code",
        "colab": {}
      },
      "cell_type": "code",
      "source": [
        ""
      ],
      "execution_count": 0,
      "outputs": []
    }
  ]
}